{
 "cells": [
  {
   "cell_type": "code",
   "execution_count": 1,
   "id": "778b4b7d",
   "metadata": {
    "execution": {
     "iopub.execute_input": "2022-05-27T16:59:44.255180Z",
     "iopub.status.busy": "2022-05-27T16:59:44.253636Z",
     "iopub.status.idle": "2022-05-27T17:00:05.171157Z",
     "shell.execute_reply": "2022-05-27T17:00:05.170359Z"
    },
    "papermill": {
     "duration": 20.934624,
     "end_time": "2022-05-27T17:00:05.171315",
     "exception": false,
     "start_time": "2022-05-27T16:59:44.236691",
     "status": "completed"
    },
    "tags": []
   },
   "outputs": [
    {
     "name": "stdout",
     "output_type": "stream",
     "text": [
      "Collecting torchinfo\r\n"
     ]
    },
    {
     "name": "stdout",
     "output_type": "stream",
     "text": [
      "  Downloading torchinfo-1.6.6-py3-none-any.whl (21 kB)\r\n"
     ]
    },
    {
     "name": "stdout",
     "output_type": "stream",
     "text": [
      "Installing collected packages: torchinfo\r\n"
     ]
    },
    {
     "name": "stdout",
     "output_type": "stream",
     "text": [
      "Successfully installed torchinfo-1.6.6\r\n",
      "\u001b[33mWARNING: Running pip as the 'root' user can result in broken permissions and conflicting behaviour with the system package manager. It is recommended to use a virtual environment instead: https://pip.pypa.io/warnings/venv\u001b[0m\r\n"
     ]
    },
    {
     "name": "stdout",
     "output_type": "stream",
     "text": [
      "Requirement already satisfied: optuna in /opt/conda/lib/python3.7/site-packages (2.10.0)\r\n"
     ]
    },
    {
     "name": "stdout",
     "output_type": "stream",
     "text": [
      "Requirement already satisfied: scipy!=1.4.0 in /opt/conda/lib/python3.7/site-packages (from optuna) (1.7.1)\r\n",
      "Requirement already satisfied: cmaes>=0.8.2 in /opt/conda/lib/python3.7/site-packages (from optuna) (0.8.2)\r\n",
      "Requirement already satisfied: sqlalchemy>=1.1.0 in /opt/conda/lib/python3.7/site-packages (from optuna) (1.4.25)\r\n",
      "Requirement already satisfied: tqdm in /opt/conda/lib/python3.7/site-packages (from optuna) (4.62.3)\r\n",
      "Requirement already satisfied: cliff in /opt/conda/lib/python3.7/site-packages (from optuna) (3.9.0)\r\n",
      "Requirement already satisfied: PyYAML in /opt/conda/lib/python3.7/site-packages (from optuna) (5.4.1)\r\n",
      "Requirement already satisfied: colorlog in /opt/conda/lib/python3.7/site-packages (from optuna) (6.5.0)\r\n",
      "Requirement already satisfied: numpy in /opt/conda/lib/python3.7/site-packages (from optuna) (1.19.5)\r\n",
      "Requirement already satisfied: packaging>=20.0 in /opt/conda/lib/python3.7/site-packages (from optuna) (21.0)\r\n",
      "Requirement already satisfied: alembic in /opt/conda/lib/python3.7/site-packages (from optuna) (1.7.4)\r\n",
      "Requirement already satisfied: pyparsing>=2.0.2 in /opt/conda/lib/python3.7/site-packages (from packaging>=20.0->optuna) (2.4.7)\r\n"
     ]
    },
    {
     "name": "stdout",
     "output_type": "stream",
     "text": [
      "Requirement already satisfied: importlib-metadata in /opt/conda/lib/python3.7/site-packages (from sqlalchemy>=1.1.0->optuna) (4.8.1)\r\n",
      "Requirement already satisfied: greenlet!=0.4.17 in /opt/conda/lib/python3.7/site-packages (from sqlalchemy>=1.1.0->optuna) (1.1.1)\r\n",
      "Requirement already satisfied: Mako in /opt/conda/lib/python3.7/site-packages (from alembic->optuna) (1.1.5)\r\n",
      "Requirement already satisfied: importlib-resources in /opt/conda/lib/python3.7/site-packages (from alembic->optuna) (5.2.2)\r\n",
      "Requirement already satisfied: PrettyTable>=0.7.2 in /opt/conda/lib/python3.7/site-packages (from cliff->optuna) (2.2.0)\r\n",
      "Requirement already satisfied: stevedore>=2.0.1 in /opt/conda/lib/python3.7/site-packages (from cliff->optuna) (3.5.0)\r\n",
      "Requirement already satisfied: cmd2>=1.0.0 in /opt/conda/lib/python3.7/site-packages (from cliff->optuna) (2.2.0)\r\n",
      "Requirement already satisfied: pbr!=2.1.0,>=2.0.0 in /opt/conda/lib/python3.7/site-packages (from cliff->optuna) (5.6.0)\r\n",
      "Requirement already satisfied: autopage>=0.4.0 in /opt/conda/lib/python3.7/site-packages (from cliff->optuna) (0.4.0)\r\n"
     ]
    },
    {
     "name": "stdout",
     "output_type": "stream",
     "text": [
      "Requirement already satisfied: pyperclip>=1.6 in /opt/conda/lib/python3.7/site-packages (from cmd2>=1.0.0->cliff->optuna) (1.8.2)\r\n",
      "Requirement already satisfied: colorama>=0.3.7 in /opt/conda/lib/python3.7/site-packages (from cmd2>=1.0.0->cliff->optuna) (0.4.4)\r\n",
      "Requirement already satisfied: typing-extensions in /opt/conda/lib/python3.7/site-packages (from cmd2>=1.0.0->cliff->optuna) (3.10.0.2)\r\n",
      "Requirement already satisfied: attrs>=16.3.0 in /opt/conda/lib/python3.7/site-packages (from cmd2>=1.0.0->cliff->optuna) (21.2.0)\r\n",
      "Requirement already satisfied: wcwidth>=0.1.7 in /opt/conda/lib/python3.7/site-packages (from cmd2>=1.0.0->cliff->optuna) (0.2.5)\r\n"
     ]
    },
    {
     "name": "stdout",
     "output_type": "stream",
     "text": [
      "Requirement already satisfied: zipp>=0.5 in /opt/conda/lib/python3.7/site-packages (from importlib-metadata->sqlalchemy>=1.1.0->optuna) (3.5.0)\r\n"
     ]
    },
    {
     "name": "stdout",
     "output_type": "stream",
     "text": [
      "Requirement already satisfied: MarkupSafe>=0.9.2 in /opt/conda/lib/python3.7/site-packages (from Mako->alembic->optuna) (2.0.1)\r\n"
     ]
    },
    {
     "name": "stdout",
     "output_type": "stream",
     "text": [
      "\u001b[33mWARNING: Running pip as the 'root' user can result in broken permissions and conflicting behaviour with the system package manager. It is recommended to use a virtual environment instead: https://pip.pypa.io/warnings/venv\u001b[0m\r\n"
     ]
    }
   ],
   "source": [
    "!pip install torchinfo\n",
    "!pip install optuna\n",
    "\n",
    "import optuna\n",
    "import glob\n",
    "import re\n",
    "import numpy as np\n",
    "import torch\n",
    "import torchvision.transforms as transforms\n",
    "import torch.nn as nn\n",
    "import torch.nn.functional as F\n",
    "\n",
    "import copy\n",
    "from torch.utils.data import DataLoader, Dataset, SubsetRandomSampler\n",
    "from torchinfo import summary\n",
    "from PIL import Image\n",
    "from collections import Counter\n",
    "from sklearn.model_selection import KFold\n",
    "import matplotlib.pyplot as plt\n",
    "from scipy.interpolate import make_interp_spline\n",
    "\n",
    "use_cuda = torch.cuda.is_available()\n",
    "device = torch.device(\"cuda:0\" if use_cuda else \"cpu\")\n",
    "torch.backends.cudnn.benchmark = True\n"
   ]
  },
  {
   "cell_type": "code",
   "execution_count": 2,
   "id": "4c195719",
   "metadata": {
    "execution": {
     "iopub.execute_input": "2022-05-27T17:00:05.204603Z",
     "iopub.status.busy": "2022-05-27T17:00:05.203897Z",
     "iopub.status.idle": "2022-05-27T17:00:08.963184Z",
     "shell.execute_reply": "2022-05-27T17:00:08.962616Z",
     "shell.execute_reply.started": "2021-11-15T20:57:35.420569Z"
    },
    "papermill": {
     "duration": 3.777639,
     "end_time": "2022-05-27T17:00:08.963329",
     "exception": false,
     "start_time": "2022-05-27T17:00:05.185690",
     "status": "completed"
    },
    "tags": []
   },
   "outputs": [
    {
     "name": "stdout",
     "output_type": "stream",
     "text": [
      "Cloning into 'early-stopping-pytorch'...\r\n"
     ]
    },
    {
     "name": "stdout",
     "output_type": "stream",
     "text": [
      "remote: Enumerating objects: 92, done.\u001b[K\r\n",
      "Unpacking objects:   1% (1/92)   \r",
      "Unpacking objects:   2% (2/92)   \r",
      "Unpacking objects:   3% (3/92)   \r",
      "Unpacking objects:   4% (4/92)   \r",
      "Unpacking objects:   5% (5/92)   \r",
      "Unpacking objects:   6% (6/92)   \r",
      "Unpacking objects:   7% (7/92)   \r",
      "Unpacking objects:   8% (8/92)   \r",
      "Unpacking objects:   9% (9/92)   \r",
      "Unpacking objects:  10% (10/92)   \r",
      "Unpacking objects:  11% (11/92)   \r",
      "Unpacking objects:  13% (12/92)   \r",
      "Unpacking objects:  14% (13/92)   \r",
      "Unpacking objects:  15% (14/92)   \r",
      "Unpacking objects:  16% (15/92)   \r"
     ]
    },
    {
     "name": "stdout",
     "output_type": "stream",
     "text": [
      "Unpacking objects:  17% (16/92)   \r",
      "Unpacking objects:  18% (17/92)   \r",
      "Unpacking objects:  19% (18/92)   \r",
      "Unpacking objects:  20% (19/92)   \r",
      "Unpacking objects:  21% (20/92)   \r",
      "Unpacking objects:  22% (21/92)   \r",
      "Unpacking objects:  23% (22/92)   \r",
      "Unpacking objects:  25% (23/92)   \r",
      "Unpacking objects:  26% (24/92)   \r",
      "Unpacking objects:  27% (25/92)   \r",
      "Unpacking objects:  28% (26/92)   \r",
      "Unpacking objects:  29% (27/92)   \r",
      "Unpacking objects:  30% (28/92)   \r",
      "Unpacking objects:  31% (29/92)   \r",
      "Unpacking objects:  32% (30/92)   \r",
      "Unpacking objects:  33% (31/92)   \r",
      "Unpacking objects:  34% (32/92)   \r",
      "Unpacking objects:  35% (33/92)   \r",
      "Unpacking objects:  36% (34/92)   \r",
      "Unpacking objects:  38% (35/92)   \r",
      "Unpacking objects:  39% (36/92)   \r",
      "Unpacking objects:  40% (37/92)   \r",
      "Unpacking objects:  41% (38/92)   \r",
      "Unpacking objects:  42% (39/92)   \r",
      "Unpacking objects:  43% (40/92)   \r",
      "Unpacking objects:  44% (41/92)   \r"
     ]
    },
    {
     "name": "stdout",
     "output_type": "stream",
     "text": [
      "Unpacking objects:  45% (42/92)   \r",
      "Unpacking objects:  46% (43/92)   \r",
      "Unpacking objects:  47% (44/92)   \r"
     ]
    },
    {
     "name": "stdout",
     "output_type": "stream",
     "text": [
      "remote: Total 92 (delta 0), reused 0 (delta 0), pack-reused 92\u001b[K\r\n"
     ]
    },
    {
     "name": "stdout",
     "output_type": "stream",
     "text": [
      "Unpacking objects:  48% (45/92)   \r",
      "Unpacking objects:  50% (46/92)   \r",
      "Unpacking objects:  51% (47/92)   \r",
      "Unpacking objects:  52% (48/92)   \r",
      "Unpacking objects:  53% (49/92)   \r",
      "Unpacking objects:  54% (50/92)   \r",
      "Unpacking objects:  55% (51/92)   \r",
      "Unpacking objects:  56% (52/92)   \r",
      "Unpacking objects:  57% (53/92)   \r",
      "Unpacking objects:  58% (54/92)   \r",
      "Unpacking objects:  59% (55/92)   \r",
      "Unpacking objects:  60% (56/92)   \r",
      "Unpacking objects:  61% (57/92)   \r",
      "Unpacking objects:  63% (58/92)   \r",
      "Unpacking objects:  64% (59/92)   \r",
      "Unpacking objects:  65% (60/92)   \r",
      "Unpacking objects:  66% (61/92)   \r",
      "Unpacking objects:  67% (62/92)   \r",
      "Unpacking objects:  68% (63/92)   \r",
      "Unpacking objects:  69% (64/92)   \r",
      "Unpacking objects:  70% (65/92)   \r",
      "Unpacking objects:  71% (66/92)   \r",
      "Unpacking objects:  72% (67/92)   \r",
      "Unpacking objects:  73% (68/92)   \r",
      "Unpacking objects:  75% (69/92)   \r",
      "Unpacking objects:  76% (70/92)   \r",
      "Unpacking objects:  77% (71/92)   \r",
      "Unpacking objects:  78% (72/92)   \r",
      "Unpacking objects:  79% (73/92)   \r",
      "Unpacking objects:  80% (74/92)   \r",
      "Unpacking objects:  81% (75/92)   \r",
      "Unpacking objects:  82% (76/92)   \r",
      "Unpacking objects:  83% (77/92)   \r",
      "Unpacking objects:  84% (78/92)   \r",
      "Unpacking objects:  85% (79/92)   \r",
      "Unpacking objects:  86% (80/92)   \r",
      "Unpacking objects:  88% (81/92)   \r",
      "Unpacking objects:  89% (82/92)   \r",
      "Unpacking objects:  90% (83/92)   \r",
      "Unpacking objects:  91% (84/92)   \r",
      "Unpacking objects:  92% (85/92)   \r",
      "Unpacking objects:  93% (86/92)   \r",
      "Unpacking objects:  94% (87/92)   \r",
      "Unpacking objects:  95% (88/92)   \r",
      "Unpacking objects:  96% (89/92)   \r",
      "Unpacking objects:  97% (90/92)   \r",
      "Unpacking objects:  98% (91/92)   \r",
      "Unpacking objects: 100% (92/92)   \r",
      "Unpacking objects: 100% (92/92), done.\r\n"
     ]
    },
    {
     "name": "stdout",
     "output_type": "stream",
     "text": [
      "/kaggle/working/early-stopping-pytorch\n"
     ]
    }
   ],
   "source": [
    "!git clone https://github.com/Bjarten/early-stopping-pytorch/\n",
    "%cd ./early-stopping-pytorch/\n",
    "!python pytorchtools.py install\n",
    "from pytorchtools import EarlyStopping"
   ]
  },
  {
   "cell_type": "code",
   "execution_count": 3,
   "id": "24d9915d",
   "metadata": {
    "execution": {
     "iopub.execute_input": "2022-05-27T17:00:08.999845Z",
     "iopub.status.busy": "2022-05-27T17:00:08.998880Z",
     "iopub.status.idle": "2022-05-27T17:00:09.003216Z",
     "shell.execute_reply": "2022-05-27T17:00:09.003599Z",
     "shell.execute_reply.started": "2021-11-15T20:59:12.149433Z"
    },
    "papermill": {
     "duration": 0.025501,
     "end_time": "2022-05-27T17:00:09.003741",
     "exception": false,
     "start_time": "2022-05-27T17:00:08.978240",
     "status": "completed"
    },
    "tags": []
   },
   "outputs": [
    {
     "name": "stdout",
     "output_type": "stream",
     "text": [
      "/kaggle/working\n"
     ]
    }
   ],
   "source": [
    "%cd ../"
   ]
  },
  {
   "cell_type": "code",
   "execution_count": 4,
   "id": "8280866c",
   "metadata": {
    "execution": {
     "iopub.execute_input": "2022-05-27T17:00:09.036192Z",
     "iopub.status.busy": "2022-05-27T17:00:09.035382Z",
     "iopub.status.idle": "2022-05-27T17:00:09.041225Z",
     "shell.execute_reply": "2022-05-27T17:00:09.040733Z",
     "shell.execute_reply.started": "2021-11-15T21:00:03.710522Z"
    },
    "papermill": {
     "duration": 0.023072,
     "end_time": "2022-05-27T17:00:09.041345",
     "exception": false,
     "start_time": "2022-05-27T17:00:09.018273",
     "status": "completed"
    },
    "tags": []
   },
   "outputs": [],
   "source": [
    "def img_files(path):  \n",
    "  img=[]\n",
    "  tag=[]\n",
    "  for file in sorted(glob.glob(path)):\n",
    "    img.append(file)\n",
    "    s=re.match(\"^.*?-\",file).group()\n",
    "    if s in tag:\n",
    "      continue\n",
    "    else:\n",
    "      tag.append(s)\n",
    "\n",
    "  \n",
    "  return img,tag"
   ]
  },
  {
   "cell_type": "code",
   "execution_count": 5,
   "id": "d514a9b5",
   "metadata": {
    "execution": {
     "iopub.execute_input": "2022-05-27T17:00:09.076619Z",
     "iopub.status.busy": "2022-05-27T17:00:09.075784Z",
     "iopub.status.idle": "2022-05-27T17:00:09.077610Z",
     "shell.execute_reply": "2022-05-27T17:00:09.078105Z"
    },
    "papermill": {
     "duration": 0.022002,
     "end_time": "2022-05-27T17:00:09.078244",
     "exception": false,
     "start_time": "2022-05-27T17:00:09.056242",
     "status": "completed"
    },
    "tags": []
   },
   "outputs": [],
   "source": [
    "def reset_weights(m):\n",
    "    if isinstance(m, nn.LSTM) or isinstance(m, nn.Linear):\n",
    "        m.reset_parameters()"
   ]
  },
  {
   "cell_type": "code",
   "execution_count": 6,
   "id": "5e2eab1a",
   "metadata": {
    "execution": {
     "iopub.execute_input": "2022-05-27T17:00:09.115091Z",
     "iopub.status.busy": "2022-05-27T17:00:09.114169Z",
     "iopub.status.idle": "2022-05-27T17:00:09.116152Z",
     "shell.execute_reply": "2022-05-27T17:00:09.116598Z",
     "shell.execute_reply.started": "2021-11-15T21:00:08.056695Z"
    },
    "papermill": {
     "duration": 0.023191,
     "end_time": "2022-05-27T17:00:09.116736",
     "exception": false,
     "start_time": "2022-05-27T17:00:09.093545",
     "status": "completed"
    },
    "tags": []
   },
   "outputs": [],
   "source": [
    "def preprocess_data(data):\n",
    "  l=[]\n",
    "  data=np.reshape(np.array(data),(-1,20))\n",
    "  for i in data:\n",
    "    s=re.search(\"(?<=-).?\",i[0])\n",
    "    if s.group()=='N':\n",
    "      l.append(0)\n",
    "    else:\n",
    "      l.append(1)\n",
    "  \n",
    "  label=np.array(l,dtype=np.float32)\n",
    "\n",
    "  return data,label"
   ]
  },
  {
   "cell_type": "code",
   "execution_count": 7,
   "id": "844464ed",
   "metadata": {
    "execution": {
     "iopub.execute_input": "2022-05-27T17:00:09.155678Z",
     "iopub.status.busy": "2022-05-27T17:00:09.154817Z",
     "iopub.status.idle": "2022-05-27T17:00:09.157275Z",
     "shell.execute_reply": "2022-05-27T17:00:09.156784Z",
     "shell.execute_reply.started": "2021-11-15T21:00:13.450724Z"
    },
    "papermill": {
     "duration": 0.024227,
     "end_time": "2022-05-27T17:00:09.157394",
     "exception": false,
     "start_time": "2022-05-27T17:00:09.133167",
     "status": "completed"
    },
    "tags": []
   },
   "outputs": [],
   "source": [
    "class RoboDataset(Dataset):\n",
    "  def __init__(self, file,labels,transform):\n",
    "    self.imagefiles=file\n",
    "    self.labels=labels\n",
    "    self.transform=transform\n",
    "  def __len__(self):\n",
    "    return len(self.imagefiles)\n",
    "  def __getitem__(self,idx):\n",
    "    l=[]\n",
    "    for i in self.imagefiles[idx]:\n",
    "      img=Image.open(i)\n",
    "      l.append(img)\n",
    "    frame=[]\n",
    "    for j in l:\n",
    "      j=self.transform(j)\n",
    "      frame.append(j)\n",
    "    frame=torch.stack(frame)\n",
    "\n",
    "    return frame,self.labels[idx]"
   ]
  },
  {
   "cell_type": "code",
   "execution_count": 8,
   "id": "4bca3b4e",
   "metadata": {
    "execution": {
     "iopub.execute_input": "2022-05-27T17:00:09.197817Z",
     "iopub.status.busy": "2022-05-27T17:00:09.196985Z",
     "iopub.status.idle": "2022-05-27T17:00:09.199051Z",
     "shell.execute_reply": "2022-05-27T17:00:09.199438Z"
    },
    "papermill": {
     "duration": 0.027122,
     "end_time": "2022-05-27T17:00:09.199575",
     "exception": false,
     "start_time": "2022-05-27T17:00:09.172453",
     "status": "completed"
    },
    "tags": []
   },
   "outputs": [],
   "source": [
    "class LSTM(nn.Module):\n",
    "  def __init__(self,hidden_size,num_layers,num_classes):\n",
    "    super(LSTM, self).__init__()\n",
    "    \n",
    "    self.hidden_size=hidden_size\n",
    "    self.num_layers=num_layers\n",
    "    self.num_classes=num_classes\n",
    "    self.backbone = torch.hub.load('/kaggle/working/trainval/yolov5/yolov5/', 'custom', source='local', path='/kaggle/working/trainval/yolov5n_backbone.pt', force_reload=True, autoshape=False)\n",
    "    features=256\n",
    "    for param in self.backbone.parameters():\n",
    "      param.requires_grad = False\n",
    "    self.pool=nn.AdaptiveAvgPool2d(1)\n",
    "    self.flat=nn.Flatten()\n",
    "    self.lstm = nn.LSTM(input_size=features, hidden_size=hidden_size,num_layers=num_layers, batch_first=True)    \n",
    "    self.fc = nn.Linear(hidden_size, num_classes)\n",
    "\n",
    "  def forward(self,x):\n",
    "    batch, seq, C,H, W = x.size()\n",
    "    c_in = x.view(batch * seq, C, H, W)\n",
    "    bone_out = self.backbone(c_in)\n",
    "    pool_out=self.pool(bone_out)\n",
    "    flat_out=torch.flatten(pool_out)\n",
    "    r_out, (h_n, h_c) = self.lstm(flat_out.view(batch,seq,-1))\n",
    "    out = r_out[:, -1, :]\n",
    "    out=self.fc(out)\n",
    "    return out"
   ]
  },
  {
   "cell_type": "code",
   "execution_count": 9,
   "id": "e789eb14",
   "metadata": {
    "execution": {
     "iopub.execute_input": "2022-05-27T17:00:09.242865Z",
     "iopub.status.busy": "2022-05-27T17:00:09.233801Z",
     "iopub.status.idle": "2022-05-27T17:00:09.245321Z",
     "shell.execute_reply": "2022-05-27T17:00:09.244855Z"
    },
    "papermill": {
     "duration": 0.03062,
     "end_time": "2022-05-27T17:00:09.245441",
     "exception": false,
     "start_time": "2022-05-27T17:00:09.214821",
     "status": "completed"
    },
    "tags": []
   },
   "outputs": [],
   "source": [
    "def train_model(modelo,earlystop,epochs,trainloader,validloader,optimizer,criterion):\n",
    "\n",
    "  early_stopping = EarlyStopping(patience=earlystop)\n",
    "  history = {'train_loss': [], 'test_loss': [],'train_acc':[],'test_acc':[]}\n",
    "  for i in range(1,epochs):\n",
    "    modelo.train()\n",
    "    t_loss=0\n",
    "    t_correct=0\n",
    "    t_total=0\n",
    "  \n",
    "    for j,(inputs,labels) in enumerate(trainloader):\n",
    "      inputs=inputs.to(device)\n",
    "      labels=labels.unsqueeze(1).to(device)\n",
    "      \n",
    "      optimizer.zero_grad()\n",
    "      outputs=modelo(inputs)\n",
    "      loss=criterion(outputs,labels)\n",
    "      pred=(outputs>0.0).float()\n",
    "\n",
    "      loss.backward()\n",
    "      optimizer.step()\n",
    "\n",
    "      t_loss += loss.item()\n",
    "      t_correct+=(pred==labels).sum().item()\n",
    "      t_total+=labels.size(0)\n",
    "\n",
    "    train_loss=t_loss/len(trainloader)\n",
    "    tr_acc=100.*t_correct/t_total\n",
    "\n",
    "\n",
    "    print(\"Epoch: %d Training, loss: %1.5f, correct/total: %d / %d, accuracy:%1.3f \" % (i, train_loss,t_correct,t_total,tr_acc))\n",
    "      \n",
    "    modelo.eval()\n",
    "    v_loss=0\n",
    "    v_correct=0\n",
    "    v_total=0\n",
    "\n",
    "    with torch.no_grad():\n",
    "      for inputs,labels in validloader:\n",
    "        inputs=inputs.to(device)\n",
    "        labels=labels.unsqueeze(1).to(device) \n",
    "      \n",
    "        outputs=modelo(inputs)\n",
    "\n",
    "        loss=criterion(outputs,labels)\n",
    "        pred=(outputs>0.0).float()\n",
    "\n",
    "        v_correct+=(pred==labels).sum().item()\n",
    "        v_loss += loss.item()\n",
    "        v_total+=labels.size(0)\n",
    "\n",
    "    val_loss=v_loss/len(validloader)\n",
    "    v_acc=100.*v_correct/v_total\n",
    "\n",
    "\n",
    "        \n",
    "    print(\"Epoch: %d Validation, loss: %1.5f, correct/total: %d / %d, accuracy:%1.3f \" % (i, val_loss,v_correct,v_total,v_acc))\n",
    "    history['train_loss'].append(train_loss)\n",
    "    history['test_loss'].append(val_loss)\n",
    "    history['train_acc'].append(tr_acc)\n",
    "    history['test_acc'].append(v_acc)\n",
    "    early_stopping(val_loss, modelo)\n",
    "          \n",
    "    if early_stopping.early_stop:\n",
    "        print(\"Early stopping\")\n",
    "        break\n",
    "        \n",
    "  return modelo,history"
   ]
  },
  {
   "cell_type": "code",
   "execution_count": 10,
   "id": "18e826ec",
   "metadata": {
    "execution": {
     "iopub.execute_input": "2022-05-27T17:00:09.279688Z",
     "iopub.status.busy": "2022-05-27T17:00:09.279175Z",
     "iopub.status.idle": "2022-05-27T17:01:34.466530Z",
     "shell.execute_reply": "2022-05-27T17:01:34.467020Z",
     "shell.execute_reply.started": "2021-11-15T21:24:52.489154Z"
    },
    "papermill": {
     "duration": 85.206729,
     "end_time": "2022-05-27T17:01:34.467173",
     "exception": false,
     "start_time": "2022-05-27T17:00:09.260444",
     "status": "completed"
    },
    "tags": []
   },
   "outputs": [
    {
     "data": {
      "text/plain": [
       "['/kaggle/working/trainval/trainval/trainval/V275-R0761.png',\n",
       " '/kaggle/working/trainval/trainval/trainval/V685-R5045.png',\n",
       " '/kaggle/working/trainval/trainval/trainval/V340-N20351.png',\n",
       " '/kaggle/working/trainval/trainval/trainval/V104-N2101.png',\n",
       " '/kaggle/working/trainval/trainval/trainval/V850-N0301.png',\n",
       " '/kaggle/working/trainval/trainval/trainval/V295-R1140.png',\n",
       " '/kaggle/working/trainval/trainval/trainval/V191-R0476.png',\n",
       " '/kaggle/working/trainval/trainval/trainval/V334-N0610.png',\n",
       " '/kaggle/working/trainval/trainval/trainval/V691-R0490.png',\n",
       " '/kaggle/working/trainval/trainval/trainval/V478-N1241.png',\n",
       " '/kaggle/working/trainval/trainval/trainval/V346-N0721.png',\n",
       " '/kaggle/working/trainval/trainval/trainval/V810-N0276.png',\n",
       " '/kaggle/working/trainval/trainval/trainval/V397-R0685.png',\n",
       " '/kaggle/working/trainval/trainval/trainval/V736-N0121.png',\n",
       " '/kaggle/working/trainval/trainval/trainval/V552-N0276.png',\n",
       " '/kaggle/working/trainval/trainval/trainval/V143-R3800.png',\n",
       " '/kaggle/working/trainval/trainval/trainval/V432-N0776.png',\n",
       " '/kaggle/working/trainval/trainval/trainval/V621-R0641.png',\n",
       " '/kaggle/working/trainval/trainval/trainval/V906-N0626.png',\n",
       " '/kaggle/working/trainval/trainval/trainval/V500-N0076.png',\n",
       " '/kaggle/working/trainval/trainval/trainval/V352-N0726.png',\n",
       " '/kaggle/working/trainval/trainval/trainval/V610-N0151.png',\n",
       " '/kaggle/working/trainval/trainval/trainval/V152-N0376.png',\n",
       " '/kaggle/working/trainval/trainval/trainval/V890-N2681.png',\n",
       " '/kaggle/working/trainval/trainval/trainval/V166-N0251.png',\n",
       " '/kaggle/working/trainval/trainval/trainval/V458-N0151.png',\n",
       " '/kaggle/working/trainval/trainval/trainval/V351-R0426.png',\n",
       " '/kaggle/working/trainval/trainval/trainval/V669-R0701.png',\n",
       " '/kaggle/working/trainval/trainval/trainval/V674-N0351.png',\n",
       " '/kaggle/working/trainval/trainval/trainval/V459-R0410.png',\n",
       " '/kaggle/working/trainval/trainval/trainval/V397-R0475.png',\n",
       " '/kaggle/working/trainval/trainval/trainval/V443-R2000.png',\n",
       " '/kaggle/working/trainval/trainval/trainval/V77-R1145.png',\n",
       " '/kaggle/working/trainval/trainval/trainval/V456-N0251.png',\n",
       " '/kaggle/working/trainval/trainval/trainval/V576-N0251.png',\n",
       " '/kaggle/working/trainval/trainval/trainval/V754-N0241.png',\n",
       " '/kaggle/working/trainval/trainval/trainval/V616-N0026.png',\n",
       " '/kaggle/working/trainval/trainval/trainval/V448-N0251.png',\n",
       " '/kaggle/working/trainval/trainval/trainval/V566-N3526.png',\n",
       " '/kaggle/working/trainval/trainval/trainval/V634-N0481.png',\n",
       " '/kaggle/working/trainval/trainval/trainval/V522-N0911.png',\n",
       " '/kaggle/working/trainval/trainval/trainval/V446-N0251.png',\n",
       " '/kaggle/working/trainval/trainval/trainval/V594-N0176.png',\n",
       " '/kaggle/working/trainval/trainval/trainval/V654-N0471.png',\n",
       " '/kaggle/working/trainval/trainval/trainval/V193-R2380.png',\n",
       " '/kaggle/working/trainval/trainval/trainval/V904-N0926.png',\n",
       " '/kaggle/working/trainval/trainval/trainval/V290-N0801.png',\n",
       " '/kaggle/working/trainval/trainval/trainval/V224-N0426.png',\n",
       " '/kaggle/working/trainval/trainval/trainval/V515-R1300.png',\n",
       " '/kaggle/working/trainval/trainval/trainval/V541-R0161.png',\n",
       " '/kaggle/working/trainval/trainval/trainval/V524-N0101.png',\n",
       " '/kaggle/working/trainval/trainval/trainval/V662-N0201.png',\n",
       " '/kaggle/working/trainval/trainval/trainval/V490-N0126.png',\n",
       " '/kaggle/working/trainval/trainval/trainval/V512-N1081.png',\n",
       " '/kaggle/working/trainval/trainval/trainval/V643-R7310.png',\n",
       " '/kaggle/working/trainval/trainval/trainval/V378-N2001.png',\n",
       " '/kaggle/working/trainval/trainval/trainval/V195-R2500.png',\n",
       " '/kaggle/working/trainval/trainval/trainval/V449-R1460.png',\n",
       " '/kaggle/working/trainval/trainval/trainval/V190-N0376.png',\n",
       " '/kaggle/working/trainval/trainval/trainval/V287-R0761.png',\n",
       " '/kaggle/working/trainval/trainval/trainval/V690-N0076.png',\n",
       " '/kaggle/working/trainval/trainval/trainval/V12-N20751.png',\n",
       " '/kaggle/working/trainval/trainval/trainval/V363-R3090.png',\n",
       " '/kaggle/working/trainval/trainval/trainval/V4-N0526.png',\n",
       " '/kaggle/working/trainval/trainval/trainval/V618-N0176.png',\n",
       " '/kaggle/working/trainval/trainval/trainval/V350-N0501.png',\n",
       " '/kaggle/working/trainval/trainval/trainval/V502-N0026.png',\n",
       " '/kaggle/working/trainval/trainval/trainval/V250-N0776.png',\n",
       " '/kaggle/working/trainval/trainval/trainval/V286-N0401.png',\n",
       " '/kaggle/working/trainval/trainval/trainval/V495-R0941.png',\n",
       " '/kaggle/working/trainval/trainval/trainval/V17-R1081.png',\n",
       " '/kaggle/working/trainval/trainval/trainval/V538-N0561.png',\n",
       " '/kaggle/working/trainval/trainval/trainval/V450-N0451.png',\n",
       " '/kaggle/working/trainval/trainval/trainval/V215-R0100.png',\n",
       " '/kaggle/working/trainval/trainval/trainval/V383-R1001.png',\n",
       " '/kaggle/working/trainval/trainval/trainval/V298-N0351.png',\n",
       " '/kaggle/working/trainval/trainval/trainval/V75-R0460.png',\n",
       " '/kaggle/working/trainval/trainval/trainval/V860-N0251.png',\n",
       " '/kaggle/working/trainval/trainval/trainval/V620-N1326.png',\n",
       " '/kaggle/working/trainval/trainval/trainval/V558-N0926.png',\n",
       " '/kaggle/working/trainval/trainval/trainval/V160-N0226.png',\n",
       " '/kaggle/working/trainval/trainval/trainval/V430-N0611.png',\n",
       " '/kaggle/working/trainval/trainval/trainval/V17-R1381.png',\n",
       " '/kaggle/working/trainval/trainval/trainval/V372-N0226.png',\n",
       " '/kaggle/working/trainval/trainval/trainval/V489-R0901.png',\n",
       " '/kaggle/working/trainval/trainval/trainval/V247-R0520.png',\n",
       " '/kaggle/working/trainval/trainval/trainval/V75-R0480.png',\n",
       " '/kaggle/working/trainval/trainval/trainval/V296-N0051.png',\n",
       " '/kaggle/working/trainval/trainval/trainval/V469-R0750.png',\n",
       " '/kaggle/working/trainval/trainval/trainval/V522-N0851.png',\n",
       " '/kaggle/working/trainval/trainval/trainval/V300-N0276.png',\n",
       " '/kaggle/working/trainval/trainval/trainval/V202-N0176.png',\n",
       " '/kaggle/working/trainval/trainval/trainval/V124-N0476.png',\n",
       " '/kaggle/working/trainval/trainval/trainval/V744-N1776.png',\n",
       " '/kaggle/working/trainval/trainval/trainval/V490-N0451.png',\n",
       " '/kaggle/working/trainval/trainval/trainval/V377-R1130.png',\n",
       " '/kaggle/working/trainval/trainval/trainval/V359-R0451.png',\n",
       " '/kaggle/working/trainval/trainval/trainval/V97-R1075.png',\n",
       " '/kaggle/working/trainval/trainval/trainval/V618-N0201.png',\n",
       " '/kaggle/working/trainval/trainval/trainval/V10-N0276.png',\n",
       " '/kaggle/working/trainval/trainval/trainval/V714-N1631.png',\n",
       " '/kaggle/working/trainval/trainval/trainval/V13-R0975.png',\n",
       " '/kaggle/working/trainval/trainval/trainval/V65-R2740.png',\n",
       " '/kaggle/working/trainval/trainval/trainval/V204-N0376.png',\n",
       " '/kaggle/working/trainval/trainval/trainval/V886-N0136.png',\n",
       " '/kaggle/working/trainval/trainval/trainval/V448-N0451.png',\n",
       " '/kaggle/working/trainval/trainval/trainval/V311-R1651.png',\n",
       " '/kaggle/working/trainval/trainval/trainval/V346-N0241.png',\n",
       " '/kaggle/working/trainval/trainval/trainval/V702-N0926.png',\n",
       " '/kaggle/working/trainval/trainval/trainval/V189-R0500.png',\n",
       " '/kaggle/working/trainval/trainval/trainval/V860-N0201.png',\n",
       " '/kaggle/working/trainval/trainval/trainval/V329-R0236.png',\n",
       " '/kaggle/working/trainval/trainval/trainval/V129-R0801.png',\n",
       " '/kaggle/working/trainval/trainval/trainval/V694-N0101.png',\n",
       " '/kaggle/working/trainval/trainval/trainval/V48-N0051.png',\n",
       " '/kaggle/working/trainval/trainval/trainval/V159-R0680.png',\n",
       " '/kaggle/working/trainval/trainval/trainval/V476-N0601.png',\n",
       " '/kaggle/working/trainval/trainval/trainval/V240-N4201.png',\n",
       " '/kaggle/working/trainval/trainval/trainval/V696-N0776.png',\n",
       " '/kaggle/working/trainval/trainval/trainval/V79-R3950.png',\n",
       " '/kaggle/working/trainval/trainval/trainval/V670-N0451.png',\n",
       " '/kaggle/working/trainval/trainval/trainval/V334-N0681.png',\n",
       " '/kaggle/working/trainval/trainval/trainval/V591-R1101.png',\n",
       " '/kaggle/working/trainval/trainval/trainval/V454-N0001.png',\n",
       " '/kaggle/working/trainval/trainval/trainval/V422-N0101.png',\n",
       " '/kaggle/working/trainval/trainval/trainval/V717-R0511.png',\n",
       " '/kaggle/working/trainval/trainval/trainval/V62-N7876.png',\n",
       " '/kaggle/working/trainval/trainval/trainval/V680-N1126.png',\n",
       " '/kaggle/working/trainval/trainval/trainval/V214-N0901.png',\n",
       " '/kaggle/working/trainval/trainval/trainval/V802-N0901.png',\n",
       " '/kaggle/working/trainval/trainval/trainval/V407-R0226.png',\n",
       " '/kaggle/working/trainval/trainval/trainval/V723-R0351.png',\n",
       " '/kaggle/working/trainval/trainval/trainval/V455-R0451.png',\n",
       " '/kaggle/working/trainval/trainval/trainval/V426-N0776.png',\n",
       " '/kaggle/working/trainval/trainval/trainval/V496-N0151.png',\n",
       " '/kaggle/working/trainval/trainval/trainval/V5-R0001.png',\n",
       " '/kaggle/working/trainval/trainval/trainval/V25-R1651.png',\n",
       " '/kaggle/working/trainval/trainval/trainval/V754-N0016.png',\n",
       " '/kaggle/working/trainval/trainval/trainval/V612-N0251.png',\n",
       " '/kaggle/working/trainval/trainval/trainval/V622-N0026.png',\n",
       " '/kaggle/working/trainval/trainval/trainval/V912-N0701.png',\n",
       " '/kaggle/working/trainval/trainval/trainval/V185-R0780.png',\n",
       " '/kaggle/working/trainval/trainval/trainval/V500-N0251.png',\n",
       " '/kaggle/working/trainval/trainval/trainval/V729-R0951.png',\n",
       " '/kaggle/working/trainval/trainval/trainval/V733-R1268.png',\n",
       " '/kaggle/working/trainval/trainval/trainval/V762-N1051.png',\n",
       " '/kaggle/working/trainval/trainval/trainval/V197-R1290.png',\n",
       " '/kaggle/working/trainval/trainval/trainval/V733-R0750.png',\n",
       " '/kaggle/working/trainval/trainval/trainval/V906-N0501.png',\n",
       " '/kaggle/working/trainval/trainval/trainval/V646-N0651.png',\n",
       " '/kaggle/working/trainval/trainval/trainval/V894-N0051.png',\n",
       " '/kaggle/working/trainval/trainval/trainval/V317-R0851.png',\n",
       " '/kaggle/working/trainval/trainval/trainval/V382-N2626.png',\n",
       " '/kaggle/working/trainval/trainval/trainval/V64-N0301.png',\n",
       " '/kaggle/working/trainval/trainval/trainval/V184-N0401.png',\n",
       " '/kaggle/working/trainval/trainval/trainval/V527-R1850.png',\n",
       " '/kaggle/working/trainval/trainval/trainval/V126-N0226.png',\n",
       " '/kaggle/working/trainval/trainval/trainval/V198-N0076.png',\n",
       " '/kaggle/working/trainval/trainval/trainval/V356-N2541.png',\n",
       " '/kaggle/working/trainval/trainval/trainval/V295-R0750.png',\n",
       " '/kaggle/working/trainval/trainval/trainval/V528-N1026.png',\n",
       " '/kaggle/working/trainval/trainval/trainval/V619-R0201.png',\n",
       " '/kaggle/working/trainval/trainval/trainval/V300-N0301.png',\n",
       " '/kaggle/working/trainval/trainval/trainval/V633-R0600.png',\n",
       " '/kaggle/working/trainval/trainval/trainval/V121-R1100.png',\n",
       " '/kaggle/working/trainval/trainval/trainval/V131-R0802.png',\n",
       " '/kaggle/working/trainval/trainval/trainval/V657-R1201.png',\n",
       " '/kaggle/working/trainval/trainval/trainval/V287-R0201.png',\n",
       " '/kaggle/working/trainval/trainval/trainval/V561-R0750.png',\n",
       " '/kaggle/working/trainval/trainval/trainval/V583-R2851.png',\n",
       " '/kaggle/working/trainval/trainval/trainval/V714-N1691.png',\n",
       " '/kaggle/working/trainval/trainval/trainval/V590-N1101.png',\n",
       " '/kaggle/working/trainval/trainval/trainval/V645-R0251.png',\n",
       " '/kaggle/working/trainval/trainval/trainval/V436-N3326.png',\n",
       " '/kaggle/working/trainval/trainval/trainval/V533-R0640.png',\n",
       " '/kaggle/working/trainval/trainval/trainval/V402-N0371.png',\n",
       " '/kaggle/working/trainval/trainval/trainval/V850-N0426.png',\n",
       " '/kaggle/working/trainval/trainval/trainval/V409-R0451.png',\n",
       " '/kaggle/working/trainval/trainval/trainval/V296-N0301.png',\n",
       " '/kaggle/working/trainval/trainval/trainval/V700-N0851.png',\n",
       " '/kaggle/working/trainval/trainval/trainval/V308-N0051.png',\n",
       " '/kaggle/working/trainval/trainval/trainval/V120-N0081.png',\n",
       " '/kaggle/working/trainval/trainval/trainval/V213-R0041.png',\n",
       " '/kaggle/working/trainval/trainval/trainval/V400-N0451.png',\n",
       " '/kaggle/working/trainval/trainval/trainval/V493-R2545.png',\n",
       " '/kaggle/working/trainval/trainval/trainval/V160-N0301.png',\n",
       " '/kaggle/working/trainval/trainval/trainval/V665-R0176.png',\n",
       " '/kaggle/working/trainval/trainval/trainval/V691-R0640.png',\n",
       " '/kaggle/working/trainval/trainval/trainval/V437-R12426.png',\n",
       " '/kaggle/working/trainval/trainval/trainval/V408-N0351.png',\n",
       " '/kaggle/working/trainval/trainval/trainval/V16-N0751.png',\n",
       " '/kaggle/working/trainval/trainval/trainval/V208-N0276.png',\n",
       " '/kaggle/working/trainval/trainval/trainval/V229-R2280.png',\n",
       " '/kaggle/working/trainval/trainval/trainval/V691-R0400.png',\n",
       " '/kaggle/working/trainval/trainval/trainval/V287-R0161.png',\n",
       " '/kaggle/working/trainval/trainval/trainval/V748-N0166.png',\n",
       " '/kaggle/working/trainval/trainval/trainval/V105-R1190.png',\n",
       " '/kaggle/working/trainval/trainval/trainval/V637-R7401.png',\n",
       " '/kaggle/working/trainval/trainval/trainval/V505-R4370.png',\n",
       " '/kaggle/working/trainval/trainval/trainval/V436-N3401.png',\n",
       " '/kaggle/working/trainval/trainval/trainval/V694-N0476.png',\n",
       " '/kaggle/working/trainval/trainval/trainval/V175-R0551.png',\n",
       " '/kaggle/working/trainval/trainval/trainval/V496-N0376.png',\n",
       " '/kaggle/working/trainval/trainval/trainval/V113-R0161.png',\n",
       " '/kaggle/working/trainval/trainval/trainval/V704-N0041.png',\n",
       " '/kaggle/working/trainval/trainval/trainval/V438-N0101.png',\n",
       " '/kaggle/working/trainval/trainval/trainval/V347-R7365.png',\n",
       " '/kaggle/working/trainval/trainval/trainval/V695-R2940.png',\n",
       " '/kaggle/working/trainval/trainval/trainval/V364-N0901.png',\n",
       " '/kaggle/working/trainval/trainval/trainval/V548-N0251.png',\n",
       " '/kaggle/working/trainval/trainval/trainval/V926-N0191.png',\n",
       " '/kaggle/working/trainval/trainval/trainval/V836-N0476.png',\n",
       " '/kaggle/working/trainval/trainval/trainval/V88-N1901.png',\n",
       " '/kaggle/working/trainval/trainval/trainval/V818-N0826.png',\n",
       " '/kaggle/working/trainval/trainval/trainval/V884-N0241.png',\n",
       " '/kaggle/working/trainval/trainval/trainval/V268-N0051.png',\n",
       " '/kaggle/working/trainval/trainval/trainval/V627-R3950.png',\n",
       " '/kaggle/working/trainval/trainval/trainval/V168-N0451.png',\n",
       " '/kaggle/working/trainval/trainval/trainval/V595-R0298.png',\n",
       " '/kaggle/working/trainval/trainval/trainval/V416-N0076.png',\n",
       " '/kaggle/working/trainval/trainval/trainval/V114-N1251.png',\n",
       " '/kaggle/working/trainval/trainval/trainval/V258-N1176.png',\n",
       " '/kaggle/working/trainval/trainval/trainval/V111-R1720.png',\n",
       " '/kaggle/working/trainval/trainval/trainval/V422-N0201.png',\n",
       " '/kaggle/working/trainval/trainval/trainval/V310-N3301.png',\n",
       " '/kaggle/working/trainval/trainval/trainval/V214-N0976.png',\n",
       " '/kaggle/working/trainval/trainval/trainval/V714-N1711.png',\n",
       " '/kaggle/working/trainval/trainval/trainval/V450-N0251.png',\n",
       " '/kaggle/working/trainval/trainval/trainval/V316-N0341.png',\n",
       " '/kaggle/working/trainval/trainval/trainval/V123-R2110.png',\n",
       " '/kaggle/working/trainval/trainval/trainval/V560-N0001.png',\n",
       " '/kaggle/working/trainval/trainval/trainval/V627-R3300.png',\n",
       " '/kaggle/working/trainval/trainval/trainval/V742-N0376.png',\n",
       " '/kaggle/working/trainval/trainval/trainval/V372-N0001.png',\n",
       " '/kaggle/working/trainval/trainval/trainval/V486-N0326.png',\n",
       " '/kaggle/working/trainval/trainval/trainval/V438-N0151.png',\n",
       " '/kaggle/working/trainval/trainval/trainval/V51-R1351.png',\n",
       " '/kaggle/working/trainval/trainval/trainval/V420-N0076.png',\n",
       " '/kaggle/working/trainval/trainval/trainval/V417-R0525.png',\n",
       " '/kaggle/working/trainval/trainval/trainval/V828-N0071.png',\n",
       " '/kaggle/working/trainval/trainval/trainval/V462-N0101.png',\n",
       " '/kaggle/working/trainval/trainval/trainval/V886-N0046.png',\n",
       " '/kaggle/working/trainval/trainval/trainval/V713-R1950.png',\n",
       " '/kaggle/working/trainval/trainval/trainval/V446-N0051.png',\n",
       " '/kaggle/working/trainval/trainval/trainval/V459-R0476.png',\n",
       " '/kaggle/working/trainval/trainval/trainval/V265-R2011.png',\n",
       " '/kaggle/working/trainval/trainval/trainval/V20-N0951.png',\n",
       " '/kaggle/working/trainval/trainval/trainval/V174-N0301.png',\n",
       " '/kaggle/working/trainval/trainval/trainval/V814-N0301.png',\n",
       " '/kaggle/working/trainval/trainval/trainval/V455-R0391.png',\n",
       " '/kaggle/working/trainval/trainval/trainval/V90-N0881.png',\n",
       " '/kaggle/working/trainval/trainval/trainval/V848-N0101.png',\n",
       " '/kaggle/working/trainval/trainval/trainval/V617-R4650.png',\n",
       " '/kaggle/working/trainval/trainval/trainval/V296-N0226.png',\n",
       " '/kaggle/working/trainval/trainval/trainval/V740-N1576.png',\n",
       " '/kaggle/working/trainval/trainval/trainval/V238-N0801.png',\n",
       " '/kaggle/working/trainval/trainval/trainval/V237-R0980.png',\n",
       " '/kaggle/working/trainval/trainval/trainval/V878-N0426.png',\n",
       " '/kaggle/working/trainval/trainval/trainval/V241-R0710.png',\n",
       " '/kaggle/working/trainval/trainval/trainval/V369-R5000.png',\n",
       " '/kaggle/working/trainval/trainval/trainval/V268-N0426.png',\n",
       " '/kaggle/working/trainval/trainval/trainval/V345-R1551.png',\n",
       " '/kaggle/working/trainval/trainval/trainval/V268-N0226.png',\n",
       " '/kaggle/working/trainval/trainval/trainval/V25-R2551.png',\n",
       " '/kaggle/working/trainval/trainval/trainval/V529-R2000.png',\n",
       " '/kaggle/working/trainval/trainval/trainval/V928-N0176.png',\n",
       " '/kaggle/working/trainval/trainval/trainval/V544-N0611.png',\n",
       " '/kaggle/working/trainval/trainval/trainval/V878-N0101.png',\n",
       " '/kaggle/working/trainval/trainval/trainval/V146-N0676.png',\n",
       " '/kaggle/working/trainval/trainval/trainval/V292-N0801.png',\n",
       " '/kaggle/working/trainval/trainval/trainval/V369-R5900.png',\n",
       " '/kaggle/working/trainval/trainval/trainval/V495-R0861.png',\n",
       " '/kaggle/working/trainval/trainval/trainval/V52-N0251.png',\n",
       " '/kaggle/working/trainval/trainval/trainval/V738-N1101.png',\n",
       " '/kaggle/working/trainval/trainval/trainval/V541-R0081.png',\n",
       " '/kaggle/working/trainval/trainval/trainval/V900-N0276.png',\n",
       " '/kaggle/working/trainval/trainval/trainval/V564-N1051.png',\n",
       " '/kaggle/working/trainval/trainval/trainval/V770-N0226.png',\n",
       " '/kaggle/working/trainval/trainval/trainval/V383-R0251.png',\n",
       " '/kaggle/working/trainval/trainval/trainval/V29-R0455.png',\n",
       " '/kaggle/working/trainval/trainval/trainval/V575-R0766.png',\n",
       " '/kaggle/working/trainval/trainval/trainval/V498-N0151.png',\n",
       " '/kaggle/working/trainval/trainval/trainval/V599-R1200.png',\n",
       " '/kaggle/working/trainval/trainval/trainval/V50-N0301.png',\n",
       " '/kaggle/working/trainval/trainval/trainval/V131-R0780.png',\n",
       " '/kaggle/working/trainval/trainval/trainval/V704-N0161.png',\n",
       " '/kaggle/working/trainval/trainval/trainval/V842-N0926.png',\n",
       " '/kaggle/working/trainval/trainval/trainval/V858-N0351.png',\n",
       " '/kaggle/working/trainval/trainval/trainval/V872-N0581.png',\n",
       " '/kaggle/working/trainval/trainval/trainval/V828-N0031.png',\n",
       " '/kaggle/working/trainval/trainval/trainval/V894-N0001.png',\n",
       " '/kaggle/working/trainval/trainval/trainval/V683-R3091.png',\n",
       " '/kaggle/working/trainval/trainval/trainval/V36-N1176.png',\n",
       " '/kaggle/working/trainval/trainval/trainval/V133-R1050.png',\n",
       " '/kaggle/working/trainval/trainval/trainval/V193-R3055.png',\n",
       " '/kaggle/working/trainval/trainval/trainval/V332-N0951.png',\n",
       " '/kaggle/working/trainval/trainval/trainval/V542-N0351.png',\n",
       " '/kaggle/working/trainval/trainval/trainval/V532-N0376.png',\n",
       " '/kaggle/working/trainval/trainval/trainval/V239-R0600.png',\n",
       " '/kaggle/working/trainval/trainval/trainval/V296-N0026.png',\n",
       " '/kaggle/working/trainval/trainval/trainval/V842-N0626.png',\n",
       " '/kaggle/working/trainval/trainval/trainval/V142-N0576.png',\n",
       " '/kaggle/working/trainval/trainval/trainval/V560-N0076.png',\n",
       " '/kaggle/working/trainval/trainval/trainval/V598-N0401.png',\n",
       " '/kaggle/working/trainval/trainval/trainval/V336-N0801.png',\n",
       " '/kaggle/working/trainval/trainval/trainval/V433-R0420.png',\n",
       " '/kaggle/working/trainval/trainval/trainval/V397-R0965.png',\n",
       " '/kaggle/working/trainval/trainval/trainval/V699-R1740.png',\n",
       " '/kaggle/working/trainval/trainval/trainval/V307-R0300.png',\n",
       " '/kaggle/working/trainval/trainval/trainval/V564-N0776.png',\n",
       " '/kaggle/working/trainval/trainval/trainval/V407-R0301.png',\n",
       " '/kaggle/working/trainval/trainval/trainval/V508-N0476.png',\n",
       " '/kaggle/working/trainval/trainval/trainval/V204-N0026.png',\n",
       " '/kaggle/working/trainval/trainval/trainval/V629-R0851.png',\n",
       " '/kaggle/working/trainval/trainval/trainval/V180-N0401.png',\n",
       " '/kaggle/working/trainval/trainval/trainval/V251-R0850.png',\n",
       " '/kaggle/working/trainval/trainval/trainval/V250-N0901.png',\n",
       " '/kaggle/working/trainval/trainval/trainval/V654-N0441.png',\n",
       " '/kaggle/working/trainval/trainval/trainval/V36-N1426.png',\n",
       " '/kaggle/working/trainval/trainval/trainval/V75-R0260.png',\n",
       " '/kaggle/working/trainval/trainval/trainval/V91-R0651.png',\n",
       " '/kaggle/working/trainval/trainval/trainval/V479-R3035.png',\n",
       " '/kaggle/working/trainval/trainval/trainval/V718-N0431.png',\n",
       " '/kaggle/working/trainval/trainval/trainval/V244-N0676.png',\n",
       " '/kaggle/working/trainval/trainval/trainval/V42-N0521.png',\n",
       " '/kaggle/working/trainval/trainval/trainval/V108-N0801.png',\n",
       " '/kaggle/working/trainval/trainval/trainval/V327-R0021.png',\n",
       " '/kaggle/working/trainval/trainval/trainval/V375-R2786.png',\n",
       " '/kaggle/working/trainval/trainval/trainval/V482-N0351.png',\n",
       " '/kaggle/working/trainval/trainval/trainval/V43-R2451.png',\n",
       " '/kaggle/working/trainval/trainval/trainval/V116-N0426.png',\n",
       " '/kaggle/working/trainval/trainval/trainval/V605-R1860.png',\n",
       " '/kaggle/working/trainval/trainval/trainval/V444-N0376.png',\n",
       " '/kaggle/working/trainval/trainval/trainval/V272-N1951.png',\n",
       " '/kaggle/working/trainval/trainval/trainval/V303-R8221.png',\n",
       " '/kaggle/working/trainval/trainval/trainval/V51-R1051.png',\n",
       " '/kaggle/working/trainval/trainval/trainval/V644-N0301.png',\n",
       " '/kaggle/working/trainval/trainval/trainval/V500-N0026.png',\n",
       " '/kaggle/working/trainval/trainval/trainval/V281-R0651.png',\n",
       " '/kaggle/working/trainval/trainval/trainval/V451-R1876.png',\n",
       " '/kaggle/working/trainval/trainval/trainval/V326-N0476.png',\n",
       " '/kaggle/working/trainval/trainval/trainval/V87-R5150.png',\n",
       " '/kaggle/working/trainval/trainval/trainval/V842-N0651.png',\n",
       " '/kaggle/working/trainval/trainval/trainval/V220-N0201.png',\n",
       " '/kaggle/working/trainval/trainval/trainval/V56-N0026.png',\n",
       " '/kaggle/working/trainval/trainval/trainval/V97-R0950.png',\n",
       " '/kaggle/working/trainval/trainval/trainval/V353-R7001.png',\n",
       " '/kaggle/working/trainval/trainval/trainval/V321-R1086.png',\n",
       " '/kaggle/working/trainval/trainval/trainval/V564-N0826.png',\n",
       " '/kaggle/working/trainval/trainval/trainval/V297-R0371.png',\n",
       " '/kaggle/working/trainval/trainval/trainval/V82-N4411.png',\n",
       " '/kaggle/working/trainval/trainval/trainval/V538-N0546.png',\n",
       " '/kaggle/working/trainval/trainval/trainval/V335-R0735.png',\n",
       " '/kaggle/working/trainval/trainval/trainval/V762-N1101.png',\n",
       " '/kaggle/working/trainval/trainval/trainval/V852-N0101.png',\n",
       " '/kaggle/working/trainval/trainval/trainval/V345-R1801.png',\n",
       " '/kaggle/working/trainval/trainval/trainval/V328-N0151.png',\n",
       " '/kaggle/working/trainval/trainval/trainval/V872-N0491.png',\n",
       " '/kaggle/working/trainval/trainval/trainval/V75-R0240.png',\n",
       " '/kaggle/working/trainval/trainval/trainval/V766-N0626.png',\n",
       " '/kaggle/working/trainval/trainval/trainval/V633-R0200.png',\n",
       " '/kaggle/working/trainval/trainval/trainval/V281-R0351.png',\n",
       " '/kaggle/working/trainval/trainval/trainval/V140-N1176.png',\n",
       " '/kaggle/working/trainval/trainval/trainval/V711-R7705.png',\n",
       " '/kaggle/working/trainval/trainval/trainval/V712-N0321.png',\n",
       " '/kaggle/working/trainval/trainval/trainval/V131-R0626.png',\n",
       " '/kaggle/working/trainval/trainval/trainval/V438-N0451.png',\n",
       " '/kaggle/working/trainval/trainval/trainval/V301-R0660.png',\n",
       " '/kaggle/working/trainval/trainval/trainval/V266-N0001.png',\n",
       " '/kaggle/working/trainval/trainval/trainval/V926-N0171.png',\n",
       " '/kaggle/working/trainval/trainval/trainval/V47-R0520.png',\n",
       " '/kaggle/working/trainval/trainval/trainval/V717-R0791.png',\n",
       " '/kaggle/working/trainval/trainval/trainval/V374-N1161.png',\n",
       " '/kaggle/working/trainval/trainval/trainval/V250-N0576.png',\n",
       " '/kaggle/working/trainval/trainval/trainval/V574-N0361.png',\n",
       " '/kaggle/working/trainval/trainval/trainval/V553-R5001.png',\n",
       " '/kaggle/working/trainval/trainval/trainval/V362-N0551.png',\n",
       " '/kaggle/working/trainval/trainval/trainval/V314-N0301.png',\n",
       " '/kaggle/working/trainval/trainval/trainval/V626-N0451.png',\n",
       " '/kaggle/working/trainval/trainval/trainval/V170-N2451.png',\n",
       " '/kaggle/working/trainval/trainval/trainval/V99-R0676.png',\n",
       " '/kaggle/working/trainval/trainval/trainval/V618-N0001.png',\n",
       " '/kaggle/working/trainval/trainval/trainval/V394-N0576.png',\n",
       " '/kaggle/working/trainval/trainval/trainval/V551-R0851.png',\n",
       " '/kaggle/working/trainval/trainval/trainval/V675-R1051.png',\n",
       " '/kaggle/working/trainval/trainval/trainval/V740-N1951.png',\n",
       " '/kaggle/working/trainval/trainval/trainval/V418-N0451.png',\n",
       " '/kaggle/working/trainval/trainval/trainval/V339-R1441.png',\n",
       " '/kaggle/working/trainval/trainval/trainval/V346-N0041.png',\n",
       " '/kaggle/working/trainval/trainval/trainval/V695-R3150.png',\n",
       " '/kaggle/working/trainval/trainval/trainval/V492-N3526.png',\n",
       " '/kaggle/working/trainval/trainval/trainval/V730-N0401.png',\n",
       " '/kaggle/working/trainval/trainval/trainval/V240-N4326.png',\n",
       " '/kaggle/working/trainval/trainval/trainval/V85-R2240.png',\n",
       " '/kaggle/working/trainval/trainval/trainval/V247-R0370.png',\n",
       " '/kaggle/working/trainval/trainval/trainval/V458-N0176.png',\n",
       " '/kaggle/working/trainval/trainval/trainval/V204-N0226.png',\n",
       " '/kaggle/working/trainval/trainval/trainval/V700-N0701.png',\n",
       " '/kaggle/working/trainval/trainval/trainval/V400-N0326.png',\n",
       " '/kaggle/working/trainval/trainval/trainval/V10-N0126.png',\n",
       " '/kaggle/working/trainval/trainval/trainval/V48-N0426.png',\n",
       " '/kaggle/working/trainval/trainval/trainval/V52-N0226.png',\n",
       " '/kaggle/working/trainval/trainval/trainval/V476-N0701.png',\n",
       " '/kaggle/working/trainval/trainval/trainval/V258-N0826.png',\n",
       " '/kaggle/working/trainval/trainval/trainval/V40-N2276.png',\n",
       " '/kaggle/working/trainval/trainval/trainval/V692-N0551.png',\n",
       " '/kaggle/working/trainval/trainval/trainval/V578-N0076.png',\n",
       " '/kaggle/working/trainval/trainval/trainval/V162-N0251.png',\n",
       " '/kaggle/working/trainval/trainval/trainval/V527-R1550.png',\n",
       " '/kaggle/working/trainval/trainval/trainval/V451-R1926.png',\n",
       " '/kaggle/working/trainval/trainval/trainval/V159-R0720.png',\n",
       " '/kaggle/working/trainval/trainval/trainval/V633-R1100.png',\n",
       " '/kaggle/working/trainval/trainval/trainval/V643-R6725.png',\n",
       " '/kaggle/working/trainval/trainval/trainval/V670-N0076.png',\n",
       " '/kaggle/working/trainval/trainval/trainval/V297-R0771.png',\n",
       " '/kaggle/working/trainval/trainval/trainval/V596-N0926.png',\n",
       " '/kaggle/working/trainval/trainval/trainval/V573-R1650.png',\n",
       " '/kaggle/working/trainval/trainval/trainval/V166-N0401.png',\n",
       " '/kaggle/working/trainval/trainval/trainval/V374-N0801.png',\n",
       " '/kaggle/working/trainval/trainval/trainval/V844-N0001.png',\n",
       " '/kaggle/working/trainval/trainval/trainval/V544-N0911.png',\n",
       " '/kaggle/working/trainval/trainval/trainval/V116-N0401.png',\n",
       " '/kaggle/working/trainval/trainval/trainval/V621-R0201.png',\n",
       " '/kaggle/working/trainval/trainval/trainval/V396-N0381.png',\n",
       " '/kaggle/working/trainval/trainval/trainval/V650-N0326.png',\n",
       " '/kaggle/working/trainval/trainval/trainval/V818-N0651.png',\n",
       " '/kaggle/working/trainval/trainval/trainval/V115-R0061.png',\n",
       " '/kaggle/working/trainval/trainval/trainval/V283-R0660.png',\n",
       " '/kaggle/working/trainval/trainval/trainval/V605-R1335.png',\n",
       " '/kaggle/working/trainval/trainval/trainval/V662-N0276.png',\n",
       " '/kaggle/working/trainval/trainval/trainval/V340-N20201.png',\n",
       " '/kaggle/working/trainval/trainval/trainval/V918-N0301.png',\n",
       " '/kaggle/working/trainval/trainval/trainval/V174-N0081.png',\n",
       " '/kaggle/working/trainval/trainval/trainval/V254-N3926.png',\n",
       " '/kaggle/working/trainval/trainval/trainval/V498-N0176.png',\n",
       " '/kaggle/working/trainval/trainval/trainval/V455-R0466.png',\n",
       " '/kaggle/working/trainval/trainval/trainval/V191-R0826.png',\n",
       " '/kaggle/working/trainval/trainval/trainval/V178-N0101.png',\n",
       " '/kaggle/working/trainval/trainval/trainval/V350-N0676.png',\n",
       " '/kaggle/working/trainval/trainval/trainval/V39-R0520.png',\n",
       " '/kaggle/working/trainval/trainval/trainval/V418-N0226.png',\n",
       " '/kaggle/working/trainval/trainval/trainval/V247-R0190.png',\n",
       " '/kaggle/working/trainval/trainval/trainval/V225-R2376.png',\n",
       " '/kaggle/working/trainval/trainval/trainval/V197-R0450.png',\n",
       " '/kaggle/working/trainval/trainval/trainval/V724-N0661.png',\n",
       " '/kaggle/working/trainval/trainval/trainval/V494-N0301.png',\n",
       " '/kaggle/working/trainval/trainval/trainval/V135-R0260.png',\n",
       " '/kaggle/working/trainval/trainval/trainval/V282-N1026.png',\n",
       " '/kaggle/working/trainval/trainval/trainval/V440-N0276.png',\n",
       " '/kaggle/working/trainval/trainval/trainval/V832-N0251.png',\n",
       " '/kaggle/working/trainval/trainval/trainval/V68-N0101.png',\n",
       " '/kaggle/working/trainval/trainval/trainval/V76-N0166.png',\n",
       " '/kaggle/working/trainval/trainval/trainval/V429-R0481.png',\n",
       " '/kaggle/working/trainval/trainval/trainval/V251-R0900.png',\n",
       " '/kaggle/working/trainval/trainval/trainval/V103-R44200.png',\n",
       " '/kaggle/working/trainval/trainval/trainval/V780-N0401.png',\n",
       " '/kaggle/working/trainval/trainval/trainval/V211-R1580.png',\n",
       " '/kaggle/working/trainval/trainval/trainval/V270-N0251.png',\n",
       " '/kaggle/working/trainval/trainval/trainval/V481-R0900.png',\n",
       " '/kaggle/working/trainval/trainval/trainval/V758-N0101.png',\n",
       " '/kaggle/working/trainval/trainval/trainval/V733-R1231.png',\n",
       " '/kaggle/working/trainval/trainval/trainval/V30-N0451.png',\n",
       " '/kaggle/working/trainval/trainval/trainval/V452-N0151.png',\n",
       " '/kaggle/working/trainval/trainval/trainval/V691-R0970.png',\n",
       " '/kaggle/working/trainval/trainval/trainval/V667-R0625.png',\n",
       " '/kaggle/working/trainval/trainval/trainval/V548-N0001.png',\n",
       " '/kaggle/working/trainval/trainval/trainval/V564-N0701.png',\n",
       " '/kaggle/working/trainval/trainval/trainval/V329-R0136.png',\n",
       " '/kaggle/working/trainval/trainval/trainval/V392-N0926.png',\n",
       " '/kaggle/working/trainval/trainval/trainval/V182-N0381.png',\n",
       " '/kaggle/working/trainval/trainval/trainval/V524-N0011.png',\n",
       " '/kaggle/working/trainval/trainval/trainval/V86-N0601.png',\n",
       " '/kaggle/working/trainval/trainval/trainval/V248-N0701.png',\n",
       " '/kaggle/working/trainval/trainval/trainval/V121-R0860.png',\n",
       " '/kaggle/working/trainval/trainval/trainval/V40-N2376.png',\n",
       " '/kaggle/working/trainval/trainval/trainval/V516-N0051.png',\n",
       " '/kaggle/working/trainval/trainval/trainval/V151-R0400.png',\n",
       " '/kaggle/working/trainval/trainval/trainval/V89-R1051.png',\n",
       " '/kaggle/working/trainval/trainval/trainval/V45-R0870.png',\n",
       " '/kaggle/working/trainval/trainval/trainval/V659-R2201.png',\n",
       " '/kaggle/working/trainval/trainval/trainval/V39-R0695.png',\n",
       " '/kaggle/working/trainval/trainval/trainval/V47-R0280.png',\n",
       " '/kaggle/working/trainval/trainval/trainval/V790-N0926.png',\n",
       " '/kaggle/working/trainval/trainval/trainval/V419-R1751.png',\n",
       " '/kaggle/working/trainval/trainval/trainval/V143-R4200.png',\n",
       " '/kaggle/working/trainval/trainval/trainval/V648-N0026.png',\n",
       " '/kaggle/working/trainval/trainval/trainval/V535-R0070.png',\n",
       " '/kaggle/working/trainval/trainval/trainval/V319-R0126.png',\n",
       " '/kaggle/working/trainval/trainval/trainval/V104-N2251.png',\n",
       " '/kaggle/working/trainval/trainval/trainval/V890-N2601.png',\n",
       " '/kaggle/working/trainval/trainval/trainval/V310-N3751.png',\n",
       " '/kaggle/working/trainval/trainval/trainval/V519-R2525.png',\n",
       " '/kaggle/working/trainval/trainval/trainval/V233-R5751.png',\n",
       " '/kaggle/working/trainval/trainval/trainval/V209-R0961.png',\n",
       " '/kaggle/working/trainval/trainval/trainval/V902-N0976.png',\n",
       " '/kaggle/working/trainval/trainval/trainval/V397-R0650.png',\n",
       " '/kaggle/working/trainval/trainval/trainval/V564-N0976.png',\n",
       " '/kaggle/working/trainval/trainval/trainval/V444-N0426.png',\n",
       " '/kaggle/working/trainval/trainval/trainval/V433-R0277.png',\n",
       " '/kaggle/working/trainval/trainval/trainval/V668-N0501.png',\n",
       " '/kaggle/working/trainval/trainval/trainval/V616-N0476.png',\n",
       " '/kaggle/working/trainval/trainval/trainval/V686-N0421.png',\n",
       " '/kaggle/working/trainval/trainval/trainval/V11-R0670.png',\n",
       " '/kaggle/working/trainval/trainval/trainval/V840-N0501.png',\n",
       " '/kaggle/working/trainval/trainval/trainval/V632-N0591.png',\n",
       " '/kaggle/working/trainval/trainval/trainval/V664-N0051.png',\n",
       " '/kaggle/working/trainval/trainval/trainval/V676-N0051.png',\n",
       " '/kaggle/working/trainval/trainval/trainval/V421-R0290.png',\n",
       " '/kaggle/working/trainval/trainval/trainval/V625-R4150.png',\n",
       " '/kaggle/working/trainval/trainval/trainval/V712-N0331.png',\n",
       " '/kaggle/working/trainval/trainval/trainval/V352-N0701.png',\n",
       " '/kaggle/working/trainval/trainval/trainval/V518-N0201.png',\n",
       " '/kaggle/working/trainval/trainval/trainval/V611-R2051.png',\n",
       " '/kaggle/working/trainval/trainval/trainval/V234-N0551.png',\n",
       " '/kaggle/working/trainval/trainval/trainval/V184-N0076.png',\n",
       " '/kaggle/working/trainval/trainval/trainval/V729-R0851.png',\n",
       " '/kaggle/working/trainval/trainval/trainval/V523-R0171.png',\n",
       " '/kaggle/working/trainval/trainval/trainval/V323-R0401.png',\n",
       " '/kaggle/working/trainval/trainval/trainval/V212-N0001.png',\n",
       " '/kaggle/working/trainval/trainval/trainval/V628-N0026.png',\n",
       " '/kaggle/working/trainval/trainval/trainval/V744-N1851.png',\n",
       " '/kaggle/working/trainval/trainval/trainval/V61-R0301.png',\n",
       " '/kaggle/working/trainval/trainval/trainval/V229-R2340.png',\n",
       " '/kaggle/working/trainval/trainval/trainval/V90-N0921.png',\n",
       " '/kaggle/working/trainval/trainval/trainval/V180-N0201.png',\n",
       " '/kaggle/working/trainval/trainval/trainval/V734-N2361.png',\n",
       " '/kaggle/working/trainval/trainval/trainval/V354-N1361.png',\n",
       " '/kaggle/working/trainval/trainval/trainval/V530-N0376.png',\n",
       " '/kaggle/working/trainval/trainval/trainval/V888-N0401.png',\n",
       " '/kaggle/working/trainval/trainval/trainval/V307-R0650.png',\n",
       " '/kaggle/working/trainval/trainval/trainval/V350-N0326.png',\n",
       " '/kaggle/working/trainval/trainval/trainval/V656-N0201.png',\n",
       " '/kaggle/working/trainval/trainval/trainval/V652-N0376.png',\n",
       " '/kaggle/working/trainval/trainval/trainval/V527-R1150.png',\n",
       " '/kaggle/working/trainval/trainval/trainval/V172-N1276.png',\n",
       " '/kaggle/working/trainval/trainval/trainval/V412-N1051.png',\n",
       " '/kaggle/working/trainval/trainval/trainval/V129-R0451.png',\n",
       " '/kaggle/working/trainval/trainval/trainval/V600-N0276.png',\n",
       " '/kaggle/working/trainval/trainval/trainval/V794-N0076.png',\n",
       " '/kaggle/working/trainval/trainval/trainval/V609-R0261.png',\n",
       " '/kaggle/working/trainval/trainval/trainval/V87-R5075.png',\n",
       " '/kaggle/working/trainval/trainval/trainval/V169-R0801.png',\n",
       " '/kaggle/working/trainval/trainval/trainval/V148-N1076.png',\n",
       " '/kaggle/working/trainval/trainval/trainval/V24-N0176.png',\n",
       " '/kaggle/working/trainval/trainval/trainval/V774-N0426.png',\n",
       " '/kaggle/working/trainval/trainval/trainval/V425-R1026.png',\n",
       " '/kaggle/working/trainval/trainval/trainval/V534-N0231.png',\n",
       " '/kaggle/working/trainval/trainval/trainval/V375-R2591.png',\n",
       " '/kaggle/working/trainval/trainval/trainval/V449-R1420.png',\n",
       " '/kaggle/working/trainval/trainval/trainval/V328-N0426.png',\n",
       " '/kaggle/working/trainval/trainval/trainval/V928-N0401.png',\n",
       " '/kaggle/working/trainval/trainval/trainval/V402-N0491.png',\n",
       " '/kaggle/working/trainval/trainval/trainval/V24-N0151.png',\n",
       " '/kaggle/working/trainval/trainval/trainval/V100-N0751.png',\n",
       " '/kaggle/working/trainval/trainval/trainval/V97-R1350.png',\n",
       " '/kaggle/working/trainval/trainval/trainval/V558-N0776.png',\n",
       " '/kaggle/working/trainval/trainval/trainval/V154-N0451.png',\n",
       " '/kaggle/working/trainval/trainval/trainval/V645-R0851.png',\n",
       " '/kaggle/working/trainval/trainval/trainval/V605-R1545.png',\n",
       " '/kaggle/working/trainval/trainval/trainval/V524-N0141.png',\n",
       " '/kaggle/working/trainval/trainval/trainval/V157-R1060.png',\n",
       " '/kaggle/working/trainval/trainval/trainval/V114-N0951.png',\n",
       " '/kaggle/working/trainval/trainval/trainval/V212-N0401.png',\n",
       " '/kaggle/working/trainval/trainval/trainval/V814-N0051.png',\n",
       " '/kaggle/working/trainval/trainval/trainval/V127-R1821.png',\n",
       " '/kaggle/working/trainval/trainval/trainval/V547-R0106.png',\n",
       " '/kaggle/working/trainval/trainval/trainval/V583-R2751.png',\n",
       " '/kaggle/working/trainval/trainval/trainval/V66-N4581.png',\n",
       " '/kaggle/working/trainval/trainval/trainval/V196-N0076.png',\n",
       " '/kaggle/working/trainval/trainval/trainval/V103-R44400.png',\n",
       " '/kaggle/working/trainval/trainval/trainval/V248-N0926.png',\n",
       " '/kaggle/working/trainval/trainval/trainval/V442-N0121.png',\n",
       " '/kaggle/working/trainval/trainval/trainval/V267-R0900.png',\n",
       " '/kaggle/working/trainval/trainval/trainval/V601-R0701.png',\n",
       " '/kaggle/working/trainval/trainval/trainval/V298-N0101.png',\n",
       " '/kaggle/working/trainval/trainval/trainval/V806-N0241.png',\n",
       " '/kaggle/working/trainval/trainval/trainval/V810-N0076.png',\n",
       " '/kaggle/working/trainval/trainval/trainval/V818-N0551.png',\n",
       " '/kaggle/working/trainval/trainval/trainval/V721-R0176.png',\n",
       " '/kaggle/working/trainval/trainval/trainval/V226-N0051.png',\n",
       " '/kaggle/working/trainval/trainval/trainval/V340-N20376.png',\n",
       " '/kaggle/working/trainval/trainval/trainval/V192-N0351.png',\n",
       " '/kaggle/working/trainval/trainval/trainval/V216-N0026.png',\n",
       " '/kaggle/working/trainval/trainval/trainval/V730-N0451.png',\n",
       " '/kaggle/working/trainval/trainval/trainval/V462-N0051.png',\n",
       " '/kaggle/working/trainval/trainval/trainval/V505-R4190.png',\n",
       " '/kaggle/working/trainval/trainval/trainval/V860-N0451.png',\n",
       " '/kaggle/working/trainval/trainval/trainval/V796-N0151.png',\n",
       " '/kaggle/working/trainval/trainval/trainval/V916-N0101.png',\n",
       " '/kaggle/working/trainval/trainval/trainval/V474-N0426.png',\n",
       " '/kaggle/working/trainval/trainval/trainval/V264-N0451.png',\n",
       " '/kaggle/working/trainval/trainval/trainval/V252-N0276.png',\n",
       " '/kaggle/working/trainval/trainval/trainval/V638-N0201.png',\n",
       " '/kaggle/working/trainval/trainval/trainval/V451-R2001.png',\n",
       " '/kaggle/working/trainval/trainval/trainval/V690-N0151.png',\n",
       " '/kaggle/working/trainval/trainval/trainval/V641-R1106.png',\n",
       " '/kaggle/working/trainval/trainval/trainval/V326-N0326.png',\n",
       " '/kaggle/working/trainval/trainval/trainval/V296-N0351.png',\n",
       " '/kaggle/working/trainval/trainval/trainval/V866-N0951.png',\n",
       " '/kaggle/working/trainval/trainval/trainval/V864-N0276.png',\n",
       " '/kaggle/working/trainval/trainval/trainval/V780-N0301.png',\n",
       " '/kaggle/working/trainval/trainval/trainval/V289-R0301.png',\n",
       " '/kaggle/working/trainval/trainval/trainval/V12-N20376.png',\n",
       " '/kaggle/working/trainval/trainval/trainval/V170-N2301.png',\n",
       " '/kaggle/working/trainval/trainval/trainval/V230-N0151.png',\n",
       " '/kaggle/working/trainval/trainval/trainval/V243-R0826.png',\n",
       " '/kaggle/working/trainval/trainval/trainval/V27-R1382.png',\n",
       " '/kaggle/working/trainval/trainval/trainval/V810-N0201.png',\n",
       " '/kaggle/working/trainval/trainval/trainval/V36-N1126.png',\n",
       " '/kaggle/working/trainval/trainval/trainval/V293-R0181.png',\n",
       " '/kaggle/working/trainval/trainval/trainval/V386-N0801.png',\n",
       " '/kaggle/working/trainval/trainval/trainval/V399-R4551.png',\n",
       " '/kaggle/working/trainval/trainval/trainval/V529-R1750.png',\n",
       " '/kaggle/working/trainval/trainval/trainval/V842-N0676.png',\n",
       " '/kaggle/working/trainval/trainval/trainval/V582-N0176.png',\n",
       " '/kaggle/working/trainval/trainval/trainval/V646-N0826.png',\n",
       " '/kaggle/working/trainval/trainval/trainval/V562-N0326.png',\n",
       " '/kaggle/working/trainval/trainval/trainval/V715-R1680.png',\n",
       " '/kaggle/working/trainval/trainval/trainval/V418-N0101.png',\n",
       " '/kaggle/working/trainval/trainval/trainval/V201-R2450.png',\n",
       " '/kaggle/working/trainval/trainval/trainval/V588-N0051.png',\n",
       " '/kaggle/working/trainval/trainval/trainval/V217-R0851.png',\n",
       " '/kaggle/working/trainval/trainval/trainval/V320-N0426.png',\n",
       " '/kaggle/working/trainval/trainval/trainval/V522-N1051.png',\n",
       " '/kaggle/working/trainval/trainval/trainval/V54-N0851.png',\n",
       " '/kaggle/working/trainval/trainval/trainval/V255-R1915.png',\n",
       " '/kaggle/working/trainval/trainval/trainval/V196-N0476.png',\n",
       " '/kaggle/working/trainval/trainval/trainval/V311-R1576.png',\n",
       " '/kaggle/working/trainval/trainval/trainval/V668-N0301.png',\n",
       " '/kaggle/working/trainval/trainval/trainval/V17-R1021.png',\n",
       " '/kaggle/working/trainval/trainval/trainval/V706-N0541.png',\n",
       " '/kaggle/working/trainval/trainval/trainval/V241-R0800.png',\n",
       " '/kaggle/working/trainval/trainval/trainval/V124-N0226.png',\n",
       " '/kaggle/working/trainval/trainval/trainval/V35-R3541.png',\n",
       " '/kaggle/working/trainval/trainval/trainval/V738-N1161.png',\n",
       " '/kaggle/working/trainval/trainval/trainval/V687-R2270.png',\n",
       " '/kaggle/working/trainval/trainval/trainval/V355-R3945.png',\n",
       " '/kaggle/working/trainval/trainval/trainval/V468-N0051.png',\n",
       " '/kaggle/working/trainval/trainval/trainval/V526-N2101.png',\n",
       " '/kaggle/working/trainval/trainval/trainval/V473-R0750.png',\n",
       " '/kaggle/working/trainval/trainval/trainval/V435-R0001.png',\n",
       " '/kaggle/working/trainval/trainval/trainval/V451-R1951.png',\n",
       " '/kaggle/working/trainval/trainval/trainval/V211-R1320.png',\n",
       " '/kaggle/working/trainval/trainval/trainval/V89-R0501.png',\n",
       " '/kaggle/working/trainval/trainval/trainval/V804-N0276.png',\n",
       " '/kaggle/working/trainval/trainval/trainval/V360-N1051.png',\n",
       " '/kaggle/working/trainval/trainval/trainval/V119-R0501.png',\n",
       " '/kaggle/working/trainval/trainval/trainval/V286-N0226.png',\n",
       " '/kaggle/working/trainval/trainval/trainval/V286-N0151.png',\n",
       " '/kaggle/working/trainval/trainval/trainval/V47-R0160.png',\n",
       " '/kaggle/working/trainval/trainval/trainval/V928-N0326.png',\n",
       " '/kaggle/working/trainval/trainval/trainval/V66-N4611.png',\n",
       " '/kaggle/working/trainval/trainval/trainval/V245-R0076.png',\n",
       " '/kaggle/working/trainval/trainval/trainval/V910-N0926.png',\n",
       " '/kaggle/working/trainval/trainval/trainval/V520-N0651.png',\n",
       " '/kaggle/working/trainval/trainval/trainval/V532-N0251.png',\n",
       " '/kaggle/working/trainval/trainval/trainval/V898-N0101.png',\n",
       " '/kaggle/working/trainval/trainval/trainval/V291-R2621.png',\n",
       " '/kaggle/working/trainval/trainval/trainval/V179-R1300.png',\n",
       " '/kaggle/working/trainval/trainval/trainval/V900-N0076.png',\n",
       " '/kaggle/working/trainval/trainval/trainval/V806-N0136.png',\n",
       " '/kaggle/working/trainval/trainval/trainval/V143-R4300.png',\n",
       " '/kaggle/working/trainval/trainval/trainval/V53-R1121.png',\n",
       " '/kaggle/working/trainval/trainval/trainval/V385-R1980.png',\n",
       " '/kaggle/working/trainval/trainval/trainval/V416-N0201.png',\n",
       " '/kaggle/working/trainval/trainval/trainval/V104-N1876.png',\n",
       " '/kaggle/working/trainval/trainval/trainval/V452-N0076.png',\n",
       " '/kaggle/working/trainval/trainval/trainval/V204-N0051.png',\n",
       " '/kaggle/working/trainval/trainval/trainval/V235-R1991.png',\n",
       " '/kaggle/working/trainval/trainval/trainval/V443-R1600.png',\n",
       " '/kaggle/working/trainval/trainval/trainval/V27-R1646.png',\n",
       " '/kaggle/working/trainval/trainval/trainval/V338-N30501.png',\n",
       " '/kaggle/working/trainval/trainval/trainval/V283-R0870.png',\n",
       " '/kaggle/working/trainval/trainval/trainval/V294-N0826.png',\n",
       " '/kaggle/working/trainval/trainval/trainval/V456-N0401.png',\n",
       " '/kaggle/working/trainval/trainval/trainval/V602-N0976.png',\n",
       " '/kaggle/working/trainval/trainval/trainval/V703-R0451.png',\n",
       " '/kaggle/working/trainval/trainval/trainval/V54-N0626.png',\n",
       " '/kaggle/working/trainval/trainval/trainval/V500-N0126.png',\n",
       " '/kaggle/working/trainval/trainval/trainval/V33-R0476.png',\n",
       " '/kaggle/working/trainval/trainval/trainval/V417-R0500.png',\n",
       " '/kaggle/working/trainval/trainval/trainval/V516-N0026.png',\n",
       " '/kaggle/working/trainval/trainval/trainval/V742-N0201.png',\n",
       " '/kaggle/working/trainval/trainval/trainval/V16-N0801.png',\n",
       " '/kaggle/working/trainval/trainval/trainval/V625-R4250.png',\n",
       " '/kaggle/working/trainval/trainval/trainval/V463-R0740.png',\n",
       " '/kaggle/working/trainval/trainval/trainval/V12-N20651.png',\n",
       " '/kaggle/working/trainval/trainval/trainval/V482-N0326.png',\n",
       " '/kaggle/working/trainval/trainval/trainval/V568-N0126.png',\n",
       " '/kaggle/working/trainval/trainval/trainval/V862-N0326.png',\n",
       " '/kaggle/working/trainval/trainval/trainval/V61-R0381.png',\n",
       " '/kaggle/working/trainval/trainval/trainval/V483-R5100.png',\n",
       " '/kaggle/working/trainval/trainval/trainval/V129-R0751.png',\n",
       " '/kaggle/working/trainval/trainval/trainval/V250-N0826.png',\n",
       " '/kaggle/working/trainval/trainval/trainval/V725-R4400.png',\n",
       " '/kaggle/working/trainval/trainval/trainval/V617-R4300.png',\n",
       " '/kaggle/working/trainval/trainval/trainval/V263-R4606.png',\n",
       " '/kaggle/working/trainval/trainval/trainval/V717-R0966.png',\n",
       " '/kaggle/working/trainval/trainval/trainval/V688-N0226.png',\n",
       " '/kaggle/working/trainval/trainval/trainval/V339-R2036.png',\n",
       " '/kaggle/working/trainval/trainval/trainval/V267-R1380.png',\n",
       " '/kaggle/working/trainval/trainval/trainval/V231-R0925.png',\n",
       " '/kaggle/working/trainval/trainval/trainval/V245-R0301.png',\n",
       " '/kaggle/working/trainval/trainval/trainval/V38-N0351.png',\n",
       " '/kaggle/working/trainval/trainval/trainval/V37-R0500.png',\n",
       " '/kaggle/working/trainval/trainval/trainval/V46-N0226.png',\n",
       " '/kaggle/working/trainval/trainval/trainval/V502-N0126.png',\n",
       " '/kaggle/working/trainval/trainval/trainval/V684-N0301.png',\n",
       " '/kaggle/working/trainval/trainval/trainval/V566-N3801.png',\n",
       " '/kaggle/working/trainval/trainval/trainval/V607-R1450.png',\n",
       " '/kaggle/working/trainval/trainval/trainval/V316-N0271.png',\n",
       " '/kaggle/working/trainval/trainval/trainval/V788-N0201.png',\n",
       " '/kaggle/working/trainval/trainval/trainval/V462-N0401.png',\n",
       " '/kaggle/working/trainval/trainval/trainval/V692-N0951.png',\n",
       " '/kaggle/working/trainval/trainval/trainval/V355-R3735.png',\n",
       " '/kaggle/working/trainval/trainval/trainval/V432-N0676.png',\n",
       " '/kaggle/working/trainval/trainval/trainval/V139-R1141.png',\n",
       " '/kaggle/working/trainval/trainval/trainval/V185-R1080.png',\n",
       " '/kaggle/working/trainval/trainval/trainval/V506-N0326.png',\n",
       " '/kaggle/working/trainval/trainval/trainval/V256-N0976.png',\n",
       " '/kaggle/working/trainval/trainval/trainval/V297-R0851.png',\n",
       " '/kaggle/working/trainval/trainval/trainval/V347-R6805.png',\n",
       " '/kaggle/working/trainval/trainval/trainval/V836-N0526.png',\n",
       " '/kaggle/working/trainval/trainval/trainval/V649-R0461.png',\n",
       " '/kaggle/working/trainval/trainval/trainval/V669-R0601.png',\n",
       " '/kaggle/working/trainval/trainval/trainval/V367-R1065.png',\n",
       " '/kaggle/working/trainval/trainval/trainval/V594-N0051.png',\n",
       " '/kaggle/working/trainval/trainval/trainval/V235-R1731.png',\n",
       " '/kaggle/working/trainval/trainval/trainval/V195-R3050.png',\n",
       " '/kaggle/working/trainval/trainval/trainval/V240-N4426.png',\n",
       " '/kaggle/working/trainval/trainval/trainval/V862-N0451.png',\n",
       " '/kaggle/working/trainval/trainval/trainval/V388-N0901.png',\n",
       " '/kaggle/working/trainval/trainval/trainval/V79-R4550.png',\n",
       " '/kaggle/working/trainval/trainval/trainval/V635-R0051.png',\n",
       " '/kaggle/working/trainval/trainval/trainval/V169-R1101.png',\n",
       " '/kaggle/working/trainval/trainval/trainval/V289-R0651.png',\n",
       " '/kaggle/working/trainval/trainval/trainval/V181-R0800.png',\n",
       " '/kaggle/working/trainval/trainval/trainval/V650-N0001.png',\n",
       " '/kaggle/working/trainval/trainval/trainval/V121-R1080.png',\n",
       " '/kaggle/working/trainval/trainval/trainval/V7-R4451.png',\n",
       " '/kaggle/working/trainval/trainval/trainval/V523-R0051.png',\n",
       " '/kaggle/working/trainval/trainval/trainval/V246-N0001.png',\n",
       " '/kaggle/working/trainval/trainval/trainval/V622-N0076.png',\n",
       " '/kaggle/working/trainval/trainval/trainval/V824-N0001.png',\n",
       " '/kaggle/working/trainval/trainval/trainval/V721-R0401.png',\n",
       " '/kaggle/working/trainval/trainval/trainval/V606-N0326.png',\n",
       " '/kaggle/working/trainval/trainval/trainval/V49-R0590.png',\n",
       " '/kaggle/working/trainval/trainval/trainval/V470-N0026.png',\n",
       " '/kaggle/working/trainval/trainval/trainval/V26-N0061.png',\n",
       " '/kaggle/working/trainval/trainval/trainval/V858-N0176.png',\n",
       " '/kaggle/working/trainval/trainval/trainval/V386-N0626.png',\n",
       " '/kaggle/working/trainval/trainval/trainval/V183-R0421.png',\n",
       " '/kaggle/working/trainval/trainval/trainval/V406-N2971.png',\n",
       " '/kaggle/working/trainval/trainval/trainval/V59-R1156.png',\n",
       " '/kaggle/working/trainval/trainval/trainval/V102-N0751.png',\n",
       " '/kaggle/working/trainval/trainval/trainval/V90-N0561.png',\n",
       " '/kaggle/working/trainval/trainval/trainval/V260-N0076.png',\n",
       " '/kaggle/working/trainval/trainval/trainval/V488-N0476.png',\n",
       " '/kaggle/working/trainval/trainval/trainval/V522-N1190.png',\n",
       " '/kaggle/working/trainval/trainval/trainval/V806-N0121.png',\n",
       " '/kaggle/working/trainval/trainval/trainval/V378-N2011.png',\n",
       " '/kaggle/working/trainval/trainval/trainval/V1-R1090.png',\n",
       " '/kaggle/working/trainval/trainval/trainval/V48-N0176.png',\n",
       " '/kaggle/working/trainval/trainval/trainval/V275-R0561.png',\n",
       " '/kaggle/working/trainval/trainval/trainval/V495-R0821.png',\n",
       " '/kaggle/working/trainval/trainval/trainval/V286-N0201.png',\n",
       " '/kaggle/working/trainval/trainval/trainval/V582-N0051.png',\n",
       " '/kaggle/working/trainval/trainval/trainval/V465-R0601.png',\n",
       " '/kaggle/working/trainval/trainval/trainval/V91-R0951.png',\n",
       " '/kaggle/working/trainval/trainval/trainval/V666-N0326.png',\n",
       " '/kaggle/working/trainval/trainval/trainval/V58-N0966.png',\n",
       " '/kaggle/working/trainval/trainval/trainval/V114-N1001.png',\n",
       " '/kaggle/working/trainval/trainval/trainval/V206-N0001.png',\n",
       " '/kaggle/working/trainval/trainval/trainval/V826-N0311.png',\n",
       " '/kaggle/working/trainval/trainval/trainval/V616-N0201.png',\n",
       " '/kaggle/working/trainval/trainval/trainval/V212-N0301.png',\n",
       " '/kaggle/working/trainval/trainval/trainval/V659-R2351.png',\n",
       " '/kaggle/working/trainval/trainval/trainval/V838-N0651.png',\n",
       " '/kaggle/working/trainval/trainval/trainval/V161-R2451.png',\n",
       " '/kaggle/working/trainval/trainval/trainval/V24-N0451.png',\n",
       " '/kaggle/working/trainval/trainval/trainval/V730-N0361.png',\n",
       " '/kaggle/working/trainval/trainval/trainval/V564-N0901.png',\n",
       " '/kaggle/working/trainval/trainval/trainval/V736-N0101.png',\n",
       " '/kaggle/working/trainval/trainval/trainval/V11-R0775.png',\n",
       " '/kaggle/working/trainval/trainval/trainval/V141-R1251.png',\n",
       " '/kaggle/working/trainval/trainval/trainval/V19-R1750.png',\n",
       " '/kaggle/working/trainval/trainval/trainval/V318-N0841.png',\n",
       " '/kaggle/working/trainval/trainval/trainval/V451-R1701.png',\n",
       " '/kaggle/working/trainval/trainval/trainval/V373-R0831.png',\n",
       " '/kaggle/working/trainval/trainval/trainval/V272-N2076.png',\n",
       " '/kaggle/working/trainval/trainval/trainval/V225-R2301.png',\n",
       " '/kaggle/working/trainval/trainval/trainval/V631-R0076.png',\n",
       " '/kaggle/working/trainval/trainval/trainval/V648-N0426.png',\n",
       " '/kaggle/working/trainval/trainval/trainval/V762-N1071.png',\n",
       " '/kaggle/working/trainval/trainval/trainval/V146-N0776.png',\n",
       " '/kaggle/working/trainval/trainval/trainval/V240-N4376.png',\n",
       " '/kaggle/working/trainval/trainval/trainval/V584-N0151.png',\n",
       " '/kaggle/working/trainval/trainval/trainval/V194-N0426.png',\n",
       " '/kaggle/working/trainval/trainval/trainval/V202-N0301.png',\n",
       " '/kaggle/working/trainval/trainval/trainval/V403-R0590.png',\n",
       " '/kaggle/working/trainval/trainval/trainval/V356-N2661.png',\n",
       " '/kaggle/working/trainval/trainval/trainval/V153-R1051.png',\n",
       " '/kaggle/working/trainval/trainval/trainval/V152-N0476.png',\n",
       " '/kaggle/working/trainval/trainval/trainval/V107-R0901.png',\n",
       " '/kaggle/working/trainval/trainval/trainval/V643-R6680.png',\n",
       " '/kaggle/working/trainval/trainval/trainval/V116-N0126.png',\n",
       " '/kaggle/working/trainval/trainval/trainval/V532-N0001.png',\n",
       " '/kaggle/working/trainval/trainval/trainval/V888-N0226.png',\n",
       " '/kaggle/working/trainval/trainval/trainval/V143-R4000.png',\n",
       " '/kaggle/working/trainval/trainval/trainval/V774-N0301.png',\n",
       " '/kaggle/working/trainval/trainval/trainval/V92-N1851.png',\n",
       " '/kaggle/working/trainval/trainval/trainval/V322-N0326.png',\n",
       " '/kaggle/working/trainval/trainval/trainval/V183-R0661.png',\n",
       " '/kaggle/working/trainval/trainval/trainval/V722-N1631.png',\n",
       " '/kaggle/working/trainval/trainval/trainval/V922-N0001.png',\n",
       " '/kaggle/working/trainval/trainval/trainval/V561-R0470.png',\n",
       " '/kaggle/working/trainval/trainval/trainval/V297-R0571.png',\n",
       " '/kaggle/working/trainval/trainval/trainval/V198-N0276.png',\n",
       " '/kaggle/working/trainval/trainval/trainval/V438-N0126.png',\n",
       " '/kaggle/working/trainval/trainval/trainval/V638-N0251.png',\n",
       " '/kaggle/working/trainval/trainval/trainval/V51-R1451.png',\n",
       " '/kaggle/working/trainval/trainval/trainval/V447-R0401.png',\n",
       " '/kaggle/working/trainval/trainval/trainval/V83-R2251.png',\n",
       " '/kaggle/working/trainval/trainval/trainval/V914-N0501.png',\n",
       " '/kaggle/working/trainval/trainval/trainval/V366-N0851.png',\n",
       " '/kaggle/working/trainval/trainval/trainval/V319-R0426.png',\n",
       " '/kaggle/working/trainval/trainval/trainval/V71-R0101.png',\n",
       " '/kaggle/working/trainval/trainval/trainval/V696-N0576.png',\n",
       " '/kaggle/working/trainval/trainval/trainval/V192-N0276.png',\n",
       " '/kaggle/working/trainval/trainval/trainval/V521-R2350.png',\n",
       " '/kaggle/working/trainval/trainval/trainval/V216-N0376.png',\n",
       " '/kaggle/working/trainval/trainval/trainval/V81-R0426.png',\n",
       " '/kaggle/working/trainval/trainval/trainval/V770-N0451.png',\n",
       " '/kaggle/working/trainval/trainval/trainval/V633-R0850.png',\n",
       " '/kaggle/working/trainval/trainval/trainval/V703-R0351.png',\n",
       " '/kaggle/working/trainval/trainval/trainval/V299-R0296.png',\n",
       " '/kaggle/working/trainval/trainval/trainval/V654-N0681.png',\n",
       " '/kaggle/working/trainval/trainval/trainval/V304-N0581.png',\n",
       " '/kaggle/working/trainval/trainval/trainval/V920-N0476.png',\n",
       " '/kaggle/working/trainval/trainval/trainval/V149-R0880.png',\n",
       " '/kaggle/working/trainval/trainval/trainval/V226-N0126.png',\n",
       " '/kaggle/working/trainval/trainval/trainval/V325-R1051.png',\n",
       " '/kaggle/working/trainval/trainval/trainval/V618-N0226.png',\n",
       " '/kaggle/working/trainval/trainval/trainval/V349-R0651.png',\n",
       " '/kaggle/working/trainval/trainval/trainval/V738-N1201.png',\n",
       " '/kaggle/working/trainval/trainval/trainval/V750-N0196.png',\n",
       " '/kaggle/working/trainval/trainval/trainval/V28-N0791.png',\n",
       " '/kaggle/working/trainval/trainval/trainval/V400-N0276.png',\n",
       " '/kaggle/working/trainval/trainval/trainval/V473-R0550.png',\n",
       " '/kaggle/working/trainval/trainval/trainval/V298-N0201.png',\n",
       " '/kaggle/working/trainval/trainval/trainval/V261-R0121.png',\n",
       " '/kaggle/working/trainval/trainval/trainval/V524-N0001.png',\n",
       " '/kaggle/working/trainval/trainval/trainval/V473-R0450.png',\n",
       " '/kaggle/working/trainval/trainval/trainval/V152-N0226.png',\n",
       " '/kaggle/working/trainval/trainval/trainval/V7-R4951.png',\n",
       " '/kaggle/working/trainval/trainval/trainval/V172-N1151.png',\n",
       " '/kaggle/working/trainval/trainval/trainval/V166-N0101.png',\n",
       " '/kaggle/working/trainval/trainval/trainval/V415-R1050.png',\n",
       " '/kaggle/working/trainval/trainval/trainval/V10-N0176.png',\n",
       " '/kaggle/working/trainval/trainval/trainval/V354-N1761.png',\n",
       " '/kaggle/working/trainval/trainval/trainval/V354-N1241.png',\n",
       " '/kaggle/working/trainval/trainval/trainval/V335-R0350.png',\n",
       " '/kaggle/working/trainval/trainval/trainval/V123-R1480.png',\n",
       " '/kaggle/working/trainval/trainval/trainval/V445-R9401.png',\n",
       " '/kaggle/working/trainval/trainval/trainval/V104-N2226.png',\n",
       " '/kaggle/working/trainval/trainval/trainval/V270-N0451.png',\n",
       " '/kaggle/working/trainval/trainval/trainval/V490-N0351.png',\n",
       " '/kaggle/working/trainval/trainval/trainval/V660-N0426.png',\n",
       " '/kaggle/working/trainval/trainval/trainval/V480-N0676.png',\n",
       " '/kaggle/working/trainval/trainval/trainval/V85-R1835.png',\n",
       " '/kaggle/working/trainval/trainval/trainval/V575-R0731.png',\n",
       " '/kaggle/working/trainval/trainval/trainval/V486-N0026.png',\n",
       " '/kaggle/working/trainval/trainval/trainval/V538-N0666.png',\n",
       " '/kaggle/working/trainval/trainval/trainval/V820-N0726.png',\n",
       " '/kaggle/working/trainval/trainval/trainval/V880-N0076.png',\n",
       " '/kaggle/working/trainval/trainval/trainval/V226-N0226.png',\n",
       " '/kaggle/working/trainval/trainval/trainval/V862-N0301.png',\n",
       " '/kaggle/working/trainval/trainval/trainval/V274-N0251.png',\n",
       " '/kaggle/working/trainval/trainval/trainval/V370-N0726.png',\n",
       " '/kaggle/working/trainval/trainval/trainval/V138-N0141.png',\n",
       " '/kaggle/working/trainval/trainval/trainval/V834-N0276.png',\n",
       " '/kaggle/working/trainval/trainval/trainval/V425-R0676.png',\n",
       " '/kaggle/working/trainval/trainval/trainval/V399-R3801.png',\n",
       " '/kaggle/working/trainval/trainval/trainval/V326-N0301.png',\n",
       " '/kaggle/working/trainval/trainval/trainval/V443-R1550.png',\n",
       " '/kaggle/working/trainval/trainval/trainval/V256-N1076.png',\n",
       " '/kaggle/working/trainval/trainval/trainval/V79-R4850.png',\n",
       " '/kaggle/working/trainval/trainval/trainval/V539-R0760.png',\n",
       " '/kaggle/working/trainval/trainval/trainval/V814-N0001.png',\n",
       " '/kaggle/working/trainval/trainval/trainval/V546-N0701.png',\n",
       " '/kaggle/working/trainval/trainval/trainval/V151-R1100.png',\n",
       " '/kaggle/working/trainval/trainval/trainval/V687-R2195.png',\n",
       " '/kaggle/working/trainval/trainval/trainval/V15-R1421.png',\n",
       " '/kaggle/working/trainval/trainval/trainval/V189-R0625.png',\n",
       " '/kaggle/working/trainval/trainval/trainval/V610-N0026.png',\n",
       " '/kaggle/working/trainval/trainval/trainval/V694-N0426.png',\n",
       " '/kaggle/working/trainval/trainval/trainval/V506-N0176.png',\n",
       " '/kaggle/working/trainval/trainval/trainval/V161-R2401.png',\n",
       " '/kaggle/working/trainval/trainval/trainval/V103-R43200.png',\n",
       " '/kaggle/working/trainval/trainval/trainval/V533-R0620.png',\n",
       " '/kaggle/working/trainval/trainval/trainval/V22-N0601.png',\n",
       " '/kaggle/working/trainval/trainval/trainval/V678-N0101.png',\n",
       " '/kaggle/working/trainval/trainval/trainval/V518-N0376.png',\n",
       " '/kaggle/working/trainval/trainval/trainval/V730-N0321.png',\n",
       " '/kaggle/working/trainval/trainval/trainval/V569-R2800.png',\n",
       " '/kaggle/working/trainval/trainval/trainval/V194-N0026.png',\n",
       " '/kaggle/working/trainval/trainval/trainval/V876-N0431.png',\n",
       " '/kaggle/working/trainval/trainval/trainval/V713-R2070.png',\n",
       " '/kaggle/working/trainval/trainval/trainval/V695-R2170.png',\n",
       " '/kaggle/working/trainval/trainval/trainval/V82-N4351.png',\n",
       " '/kaggle/working/trainval/trainval/trainval/V112-N0001.png',\n",
       " '/kaggle/working/trainval/trainval/trainval/V822-N0901.png',\n",
       " '/kaggle/working/trainval/trainval/trainval/V253-R5601.png',\n",
       " '/kaggle/working/trainval/trainval/trainval/V153-R1451.png',\n",
       " '/kaggle/working/trainval/trainval/trainval/V440-N0126.png',\n",
       " '/kaggle/working/trainval/trainval/trainval/V15-R1301.png',\n",
       " '/kaggle/working/trainval/trainval/trainval/V312-N0076.png',\n",
       " '/kaggle/working/trainval/trainval/trainval/V171-R0337.png',\n",
       " '/kaggle/working/trainval/trainval/trainval/V31-R0945.png',\n",
       " '/kaggle/working/trainval/trainval/trainval/V711-R8230.png',\n",
       " '/kaggle/working/trainval/trainval/trainval/V584-N0226.png',\n",
       " '/kaggle/working/trainval/trainval/trainval/V312-N0201.png',\n",
       " '/kaggle/working/trainval/trainval/trainval/V836-N0101.png',\n",
       " '/kaggle/working/trainval/trainval/trainval/V600-N0151.png',\n",
       " '/kaggle/working/trainval/trainval/trainval/V637-R7051.png',\n",
       " '/kaggle/working/trainval/trainval/trainval/V308-N0101.png',\n",
       " '/kaggle/working/trainval/trainval/trainval/V420-N0201.png',\n",
       " '/kaggle/working/trainval/trainval/trainval/V456-N0151.png',\n",
       " '/kaggle/working/trainval/trainval/trainval/V638-N0001.png',\n",
       " '/kaggle/working/trainval/trainval/trainval/V135-R0300.png',\n",
       " '/kaggle/working/trainval/trainval/trainval/V378-N1991.png',\n",
       " '/kaggle/working/trainval/trainval/trainval/V462-N0301.png',\n",
       " '/kaggle/working/trainval/trainval/trainval/V456-N0226.png',\n",
       " '/kaggle/working/trainval/trainval/trainval/V259-R0810.png',\n",
       " '/kaggle/working/trainval/trainval/trainval/V318-N0831.png',\n",
       " '/kaggle/working/trainval/trainval/trainval/V286-N0126.png',\n",
       " '/kaggle/working/trainval/trainval/trainval/V144-N0101.png',\n",
       " '/kaggle/working/trainval/trainval/trainval/V124-N0251.png',\n",
       " '/kaggle/working/trainval/trainval/trainval/V49-R0500.png',\n",
       " '/kaggle/working/trainval/trainval/trainval/V447-R0176.png',\n",
       " '/kaggle/working/trainval/trainval/trainval/V50-N0026.png',\n",
       " '/kaggle/working/trainval/trainval/trainval/V360-N1326.png',\n",
       " '/kaggle/working/trainval/trainval/trainval/V367-R2105.png',\n",
       " '/kaggle/working/trainval/trainval/trainval/V380-N10001.png',\n",
       " '/kaggle/working/trainval/trainval/trainval/V21-R4760.png',\n",
       " '/kaggle/working/trainval/trainval/trainval/V101-R0181.png',\n",
       " '/kaggle/working/trainval/trainval/trainval/V230-N0351.png',\n",
       " '/kaggle/working/trainval/trainval/trainval/V632-N0911.png',\n",
       " '/kaggle/working/trainval/trainval/trainval/V256-N1001.png',\n",
       " '/kaggle/working/trainval/trainval/trainval/V668-N0776.png',\n",
       " '/kaggle/working/trainval/trainval/trainval/V110-N0926.png',\n",
       " '/kaggle/working/trainval/trainval/trainval/V5-R0271.png',\n",
       " '/kaggle/working/trainval/trainval/trainval/V428-N1996.png',\n",
       " '/kaggle/working/trainval/trainval/trainval/V572-N0976.png',\n",
       " '/kaggle/working/trainval/trainval/trainval/V269-R4870.png',\n",
       " '/kaggle/working/trainval/trainval/trainval/V98-N0176.png',\n",
       " '/kaggle/working/trainval/trainval/trainval/V882-N0176.png',\n",
       " '/kaggle/working/trainval/trainval/trainval/V629-R0751.png',\n",
       " '/kaggle/working/trainval/trainval/trainval/V112-N0201.png',\n",
       " '/kaggle/working/trainval/trainval/trainval/V320-N0301.png',\n",
       " '/kaggle/working/trainval/trainval/trainval/V221-R0181.png',\n",
       " '/kaggle/working/trainval/trainval/trainval/V653-R0660.png',\n",
       " '/kaggle/working/trainval/trainval/trainval/V41-R1051.png',\n",
       " '/kaggle/working/trainval/trainval/trainval/V79-R4475.png',\n",
       " '/kaggle/working/trainval/trainval/trainval/V672-N0151.png',\n",
       " '/kaggle/working/trainval/trainval/trainval/V892-N0026.png',\n",
       " '/kaggle/working/trainval/trainval/trainval/V201-R2594.png',\n",
       " '/kaggle/working/trainval/trainval/trainval/V303-R7541.png',\n",
       " '/kaggle/working/trainval/trainval/trainval/V719-R4790.png',\n",
       " '/kaggle/working/trainval/trainval/trainval/V716-N0826.png',\n",
       " '/kaggle/working/trainval/trainval/trainval/V474-N0201.png',\n",
       " '/kaggle/working/trainval/trainval/trainval/V84-N0951.png',\n",
       " '/kaggle/working/trainval/trainval/trainval/V145-R0601.png',\n",
       " '/kaggle/working/trainval/trainval/trainval/V392-N0876.png',\n",
       " '/kaggle/working/trainval/trainval/trainval/V910-N0601.png',\n",
       " '/kaggle/working/trainval/trainval/trainval/V59-R1261.png',\n",
       " '/kaggle/working/trainval/trainval/trainval/V926-N0091.png',\n",
       " '/kaggle/working/trainval/trainval/trainval/V598-N0151.png',\n",
       " '/kaggle/working/trainval/trainval/trainval/V49-R0950.png',\n",
       " '/kaggle/working/trainval/trainval/trainval/V100-N0826.png',\n",
       " '/kaggle/working/trainval/trainval/trainval/V331-R0965.png',\n",
       " '/kaggle/working/trainval/trainval/trainval/V631-R0276.png',\n",
       " '/kaggle/working/trainval/trainval/trainval/V698-N0726.png',\n",
       " '/kaggle/working/trainval/trainval/trainval/V832-N0576.png',\n",
       " '/kaggle/working/trainval/trainval/trainval/V148-N0901.png',\n",
       " '/kaggle/working/trainval/trainval/trainval/V136-N0046.png',\n",
       " '/kaggle/working/trainval/trainval/trainval/V294-N0926.png',\n",
       " '/kaggle/working/trainval/trainval/trainval/V63-R0485.png',\n",
       " '/kaggle/working/trainval/trainval/trainval/V796-N0136.png',\n",
       " '/kaggle/working/trainval/trainval/trainval/V67-R0300.png',\n",
       " '/kaggle/working/trainval/trainval/trainval/V690-N0201.png',\n",
       " '/kaggle/working/trainval/trainval/trainval/V600-N0426.png',\n",
       " '/kaggle/working/trainval/trainval/trainval/V838-N0576.png',\n",
       " '/kaggle/working/trainval/trainval/trainval/V48-N0401.png',\n",
       " '/kaggle/working/trainval/trainval/trainval/V290-N0526.png',\n",
       " '/kaggle/working/trainval/trainval/trainval/V50-N0476.png',\n",
       " '/kaggle/working/trainval/trainval/trainval/V334-N0761.png',\n",
       " '/kaggle/working/trainval/trainval/trainval/V706-N0501.png',\n",
       " '/kaggle/working/trainval/trainval/trainval/V278-N0001.png',\n",
       " '/kaggle/working/trainval/trainval/trainval/V398-N0626.png',\n",
       " ...]"
      ]
     },
     "execution_count": 10,
     "metadata": {},
     "output_type": "execute_result"
    }
   ],
   "source": [
    "from distutils.dir_util import copy_tree\n",
    "copy_tree('/kaggle/input/', '/kaggle/working')"
   ]
  },
  {
   "cell_type": "code",
   "execution_count": 11,
   "id": "62dd4c9e",
   "metadata": {
    "execution": {
     "iopub.execute_input": "2022-05-27T17:01:34.506115Z",
     "iopub.status.busy": "2022-05-27T17:01:34.505334Z",
     "iopub.status.idle": "2022-05-27T17:01:34.731463Z",
     "shell.execute_reply": "2022-05-27T17:01:34.730887Z"
    },
    "papermill": {
     "duration": 0.2472,
     "end_time": "2022-05-27T17:01:34.731586",
     "exception": false,
     "start_time": "2022-05-27T17:01:34.484386",
     "status": "completed"
    },
    "tags": []
   },
   "outputs": [],
   "source": [
    "train_files,tags=img_files(\"/kaggle/working/trainval/trainval/trainval/*.png\")\n",
    "trainX,trainY=preprocess_data(train_files)"
   ]
  },
  {
   "cell_type": "code",
   "execution_count": 12,
   "id": "4dc7316a",
   "metadata": {
    "execution": {
     "iopub.execute_input": "2022-05-27T17:01:34.772284Z",
     "iopub.status.busy": "2022-05-27T17:01:34.771493Z",
     "iopub.status.idle": "2022-05-27T17:01:34.773579Z",
     "shell.execute_reply": "2022-05-27T17:01:34.773979Z"
    },
    "papermill": {
     "duration": 0.025235,
     "end_time": "2022-05-27T17:01:34.774117",
     "exception": false,
     "start_time": "2022-05-27T17:01:34.748882",
     "status": "completed"
    },
    "tags": []
   },
   "outputs": [],
   "source": [
    "train_transform=transforms.Compose([\n",
    "      transforms.Resize((320,320)),\n",
    "      transforms.ToTensor(),  \n",
    "      transforms.Normalize([0.4335, 0.4272, 0.4201], [0.2497, 0.2502, 0.2524]),\n",
    "                            \n",
    "])\n",
    "\n",
    "valid_transform=transforms.Compose([\n",
    "      transforms.Resize((320,320)),\n",
    "      transforms.ToTensor(),  \n",
    "      transforms.Normalize([0.4335, 0.4272, 0.4201], [0.2497, 0.2502, 0.2524]),\n",
    "                           \n",
    "])"
   ]
  },
  {
   "cell_type": "code",
   "execution_count": 13,
   "id": "dd95e7bd",
   "metadata": {
    "execution": {
     "iopub.execute_input": "2022-05-27T17:01:34.820836Z",
     "iopub.status.busy": "2022-05-27T17:01:34.819961Z",
     "iopub.status.idle": "2022-05-27T17:01:34.821736Z",
     "shell.execute_reply": "2022-05-27T17:01:34.822222Z"
    },
    "papermill": {
     "duration": 0.031365,
     "end_time": "2022-05-27T17:01:34.822362",
     "exception": false,
     "start_time": "2022-05-27T17:01:34.790997",
     "status": "completed"
    },
    "tags": []
   },
   "outputs": [],
   "source": [
    "def hyptuning(version):\n",
    "    param={\"num_layers\":version.suggest_int(\"num_layer\",1,4),\n",
    "           \"hidden_size\":version.suggest_int(\"hidden_size\",16,128),\n",
    "           \"learning_rate\":version.suggest_uniform(\"learning_rate\",5e-6,1e-2),\n",
    "           \n",
    "\n",
    "        \n",
    "    }\n",
    "    epochs=30\n",
    "    hidden_size=param[\"hidden_size\"]\n",
    "    num_layers=param[\"num_layers\"]\n",
    "    num_classes=1\n",
    "    learning_rate=param[\"learning_rate\"]\n",
    "    earlystop=10\n",
    "\n",
    "    modelo = LSTM(hidden_size, num_layers,num_classes)\n",
    "    modelo.to(device)\n",
    "    criterion = torch.nn.BCEWithLogitsLoss()\n",
    "    optimizer = torch.optim.Adam(modelo.parameters(), lr=param[\"learning_rate\"])\n",
    "    prueba=RoboDataset(trainX,trainY,transform=train_transform)\n",
    "    nfold=8\n",
    "    kfold=KFold(n_splits=nfold,shuffle=True)\n",
    "    foldperf={}\n",
    "    for fold,(train_idx,test_idx) in enumerate(kfold.split(prueba)):\n",
    "        print('Fold No. {}'.format(fold+1))\n",
    "        train_sampler=SubsetRandomSampler(train_idx)\n",
    "        test_sampler=SubsetRandomSampler(test_idx)\n",
    "        trainloader=DataLoader(prueba,batch_size=32,sampler=train_sampler)\n",
    "        validloader=DataLoader(prueba,batch_size=32,sampler=test_sampler)\n",
    "        modelo,history=train_model(modelo,earlystop,epochs,trainloader,validloader,optimizer,criterion)\n",
    "        foldperf['fold{}'.format(fold+1)] = history  \n",
    "        modelo.apply(reset_weights)\n",
    "    \n",
    "    testloss_fold=[]\n",
    "    k=8\n",
    "    for f in range(k):\n",
    "        testloss_fold.append(np.min(foldperf['fold{}'.format(f+1)]['test_loss']))\n",
    "            \n",
    "\n",
    "    return np.mean(testloss_fold)"
   ]
  },
  {
   "cell_type": "code",
   "execution_count": 14,
   "id": "bc2d8363",
   "metadata": {
    "execution": {
     "iopub.execute_input": "2022-05-27T17:01:34.863115Z",
     "iopub.status.busy": "2022-05-27T17:01:34.862538Z"
    },
    "papermill": {
     "duration": null,
     "end_time": null,
     "exception": false,
     "start_time": "2022-05-27T17:01:34.839316",
     "status": "running"
    },
    "tags": []
   },
   "outputs": [
    {
     "name": "stderr",
     "output_type": "stream",
     "text": [
      "\u001b[32m[I 2022-05-27 17:01:34,859]\u001b[0m A new study created in memory with name: no-name-a65e18dd-8984-41e5-87f3-8fd657e08ae8\u001b[0m\n"
     ]
    },
    {
     "name": "stdout",
     "output_type": "stream",
     "text": [
      "Downloading https://ultralytics.com/assets/Arial.ttf to /root/.config/Ultralytics/Arial.ttf...\n"
     ]
    },
    {
     "name": "stdout",
     "output_type": "stream",
     "text": [
      "Fold No. 1\n"
     ]
    },
    {
     "name": "stdout",
     "output_type": "stream",
     "text": [
      "Epoch: 1 Training, loss: 0.68872, correct/total: 384 / 692, accuracy:55.491 \n"
     ]
    },
    {
     "name": "stdout",
     "output_type": "stream",
     "text": [
      "Epoch: 1 Validation, loss: 0.64389, correct/total: 65 / 99, accuracy:65.657 \n"
     ]
    },
    {
     "name": "stdout",
     "output_type": "stream",
     "text": [
      "Epoch: 2 Training, loss: 0.67654, correct/total: 406 / 692, accuracy:58.671 \n"
     ]
    },
    {
     "name": "stdout",
     "output_type": "stream",
     "text": [
      "Epoch: 2 Validation, loss: 0.69956, correct/total: 50 / 99, accuracy:50.505 \n",
      "EarlyStopping counter: 1 out of 10\n"
     ]
    },
    {
     "name": "stdout",
     "output_type": "stream",
     "text": [
      "Epoch: 3 Training, loss: 0.66574, correct/total: 437 / 692, accuracy:63.150 \n"
     ]
    },
    {
     "name": "stdout",
     "output_type": "stream",
     "text": [
      "Epoch: 3 Validation, loss: 0.63465, correct/total: 68 / 99, accuracy:68.687 \n"
     ]
    },
    {
     "name": "stdout",
     "output_type": "stream",
     "text": [
      "Epoch: 4 Training, loss: 0.63490, correct/total: 444 / 692, accuracy:64.162 \n"
     ]
    },
    {
     "name": "stdout",
     "output_type": "stream",
     "text": [
      "Epoch: 4 Validation, loss: 0.62555, correct/total: 69 / 99, accuracy:69.697 \n"
     ]
    },
    {
     "name": "stdout",
     "output_type": "stream",
     "text": [
      "Epoch: 5 Training, loss: 0.60919, correct/total: 477 / 692, accuracy:68.931 \n"
     ]
    },
    {
     "name": "stdout",
     "output_type": "stream",
     "text": [
      "Epoch: 5 Validation, loss: 0.66310, correct/total: 69 / 99, accuracy:69.697 \n",
      "EarlyStopping counter: 1 out of 10\n"
     ]
    },
    {
     "name": "stdout",
     "output_type": "stream",
     "text": [
      "Epoch: 6 Training, loss: 0.67366, correct/total: 421 / 692, accuracy:60.838 \n"
     ]
    },
    {
     "name": "stdout",
     "output_type": "stream",
     "text": [
      "Epoch: 6 Validation, loss: 0.67482, correct/total: 66 / 99, accuracy:66.667 \n",
      "EarlyStopping counter: 2 out of 10\n"
     ]
    },
    {
     "name": "stdout",
     "output_type": "stream",
     "text": [
      "Epoch: 7 Training, loss: 0.64655, correct/total: 452 / 692, accuracy:65.318 \n"
     ]
    },
    {
     "name": "stdout",
     "output_type": "stream",
     "text": [
      "Epoch: 7 Validation, loss: 0.65463, correct/total: 49 / 99, accuracy:49.495 \n",
      "EarlyStopping counter: 3 out of 10\n"
     ]
    },
    {
     "name": "stdout",
     "output_type": "stream",
     "text": [
      "Epoch: 8 Training, loss: 0.62868, correct/total: 463 / 692, accuracy:66.908 \n"
     ]
    },
    {
     "name": "stdout",
     "output_type": "stream",
     "text": [
      "Epoch: 8 Validation, loss: 0.69606, correct/total: 51 / 99, accuracy:51.515 \n",
      "EarlyStopping counter: 4 out of 10\n"
     ]
    },
    {
     "name": "stdout",
     "output_type": "stream",
     "text": [
      "Epoch: 9 Training, loss: 0.59159, correct/total: 483 / 692, accuracy:69.798 \n"
     ]
    },
    {
     "name": "stdout",
     "output_type": "stream",
     "text": [
      "Epoch: 9 Validation, loss: 0.56800, correct/total: 64 / 99, accuracy:64.646 \n"
     ]
    },
    {
     "name": "stdout",
     "output_type": "stream",
     "text": [
      "Epoch: 10 Training, loss: 0.57383, correct/total: 496 / 692, accuracy:71.676 \n"
     ]
    },
    {
     "name": "stdout",
     "output_type": "stream",
     "text": [
      "Epoch: 10 Validation, loss: 0.64052, correct/total: 67 / 99, accuracy:67.677 \n",
      "EarlyStopping counter: 1 out of 10\n"
     ]
    },
    {
     "name": "stdout",
     "output_type": "stream",
     "text": [
      "Epoch: 11 Training, loss: 0.58631, correct/total: 488 / 692, accuracy:70.520 \n"
     ]
    },
    {
     "name": "stdout",
     "output_type": "stream",
     "text": [
      "Epoch: 11 Validation, loss: 0.63592, correct/total: 59 / 99, accuracy:59.596 \n",
      "EarlyStopping counter: 2 out of 10\n"
     ]
    },
    {
     "name": "stdout",
     "output_type": "stream",
     "text": [
      "Epoch: 12 Training, loss: 0.56270, correct/total: 502 / 692, accuracy:72.543 \n"
     ]
    },
    {
     "name": "stdout",
     "output_type": "stream",
     "text": [
      "Epoch: 12 Validation, loss: 0.55257, correct/total: 68 / 99, accuracy:68.687 \n"
     ]
    },
    {
     "name": "stdout",
     "output_type": "stream",
     "text": [
      "Epoch: 13 Training, loss: 0.55065, correct/total: 500 / 692, accuracy:72.254 \n"
     ]
    },
    {
     "name": "stdout",
     "output_type": "stream",
     "text": [
      "Epoch: 13 Validation, loss: 0.67267, correct/total: 60 / 99, accuracy:60.606 \n",
      "EarlyStopping counter: 1 out of 10\n"
     ]
    },
    {
     "name": "stdout",
     "output_type": "stream",
     "text": [
      "Epoch: 14 Training, loss: 0.56896, correct/total: 479 / 692, accuracy:69.220 \n"
     ]
    },
    {
     "name": "stdout",
     "output_type": "stream",
     "text": [
      "Epoch: 14 Validation, loss: 0.75776, correct/total: 64 / 99, accuracy:64.646 \n",
      "EarlyStopping counter: 2 out of 10\n"
     ]
    },
    {
     "name": "stdout",
     "output_type": "stream",
     "text": [
      "Epoch: 15 Training, loss: 0.53770, correct/total: 523 / 692, accuracy:75.578 \n"
     ]
    },
    {
     "name": "stdout",
     "output_type": "stream",
     "text": [
      "Epoch: 15 Validation, loss: 0.60572, correct/total: 66 / 99, accuracy:66.667 \n",
      "EarlyStopping counter: 3 out of 10\n"
     ]
    },
    {
     "name": "stdout",
     "output_type": "stream",
     "text": [
      "Epoch: 16 Training, loss: 0.52932, correct/total: 526 / 692, accuracy:76.012 \n"
     ]
    },
    {
     "name": "stdout",
     "output_type": "stream",
     "text": [
      "Epoch: 16 Validation, loss: 0.52958, correct/total: 61 / 99, accuracy:61.616 \n"
     ]
    },
    {
     "name": "stdout",
     "output_type": "stream",
     "text": [
      "Epoch: 17 Training, loss: 0.53604, correct/total: 512 / 692, accuracy:73.988 \n"
     ]
    },
    {
     "name": "stdout",
     "output_type": "stream",
     "text": [
      "Epoch: 17 Validation, loss: 0.63561, correct/total: 64 / 99, accuracy:64.646 \n",
      "EarlyStopping counter: 1 out of 10\n"
     ]
    },
    {
     "name": "stdout",
     "output_type": "stream",
     "text": [
      "Epoch: 18 Training, loss: 0.52687, correct/total: 523 / 692, accuracy:75.578 \n"
     ]
    },
    {
     "name": "stdout",
     "output_type": "stream",
     "text": [
      "Epoch: 18 Validation, loss: 0.60892, correct/total: 71 / 99, accuracy:71.717 \n",
      "EarlyStopping counter: 2 out of 10\n"
     ]
    },
    {
     "name": "stdout",
     "output_type": "stream",
     "text": [
      "Epoch: 19 Training, loss: 0.51343, correct/total: 529 / 692, accuracy:76.445 \n"
     ]
    },
    {
     "name": "stdout",
     "output_type": "stream",
     "text": [
      "Epoch: 19 Validation, loss: 0.78608, correct/total: 67 / 99, accuracy:67.677 \n",
      "EarlyStopping counter: 3 out of 10\n"
     ]
    },
    {
     "name": "stdout",
     "output_type": "stream",
     "text": [
      "Epoch: 20 Training, loss: 0.53404, correct/total: 515 / 692, accuracy:74.422 \n"
     ]
    },
    {
     "name": "stdout",
     "output_type": "stream",
     "text": [
      "Epoch: 20 Validation, loss: 0.57413, correct/total: 68 / 99, accuracy:68.687 \n",
      "EarlyStopping counter: 4 out of 10\n"
     ]
    },
    {
     "name": "stdout",
     "output_type": "stream",
     "text": [
      "Epoch: 21 Training, loss: 0.50882, correct/total: 535 / 692, accuracy:77.312 \n"
     ]
    },
    {
     "name": "stdout",
     "output_type": "stream",
     "text": [
      "Epoch: 21 Validation, loss: 0.69642, correct/total: 68 / 99, accuracy:68.687 \n",
      "EarlyStopping counter: 5 out of 10\n"
     ]
    },
    {
     "name": "stdout",
     "output_type": "stream",
     "text": [
      "Epoch: 22 Training, loss: 0.53705, correct/total: 517 / 692, accuracy:74.711 \n"
     ]
    },
    {
     "name": "stdout",
     "output_type": "stream",
     "text": [
      "Epoch: 22 Validation, loss: 0.83910, correct/total: 54 / 99, accuracy:54.545 \n",
      "EarlyStopping counter: 6 out of 10\n"
     ]
    },
    {
     "name": "stdout",
     "output_type": "stream",
     "text": [
      "Epoch: 23 Training, loss: 0.55331, correct/total: 517 / 692, accuracy:74.711 \n"
     ]
    },
    {
     "name": "stdout",
     "output_type": "stream",
     "text": [
      "Epoch: 23 Validation, loss: 0.73706, correct/total: 62 / 99, accuracy:62.626 \n",
      "EarlyStopping counter: 7 out of 10\n"
     ]
    },
    {
     "name": "stdout",
     "output_type": "stream",
     "text": [
      "Epoch: 24 Training, loss: 0.51497, correct/total: 530 / 692, accuracy:76.590 \n"
     ]
    },
    {
     "name": "stdout",
     "output_type": "stream",
     "text": [
      "Epoch: 24 Validation, loss: 0.70078, correct/total: 56 / 99, accuracy:56.566 \n",
      "EarlyStopping counter: 8 out of 10\n"
     ]
    },
    {
     "name": "stdout",
     "output_type": "stream",
     "text": [
      "Epoch: 25 Training, loss: 0.54383, correct/total: 503 / 692, accuracy:72.688 \n"
     ]
    },
    {
     "name": "stdout",
     "output_type": "stream",
     "text": [
      "Epoch: 25 Validation, loss: 0.64957, correct/total: 67 / 99, accuracy:67.677 \n",
      "EarlyStopping counter: 9 out of 10\n"
     ]
    },
    {
     "name": "stdout",
     "output_type": "stream",
     "text": [
      "Epoch: 26 Training, loss: 0.51153, correct/total: 529 / 692, accuracy:76.445 \n"
     ]
    },
    {
     "name": "stdout",
     "output_type": "stream",
     "text": [
      "Epoch: 26 Validation, loss: 0.76960, correct/total: 65 / 99, accuracy:65.657 \n",
      "EarlyStopping counter: 10 out of 10\n",
      "Early stopping\n",
      "Fold No. 2\n"
     ]
    },
    {
     "name": "stdout",
     "output_type": "stream",
     "text": [
      "Epoch: 1 Training, loss: 0.66782, correct/total: 423 / 692, accuracy:61.127 \n"
     ]
    },
    {
     "name": "stdout",
     "output_type": "stream",
     "text": [
      "Epoch: 1 Validation, loss: 0.74397, correct/total: 48 / 99, accuracy:48.485 \n"
     ]
    },
    {
     "name": "stdout",
     "output_type": "stream",
     "text": [
      "Epoch: 2 Training, loss: 0.67887, correct/total: 405 / 692, accuracy:58.526 \n"
     ]
    },
    {
     "name": "stdout",
     "output_type": "stream",
     "text": [
      "Epoch: 2 Validation, loss: 0.68831, correct/total: 51 / 99, accuracy:51.515 \n"
     ]
    },
    {
     "name": "stdout",
     "output_type": "stream",
     "text": [
      "Epoch: 3 Training, loss: 0.67631, correct/total: 413 / 692, accuracy:59.682 \n"
     ]
    },
    {
     "name": "stdout",
     "output_type": "stream",
     "text": [
      "Epoch: 3 Validation, loss: 0.73402, correct/total: 51 / 99, accuracy:51.515 \n",
      "EarlyStopping counter: 1 out of 10\n"
     ]
    },
    {
     "name": "stdout",
     "output_type": "stream",
     "text": [
      "Epoch: 4 Training, loss: 0.67157, correct/total: 413 / 692, accuracy:59.682 \n"
     ]
    },
    {
     "name": "stdout",
     "output_type": "stream",
     "text": [
      "Epoch: 4 Validation, loss: 0.69694, correct/total: 51 / 99, accuracy:51.515 \n",
      "EarlyStopping counter: 2 out of 10\n"
     ]
    },
    {
     "name": "stdout",
     "output_type": "stream",
     "text": [
      "Epoch: 5 Training, loss: 0.67281, correct/total: 413 / 692, accuracy:59.682 \n"
     ]
    },
    {
     "name": "stdout",
     "output_type": "stream",
     "text": [
      "Epoch: 5 Validation, loss: 0.71415, correct/total: 51 / 99, accuracy:51.515 \n",
      "EarlyStopping counter: 3 out of 10\n"
     ]
    },
    {
     "name": "stdout",
     "output_type": "stream",
     "text": [
      "Epoch: 6 Training, loss: 0.67462, correct/total: 413 / 692, accuracy:59.682 \n"
     ]
    },
    {
     "name": "stdout",
     "output_type": "stream",
     "text": [
      "Epoch: 6 Validation, loss: 0.65860, correct/total: 51 / 99, accuracy:51.515 \n"
     ]
    },
    {
     "name": "stdout",
     "output_type": "stream",
     "text": [
      "Epoch: 7 Training, loss: 0.67240, correct/total: 412 / 692, accuracy:59.538 \n"
     ]
    },
    {
     "name": "stdout",
     "output_type": "stream",
     "text": [
      "Epoch: 7 Validation, loss: 0.72770, correct/total: 51 / 99, accuracy:51.515 \n",
      "EarlyStopping counter: 1 out of 10\n"
     ]
    },
    {
     "name": "stdout",
     "output_type": "stream",
     "text": [
      "Epoch: 8 Training, loss: 0.67561, correct/total: 413 / 692, accuracy:59.682 \n"
     ]
    },
    {
     "name": "stdout",
     "output_type": "stream",
     "text": [
      "Epoch: 8 Validation, loss: 0.69420, correct/total: 51 / 99, accuracy:51.515 \n",
      "EarlyStopping counter: 2 out of 10\n"
     ]
    },
    {
     "name": "stdout",
     "output_type": "stream",
     "text": [
      "Epoch: 9 Training, loss: 0.67555, correct/total: 413 / 692, accuracy:59.682 \n"
     ]
    },
    {
     "name": "stdout",
     "output_type": "stream",
     "text": [
      "Epoch: 9 Validation, loss: 0.71909, correct/total: 51 / 99, accuracy:51.515 \n",
      "EarlyStopping counter: 3 out of 10\n"
     ]
    },
    {
     "name": "stdout",
     "output_type": "stream",
     "text": [
      "Epoch: 10 Training, loss: 0.67347, correct/total: 413 / 692, accuracy:59.682 \n"
     ]
    },
    {
     "name": "stdout",
     "output_type": "stream",
     "text": [
      "Epoch: 10 Validation, loss: 0.71386, correct/total: 51 / 99, accuracy:51.515 \n",
      "EarlyStopping counter: 4 out of 10\n"
     ]
    },
    {
     "name": "stdout",
     "output_type": "stream",
     "text": [
      "Epoch: 11 Training, loss: 0.65878, correct/total: 410 / 692, accuracy:59.249 \n"
     ]
    },
    {
     "name": "stdout",
     "output_type": "stream",
     "text": [
      "Epoch: 11 Validation, loss: 0.69456, correct/total: 48 / 99, accuracy:48.485 \n",
      "EarlyStopping counter: 5 out of 10\n"
     ]
    },
    {
     "name": "stdout",
     "output_type": "stream",
     "text": [
      "Epoch: 12 Training, loss: 0.67214, correct/total: 393 / 692, accuracy:56.792 \n"
     ]
    },
    {
     "name": "stdout",
     "output_type": "stream",
     "text": [
      "Epoch: 12 Validation, loss: 0.72810, correct/total: 51 / 99, accuracy:51.515 \n",
      "EarlyStopping counter: 6 out of 10\n"
     ]
    },
    {
     "name": "stdout",
     "output_type": "stream",
     "text": [
      "Epoch: 13 Training, loss: 0.66925, correct/total: 399 / 692, accuracy:57.659 \n"
     ]
    },
    {
     "name": "stdout",
     "output_type": "stream",
     "text": [
      "Epoch: 13 Validation, loss: 0.86141, correct/total: 51 / 99, accuracy:51.515 \n",
      "EarlyStopping counter: 7 out of 10\n"
     ]
    },
    {
     "name": "stdout",
     "output_type": "stream",
     "text": [
      "Epoch: 14 Training, loss: 0.68115, correct/total: 413 / 692, accuracy:59.682 \n"
     ]
    },
    {
     "name": "stdout",
     "output_type": "stream",
     "text": [
      "Epoch: 14 Validation, loss: 0.67772, correct/total: 51 / 99, accuracy:51.515 \n",
      "EarlyStopping counter: 8 out of 10\n"
     ]
    },
    {
     "name": "stdout",
     "output_type": "stream",
     "text": [
      "Epoch: 15 Training, loss: 0.67474, correct/total: 413 / 692, accuracy:59.682 \n"
     ]
    },
    {
     "name": "stdout",
     "output_type": "stream",
     "text": [
      "Epoch: 15 Validation, loss: 0.69586, correct/total: 51 / 99, accuracy:51.515 \n",
      "EarlyStopping counter: 9 out of 10\n"
     ]
    },
    {
     "name": "stdout",
     "output_type": "stream",
     "text": [
      "Epoch: 16 Training, loss: 0.67744, correct/total: 413 / 692, accuracy:59.682 \n"
     ]
    },
    {
     "name": "stdout",
     "output_type": "stream",
     "text": [
      "Epoch: 16 Validation, loss: 0.71987, correct/total: 51 / 99, accuracy:51.515 \n",
      "EarlyStopping counter: 10 out of 10\n",
      "Early stopping\n",
      "Fold No. 3\n"
     ]
    },
    {
     "name": "stdout",
     "output_type": "stream",
     "text": [
      "Epoch: 1 Training, loss: 0.68508, correct/total: 393 / 692, accuracy:56.792 \n"
     ]
    },
    {
     "name": "stdout",
     "output_type": "stream",
     "text": [
      "Epoch: 1 Validation, loss: 0.69267, correct/total: 57 / 99, accuracy:57.576 \n"
     ]
    },
    {
     "name": "stdout",
     "output_type": "stream",
     "text": [
      "Epoch: 2 Training, loss: 0.66800, correct/total: 407 / 692, accuracy:58.815 \n"
     ]
    },
    {
     "name": "stdout",
     "output_type": "stream",
     "text": [
      "Epoch: 2 Validation, loss: 0.65825, correct/total: 57 / 99, accuracy:57.576 \n"
     ]
    },
    {
     "name": "stdout",
     "output_type": "stream",
     "text": [
      "Epoch: 3 Training, loss: 0.63432, correct/total: 443 / 692, accuracy:64.017 \n"
     ]
    },
    {
     "name": "stdout",
     "output_type": "stream",
     "text": [
      "Epoch: 3 Validation, loss: 0.61168, correct/total: 60 / 99, accuracy:60.606 \n"
     ]
    },
    {
     "name": "stdout",
     "output_type": "stream",
     "text": [
      "Epoch: 4 Training, loss: 0.61921, correct/total: 459 / 692, accuracy:66.329 \n"
     ]
    },
    {
     "name": "stdout",
     "output_type": "stream",
     "text": [
      "Epoch: 4 Validation, loss: 0.61130, correct/total: 70 / 99, accuracy:70.707 \n"
     ]
    },
    {
     "name": "stdout",
     "output_type": "stream",
     "text": [
      "Epoch: 5 Training, loss: 0.61001, correct/total: 470 / 692, accuracy:67.919 \n"
     ]
    },
    {
     "name": "stdout",
     "output_type": "stream",
     "text": [
      "Epoch: 5 Validation, loss: 0.63778, correct/total: 69 / 99, accuracy:69.697 \n",
      "EarlyStopping counter: 1 out of 10\n"
     ]
    },
    {
     "name": "stdout",
     "output_type": "stream",
     "text": [
      "Epoch: 6 Training, loss: 0.59493, correct/total: 475 / 692, accuracy:68.642 \n"
     ]
    },
    {
     "name": "stdout",
     "output_type": "stream",
     "text": [
      "Epoch: 6 Validation, loss: 0.70902, correct/total: 67 / 99, accuracy:67.677 \n",
      "EarlyStopping counter: 2 out of 10\n"
     ]
    },
    {
     "name": "stdout",
     "output_type": "stream",
     "text": [
      "Epoch: 7 Training, loss: 0.58268, correct/total: 488 / 692, accuracy:70.520 \n"
     ]
    },
    {
     "name": "stdout",
     "output_type": "stream",
     "text": [
      "Epoch: 7 Validation, loss: 0.46331, correct/total: 75 / 99, accuracy:75.758 \n"
     ]
    },
    {
     "name": "stdout",
     "output_type": "stream",
     "text": [
      "Epoch: 8 Training, loss: 0.59203, correct/total: 477 / 692, accuracy:68.931 \n"
     ]
    },
    {
     "name": "stdout",
     "output_type": "stream",
     "text": [
      "Epoch: 8 Validation, loss: 0.50086, correct/total: 69 / 99, accuracy:69.697 \n",
      "EarlyStopping counter: 1 out of 10\n"
     ]
    },
    {
     "name": "stdout",
     "output_type": "stream",
     "text": [
      "Epoch: 9 Training, loss: 0.57726, correct/total: 498 / 692, accuracy:71.965 \n"
     ]
    },
    {
     "name": "stdout",
     "output_type": "stream",
     "text": [
      "Epoch: 9 Validation, loss: 0.52222, correct/total: 76 / 99, accuracy:76.768 \n",
      "EarlyStopping counter: 2 out of 10\n"
     ]
    },
    {
     "name": "stdout",
     "output_type": "stream",
     "text": [
      "Epoch: 10 Training, loss: 0.59702, correct/total: 495 / 692, accuracy:71.532 \n"
     ]
    },
    {
     "name": "stdout",
     "output_type": "stream",
     "text": [
      "Epoch: 10 Validation, loss: 0.48260, correct/total: 76 / 99, accuracy:76.768 \n",
      "EarlyStopping counter: 3 out of 10\n"
     ]
    },
    {
     "name": "stdout",
     "output_type": "stream",
     "text": [
      "Epoch: 11 Training, loss: 0.63569, correct/total: 471 / 692, accuracy:68.064 \n"
     ]
    },
    {
     "name": "stdout",
     "output_type": "stream",
     "text": [
      "Epoch: 11 Validation, loss: 0.61122, correct/total: 74 / 99, accuracy:74.747 \n",
      "EarlyStopping counter: 4 out of 10\n"
     ]
    },
    {
     "name": "stdout",
     "output_type": "stream",
     "text": [
      "Epoch: 12 Training, loss: 0.56709, correct/total: 509 / 692, accuracy:73.555 \n"
     ]
    },
    {
     "name": "stdout",
     "output_type": "stream",
     "text": [
      "Epoch: 12 Validation, loss: 0.51257, correct/total: 72 / 99, accuracy:72.727 \n",
      "EarlyStopping counter: 5 out of 10\n"
     ]
    },
    {
     "name": "stdout",
     "output_type": "stream",
     "text": [
      "Epoch: 13 Training, loss: 0.57301, correct/total: 509 / 692, accuracy:73.555 \n"
     ]
    },
    {
     "name": "stdout",
     "output_type": "stream",
     "text": [
      "Epoch: 13 Validation, loss: 0.59913, correct/total: 73 / 99, accuracy:73.737 \n",
      "EarlyStopping counter: 6 out of 10\n"
     ]
    },
    {
     "name": "stdout",
     "output_type": "stream",
     "text": [
      "Epoch: 14 Training, loss: 0.57223, correct/total: 509 / 692, accuracy:73.555 \n"
     ]
    },
    {
     "name": "stdout",
     "output_type": "stream",
     "text": [
      "Epoch: 14 Validation, loss: 0.51403, correct/total: 78 / 99, accuracy:78.788 \n",
      "EarlyStopping counter: 7 out of 10\n"
     ]
    },
    {
     "name": "stdout",
     "output_type": "stream",
     "text": [
      "Epoch: 15 Training, loss: 0.55107, correct/total: 519 / 692, accuracy:75.000 \n"
     ]
    },
    {
     "name": "stdout",
     "output_type": "stream",
     "text": [
      "Epoch: 15 Validation, loss: 0.48346, correct/total: 78 / 99, accuracy:78.788 \n",
      "EarlyStopping counter: 8 out of 10\n"
     ]
    },
    {
     "name": "stdout",
     "output_type": "stream",
     "text": [
      "Epoch: 16 Training, loss: 0.56145, correct/total: 506 / 692, accuracy:73.121 \n"
     ]
    },
    {
     "name": "stdout",
     "output_type": "stream",
     "text": [
      "Epoch: 16 Validation, loss: 0.48370, correct/total: 76 / 99, accuracy:76.768 \n",
      "EarlyStopping counter: 9 out of 10\n"
     ]
    },
    {
     "name": "stdout",
     "output_type": "stream",
     "text": [
      "Epoch: 17 Training, loss: 0.54257, correct/total: 517 / 692, accuracy:74.711 \n"
     ]
    },
    {
     "name": "stdout",
     "output_type": "stream",
     "text": [
      "Epoch: 17 Validation, loss: 0.50121, correct/total: 75 / 99, accuracy:75.758 \n",
      "EarlyStopping counter: 10 out of 10\n",
      "Early stopping\n",
      "Fold No. 4\n"
     ]
    },
    {
     "name": "stdout",
     "output_type": "stream",
     "text": [
      "Epoch: 1 Training, loss: 0.68092, correct/total: 404 / 692, accuracy:58.382 \n"
     ]
    },
    {
     "name": "stdout",
     "output_type": "stream",
     "text": [
      "Epoch: 1 Validation, loss: 0.69855, correct/total: 56 / 99, accuracy:56.566 \n"
     ]
    },
    {
     "name": "stdout",
     "output_type": "stream",
     "text": [
      "Epoch: 2 Training, loss: 0.66386, correct/total: 440 / 692, accuracy:63.584 \n"
     ]
    },
    {
     "name": "stdout",
     "output_type": "stream",
     "text": [
      "Epoch: 2 Validation, loss: 0.70173, correct/total: 56 / 99, accuracy:56.566 \n",
      "EarlyStopping counter: 1 out of 10\n"
     ]
    },
    {
     "name": "stdout",
     "output_type": "stream",
     "text": [
      "Epoch: 3 Training, loss: 0.67673, correct/total: 408 / 692, accuracy:58.960 \n"
     ]
    },
    {
     "name": "stdout",
     "output_type": "stream",
     "text": [
      "Epoch: 3 Validation, loss: 0.67265, correct/total: 56 / 99, accuracy:56.566 \n"
     ]
    },
    {
     "name": "stdout",
     "output_type": "stream",
     "text": [
      "Epoch: 4 Training, loss: 0.67684, correct/total: 408 / 692, accuracy:58.960 \n"
     ]
    },
    {
     "name": "stdout",
     "output_type": "stream",
     "text": [
      "Epoch: 4 Validation, loss: 0.69439, correct/total: 56 / 99, accuracy:56.566 \n",
      "EarlyStopping counter: 1 out of 10\n"
     ]
    },
    {
     "name": "stdout",
     "output_type": "stream",
     "text": [
      "Epoch: 5 Training, loss: 0.67727, correct/total: 378 / 692, accuracy:54.624 \n"
     ]
    },
    {
     "name": "stdout",
     "output_type": "stream",
     "text": [
      "Epoch: 5 Validation, loss: 0.69036, correct/total: 56 / 99, accuracy:56.566 \n",
      "EarlyStopping counter: 2 out of 10\n"
     ]
    },
    {
     "name": "stdout",
     "output_type": "stream",
     "text": [
      "Epoch: 6 Training, loss: 0.68117, correct/total: 408 / 692, accuracy:58.960 \n"
     ]
    },
    {
     "name": "stdout",
     "output_type": "stream",
     "text": [
      "Epoch: 6 Validation, loss: 0.67714, correct/total: 56 / 99, accuracy:56.566 \n",
      "EarlyStopping counter: 3 out of 10\n"
     ]
    },
    {
     "name": "stdout",
     "output_type": "stream",
     "text": [
      "Epoch: 7 Training, loss: 0.67591, correct/total: 408 / 692, accuracy:58.960 \n"
     ]
    },
    {
     "name": "stdout",
     "output_type": "stream",
     "text": [
      "Epoch: 7 Validation, loss: 0.67220, correct/total: 56 / 99, accuracy:56.566 \n"
     ]
    },
    {
     "name": "stdout",
     "output_type": "stream",
     "text": [
      "Epoch: 8 Training, loss: 0.66829, correct/total: 408 / 692, accuracy:58.960 \n"
     ]
    },
    {
     "name": "stdout",
     "output_type": "stream",
     "text": [
      "Epoch: 8 Validation, loss: 0.66856, correct/total: 56 / 99, accuracy:56.566 \n"
     ]
    },
    {
     "name": "stdout",
     "output_type": "stream",
     "text": [
      "Epoch: 9 Training, loss: 0.66895, correct/total: 408 / 692, accuracy:58.960 \n"
     ]
    },
    {
     "name": "stdout",
     "output_type": "stream",
     "text": [
      "Epoch: 9 Validation, loss: 0.66417, correct/total: 56 / 99, accuracy:56.566 \n"
     ]
    },
    {
     "name": "stdout",
     "output_type": "stream",
     "text": [
      "Epoch: 10 Training, loss: 0.66152, correct/total: 408 / 692, accuracy:58.960 \n"
     ]
    },
    {
     "name": "stdout",
     "output_type": "stream",
     "text": [
      "Epoch: 10 Validation, loss: 0.70678, correct/total: 56 / 99, accuracy:56.566 \n",
      "EarlyStopping counter: 1 out of 10\n"
     ]
    },
    {
     "name": "stdout",
     "output_type": "stream",
     "text": [
      "Epoch: 11 Training, loss: 0.64169, correct/total: 408 / 692, accuracy:58.960 \n"
     ]
    },
    {
     "name": "stdout",
     "output_type": "stream",
     "text": [
      "Epoch: 11 Validation, loss: 0.92650, correct/total: 56 / 99, accuracy:56.566 \n",
      "EarlyStopping counter: 2 out of 10\n"
     ]
    },
    {
     "name": "stdout",
     "output_type": "stream",
     "text": [
      "Epoch: 12 Training, loss: 0.65967, correct/total: 449 / 692, accuracy:64.884 \n"
     ]
    },
    {
     "name": "stdout",
     "output_type": "stream",
     "text": [
      "Epoch: 12 Validation, loss: 0.72277, correct/total: 60 / 99, accuracy:60.606 \n",
      "EarlyStopping counter: 3 out of 10\n"
     ]
    },
    {
     "name": "stdout",
     "output_type": "stream",
     "text": [
      "Epoch: 13 Training, loss: 0.62114, correct/total: 467 / 692, accuracy:67.486 \n"
     ]
    },
    {
     "name": "stdout",
     "output_type": "stream",
     "text": [
      "Epoch: 13 Validation, loss: 0.64821, correct/total: 66 / 99, accuracy:66.667 \n"
     ]
    },
    {
     "name": "stdout",
     "output_type": "stream",
     "text": [
      "Epoch: 14 Training, loss: 0.60931, correct/total: 468 / 692, accuracy:67.630 \n"
     ]
    },
    {
     "name": "stdout",
     "output_type": "stream",
     "text": [
      "Epoch: 14 Validation, loss: 0.89146, correct/total: 60 / 99, accuracy:60.606 \n",
      "EarlyStopping counter: 1 out of 10\n"
     ]
    },
    {
     "name": "stdout",
     "output_type": "stream",
     "text": [
      "Epoch: 15 Training, loss: 0.60419, correct/total: 484 / 692, accuracy:69.942 \n"
     ]
    },
    {
     "name": "stdout",
     "output_type": "stream",
     "text": [
      "Epoch: 15 Validation, loss: 0.66303, correct/total: 63 / 99, accuracy:63.636 \n",
      "EarlyStopping counter: 2 out of 10\n"
     ]
    },
    {
     "name": "stdout",
     "output_type": "stream",
     "text": [
      "Epoch: 16 Training, loss: 0.59351, correct/total: 482 / 692, accuracy:69.653 \n"
     ]
    },
    {
     "name": "stdout",
     "output_type": "stream",
     "text": [
      "Epoch: 16 Validation, loss: 0.71961, correct/total: 66 / 99, accuracy:66.667 \n",
      "EarlyStopping counter: 3 out of 10\n"
     ]
    },
    {
     "name": "stdout",
     "output_type": "stream",
     "text": [
      "Epoch: 17 Training, loss: 0.57195, correct/total: 504 / 692, accuracy:72.832 \n"
     ]
    },
    {
     "name": "stdout",
     "output_type": "stream",
     "text": [
      "Epoch: 17 Validation, loss: 0.52359, correct/total: 71 / 99, accuracy:71.717 \n"
     ]
    },
    {
     "name": "stdout",
     "output_type": "stream",
     "text": [
      "Epoch: 18 Training, loss: 0.54594, correct/total: 507 / 692, accuracy:73.266 \n"
     ]
    },
    {
     "name": "stdout",
     "output_type": "stream",
     "text": [
      "Epoch: 18 Validation, loss: 0.52027, correct/total: 68 / 99, accuracy:68.687 \n"
     ]
    },
    {
     "name": "stdout",
     "output_type": "stream",
     "text": [
      "Epoch: 19 Training, loss: 0.57709, correct/total: 482 / 692, accuracy:69.653 \n"
     ]
    },
    {
     "name": "stdout",
     "output_type": "stream",
     "text": [
      "Epoch: 19 Validation, loss: 0.67807, correct/total: 67 / 99, accuracy:67.677 \n",
      "EarlyStopping counter: 1 out of 10\n"
     ]
    },
    {
     "name": "stdout",
     "output_type": "stream",
     "text": [
      "Epoch: 20 Training, loss: 0.56902, correct/total: 492 / 692, accuracy:71.098 \n"
     ]
    },
    {
     "name": "stdout",
     "output_type": "stream",
     "text": [
      "Epoch: 20 Validation, loss: 0.60727, correct/total: 61 / 99, accuracy:61.616 \n",
      "EarlyStopping counter: 2 out of 10\n"
     ]
    },
    {
     "name": "stdout",
     "output_type": "stream",
     "text": [
      "Epoch: 21 Training, loss: 0.53199, correct/total: 508 / 692, accuracy:73.410 \n"
     ]
    },
    {
     "name": "stdout",
     "output_type": "stream",
     "text": [
      "Epoch: 21 Validation, loss: 0.55296, correct/total: 69 / 99, accuracy:69.697 \n",
      "EarlyStopping counter: 3 out of 10\n"
     ]
    },
    {
     "name": "stdout",
     "output_type": "stream",
     "text": [
      "Epoch: 22 Training, loss: 0.52041, correct/total: 518 / 692, accuracy:74.855 \n"
     ]
    },
    {
     "name": "stdout",
     "output_type": "stream",
     "text": [
      "Epoch: 22 Validation, loss: 0.54504, correct/total: 68 / 99, accuracy:68.687 \n",
      "EarlyStopping counter: 4 out of 10\n"
     ]
    },
    {
     "name": "stdout",
     "output_type": "stream",
     "text": [
      "Epoch: 23 Training, loss: 0.54034, correct/total: 505 / 692, accuracy:72.977 \n"
     ]
    },
    {
     "name": "stdout",
     "output_type": "stream",
     "text": [
      "Epoch: 23 Validation, loss: 0.63553, correct/total: 64 / 99, accuracy:64.646 \n",
      "EarlyStopping counter: 5 out of 10\n"
     ]
    },
    {
     "name": "stdout",
     "output_type": "stream",
     "text": [
      "Epoch: 24 Training, loss: 0.52136, correct/total: 515 / 692, accuracy:74.422 \n"
     ]
    },
    {
     "name": "stdout",
     "output_type": "stream",
     "text": [
      "Epoch: 24 Validation, loss: 0.58115, correct/total: 68 / 99, accuracy:68.687 \n",
      "EarlyStopping counter: 6 out of 10\n"
     ]
    },
    {
     "name": "stdout",
     "output_type": "stream",
     "text": [
      "Epoch: 25 Training, loss: 0.51342, correct/total: 522 / 692, accuracy:75.434 \n"
     ]
    },
    {
     "name": "stdout",
     "output_type": "stream",
     "text": [
      "Epoch: 25 Validation, loss: 0.61966, correct/total: 69 / 99, accuracy:69.697 \n",
      "EarlyStopping counter: 7 out of 10\n"
     ]
    },
    {
     "name": "stdout",
     "output_type": "stream",
     "text": [
      "Epoch: 26 Training, loss: 0.49552, correct/total: 528 / 692, accuracy:76.301 \n"
     ]
    },
    {
     "name": "stdout",
     "output_type": "stream",
     "text": [
      "Epoch: 26 Validation, loss: 0.73974, correct/total: 70 / 99, accuracy:70.707 \n",
      "EarlyStopping counter: 8 out of 10\n"
     ]
    },
    {
     "name": "stdout",
     "output_type": "stream",
     "text": [
      "Epoch: 27 Training, loss: 0.50283, correct/total: 520 / 692, accuracy:75.145 \n"
     ]
    },
    {
     "name": "stdout",
     "output_type": "stream",
     "text": [
      "Epoch: 27 Validation, loss: 0.68701, correct/total: 59 / 99, accuracy:59.596 \n",
      "EarlyStopping counter: 9 out of 10\n"
     ]
    },
    {
     "name": "stdout",
     "output_type": "stream",
     "text": [
      "Epoch: 28 Training, loss: 0.51497, correct/total: 523 / 692, accuracy:75.578 \n"
     ]
    },
    {
     "name": "stdout",
     "output_type": "stream",
     "text": [
      "Epoch: 28 Validation, loss: 0.56033, correct/total: 71 / 99, accuracy:71.717 \n",
      "EarlyStopping counter: 10 out of 10\n",
      "Early stopping\n",
      "Fold No. 5\n"
     ]
    },
    {
     "name": "stdout",
     "output_type": "stream",
     "text": [
      "Epoch: 1 Training, loss: 0.68787, correct/total: 404 / 692, accuracy:58.382 \n"
     ]
    },
    {
     "name": "stdout",
     "output_type": "stream",
     "text": [
      "Epoch: 1 Validation, loss: 0.67588, correct/total: 60 / 99, accuracy:60.606 \n"
     ]
    },
    {
     "name": "stdout",
     "output_type": "stream",
     "text": [
      "Epoch: 2 Training, loss: 0.67556, correct/total: 404 / 692, accuracy:58.382 \n"
     ]
    },
    {
     "name": "stdout",
     "output_type": "stream",
     "text": [
      "Epoch: 2 Validation, loss: 0.68429, correct/total: 60 / 99, accuracy:60.606 \n",
      "EarlyStopping counter: 1 out of 10\n"
     ]
    },
    {
     "name": "stdout",
     "output_type": "stream",
     "text": [
      "Epoch: 3 Training, loss: 0.68564, correct/total: 404 / 692, accuracy:58.382 \n"
     ]
    },
    {
     "name": "stdout",
     "output_type": "stream",
     "text": [
      "Epoch: 3 Validation, loss: 0.67225, correct/total: 60 / 99, accuracy:60.606 \n"
     ]
    },
    {
     "name": "stdout",
     "output_type": "stream",
     "text": [
      "Epoch: 4 Training, loss: 0.68289, correct/total: 404 / 692, accuracy:58.382 \n"
     ]
    },
    {
     "name": "stdout",
     "output_type": "stream",
     "text": [
      "Epoch: 4 Validation, loss: 0.66863, correct/total: 60 / 99, accuracy:60.606 \n"
     ]
    },
    {
     "name": "stdout",
     "output_type": "stream",
     "text": [
      "Epoch: 5 Training, loss: 0.67625, correct/total: 404 / 692, accuracy:58.382 \n"
     ]
    },
    {
     "name": "stdout",
     "output_type": "stream",
     "text": [
      "Epoch: 5 Validation, loss: 0.65059, correct/total: 60 / 99, accuracy:60.606 \n"
     ]
    },
    {
     "name": "stdout",
     "output_type": "stream",
     "text": [
      "Epoch: 6 Training, loss: 0.66718, correct/total: 416 / 692, accuracy:60.116 \n"
     ]
    },
    {
     "name": "stdout",
     "output_type": "stream",
     "text": [
      "Epoch: 6 Validation, loss: 0.70933, correct/total: 55 / 99, accuracy:55.556 \n",
      "EarlyStopping counter: 1 out of 10\n"
     ]
    },
    {
     "name": "stdout",
     "output_type": "stream",
     "text": [
      "Epoch: 7 Training, loss: 0.65727, correct/total: 411 / 692, accuracy:59.393 \n"
     ]
    },
    {
     "name": "stdout",
     "output_type": "stream",
     "text": [
      "Epoch: 7 Validation, loss: 0.69729, correct/total: 42 / 99, accuracy:42.424 \n",
      "EarlyStopping counter: 2 out of 10\n"
     ]
    },
    {
     "name": "stdout",
     "output_type": "stream",
     "text": [
      "Epoch: 8 Training, loss: 0.66030, correct/total: 394 / 692, accuracy:56.936 \n"
     ]
    },
    {
     "name": "stdout",
     "output_type": "stream",
     "text": [
      "Epoch: 8 Validation, loss: 0.62509, correct/total: 60 / 99, accuracy:60.606 \n"
     ]
    },
    {
     "name": "stdout",
     "output_type": "stream",
     "text": [
      "Epoch: 9 Training, loss: 0.66784, correct/total: 400 / 692, accuracy:57.803 \n"
     ]
    },
    {
     "name": "stdout",
     "output_type": "stream",
     "text": [
      "Epoch: 9 Validation, loss: 0.69051, correct/total: 60 / 99, accuracy:60.606 \n",
      "EarlyStopping counter: 1 out of 10\n"
     ]
    },
    {
     "name": "stdout",
     "output_type": "stream",
     "text": [
      "Epoch: 10 Training, loss: 0.68341, correct/total: 404 / 692, accuracy:58.382 \n"
     ]
    },
    {
     "name": "stdout",
     "output_type": "stream",
     "text": [
      "Epoch: 10 Validation, loss: 0.67162, correct/total: 60 / 99, accuracy:60.606 \n",
      "EarlyStopping counter: 2 out of 10\n"
     ]
    },
    {
     "name": "stdout",
     "output_type": "stream",
     "text": [
      "Epoch: 11 Training, loss: 0.67642, correct/total: 404 / 692, accuracy:58.382 \n"
     ]
    },
    {
     "name": "stdout",
     "output_type": "stream",
     "text": [
      "Epoch: 11 Validation, loss: 0.64249, correct/total: 60 / 99, accuracy:60.606 \n",
      "EarlyStopping counter: 3 out of 10\n"
     ]
    },
    {
     "name": "stdout",
     "output_type": "stream",
     "text": [
      "Epoch: 12 Training, loss: 0.64883, correct/total: 404 / 692, accuracy:58.382 \n"
     ]
    },
    {
     "name": "stdout",
     "output_type": "stream",
     "text": [
      "Epoch: 12 Validation, loss: 0.61983, correct/total: 60 / 99, accuracy:60.606 \n"
     ]
    },
    {
     "name": "stdout",
     "output_type": "stream",
     "text": [
      "Epoch: 13 Training, loss: 0.64149, correct/total: 433 / 692, accuracy:62.572 \n"
     ]
    },
    {
     "name": "stdout",
     "output_type": "stream",
     "text": [
      "Epoch: 13 Validation, loss: 0.66099, correct/total: 59 / 99, accuracy:59.596 \n",
      "EarlyStopping counter: 1 out of 10\n"
     ]
    },
    {
     "name": "stdout",
     "output_type": "stream",
     "text": [
      "Epoch: 14 Training, loss: 0.62688, correct/total: 443 / 692, accuracy:64.017 \n"
     ]
    },
    {
     "name": "stdout",
     "output_type": "stream",
     "text": [
      "Epoch: 14 Validation, loss: 0.64878, correct/total: 61 / 99, accuracy:61.616 \n",
      "EarlyStopping counter: 2 out of 10\n"
     ]
    },
    {
     "name": "stdout",
     "output_type": "stream",
     "text": [
      "Epoch: 15 Training, loss: 0.61819, correct/total: 453 / 692, accuracy:65.462 \n"
     ]
    },
    {
     "name": "stdout",
     "output_type": "stream",
     "text": [
      "Epoch: 15 Validation, loss: 0.72218, correct/total: 52 / 99, accuracy:52.525 \n",
      "EarlyStopping counter: 3 out of 10\n"
     ]
    },
    {
     "name": "stdout",
     "output_type": "stream",
     "text": [
      "Epoch: 16 Training, loss: 0.63420, correct/total: 457 / 692, accuracy:66.040 \n"
     ]
    },
    {
     "name": "stdout",
     "output_type": "stream",
     "text": [
      "Epoch: 16 Validation, loss: 0.68698, correct/total: 59 / 99, accuracy:59.596 \n",
      "EarlyStopping counter: 4 out of 10\n"
     ]
    },
    {
     "name": "stdout",
     "output_type": "stream",
     "text": [
      "Epoch: 17 Training, loss: 0.64603, correct/total: 455 / 692, accuracy:65.751 \n"
     ]
    },
    {
     "name": "stdout",
     "output_type": "stream",
     "text": [
      "Epoch: 17 Validation, loss: 0.61545, correct/total: 59 / 99, accuracy:59.596 \n"
     ]
    },
    {
     "name": "stdout",
     "output_type": "stream",
     "text": [
      "Epoch: 18 Training, loss: 0.65978, correct/total: 411 / 692, accuracy:59.393 \n"
     ]
    },
    {
     "name": "stdout",
     "output_type": "stream",
     "text": [
      "Epoch: 18 Validation, loss: 0.62171, correct/total: 60 / 99, accuracy:60.606 \n",
      "EarlyStopping counter: 1 out of 10\n"
     ]
    },
    {
     "name": "stdout",
     "output_type": "stream",
     "text": [
      "Epoch: 19 Training, loss: 0.69175, correct/total: 404 / 692, accuracy:58.382 \n"
     ]
    },
    {
     "name": "stdout",
     "output_type": "stream",
     "text": [
      "Epoch: 19 Validation, loss: 0.63860, correct/total: 60 / 99, accuracy:60.606 \n",
      "EarlyStopping counter: 2 out of 10\n"
     ]
    },
    {
     "name": "stdout",
     "output_type": "stream",
     "text": [
      "Epoch: 20 Training, loss: 0.68353, correct/total: 404 / 692, accuracy:58.382 \n"
     ]
    },
    {
     "name": "stdout",
     "output_type": "stream",
     "text": [
      "Epoch: 20 Validation, loss: 0.64842, correct/total: 60 / 99, accuracy:60.606 \n",
      "EarlyStopping counter: 3 out of 10\n"
     ]
    },
    {
     "name": "stdout",
     "output_type": "stream",
     "text": [
      "Epoch: 21 Training, loss: 0.67780, correct/total: 404 / 692, accuracy:58.382 \n"
     ]
    },
    {
     "name": "stdout",
     "output_type": "stream",
     "text": [
      "Epoch: 21 Validation, loss: 0.69916, correct/total: 60 / 99, accuracy:60.606 \n",
      "EarlyStopping counter: 4 out of 10\n"
     ]
    },
    {
     "name": "stdout",
     "output_type": "stream",
     "text": [
      "Epoch: 22 Training, loss: 0.68062, correct/total: 404 / 692, accuracy:58.382 \n"
     ]
    },
    {
     "name": "stdout",
     "output_type": "stream",
     "text": [
      "Epoch: 22 Validation, loss: 0.66678, correct/total: 60 / 99, accuracy:60.606 \n",
      "EarlyStopping counter: 5 out of 10\n"
     ]
    },
    {
     "name": "stdout",
     "output_type": "stream",
     "text": [
      "Epoch: 23 Training, loss: 0.68171, correct/total: 404 / 692, accuracy:58.382 \n"
     ]
    },
    {
     "name": "stdout",
     "output_type": "stream",
     "text": [
      "Epoch: 23 Validation, loss: 0.63775, correct/total: 60 / 99, accuracy:60.606 \n",
      "EarlyStopping counter: 6 out of 10\n"
     ]
    },
    {
     "name": "stdout",
     "output_type": "stream",
     "text": [
      "Epoch: 24 Training, loss: 0.68181, correct/total: 404 / 692, accuracy:58.382 \n"
     ]
    },
    {
     "name": "stdout",
     "output_type": "stream",
     "text": [
      "Epoch: 24 Validation, loss: 0.69598, correct/total: 60 / 99, accuracy:60.606 \n",
      "EarlyStopping counter: 7 out of 10\n"
     ]
    },
    {
     "name": "stdout",
     "output_type": "stream",
     "text": [
      "Epoch: 25 Training, loss: 0.67900, correct/total: 404 / 692, accuracy:58.382 \n"
     ]
    },
    {
     "name": "stdout",
     "output_type": "stream",
     "text": [
      "Epoch: 25 Validation, loss: 0.67100, correct/total: 60 / 99, accuracy:60.606 \n",
      "EarlyStopping counter: 8 out of 10\n"
     ]
    },
    {
     "name": "stdout",
     "output_type": "stream",
     "text": [
      "Epoch: 26 Training, loss: 0.68039, correct/total: 404 / 692, accuracy:58.382 \n"
     ]
    },
    {
     "name": "stdout",
     "output_type": "stream",
     "text": [
      "Epoch: 26 Validation, loss: 0.65013, correct/total: 60 / 99, accuracy:60.606 \n",
      "EarlyStopping counter: 9 out of 10\n"
     ]
    },
    {
     "name": "stdout",
     "output_type": "stream",
     "text": [
      "Epoch: 27 Training, loss: 0.67963, correct/total: 404 / 692, accuracy:58.382 \n"
     ]
    },
    {
     "name": "stdout",
     "output_type": "stream",
     "text": [
      "Epoch: 27 Validation, loss: 0.66521, correct/total: 60 / 99, accuracy:60.606 \n",
      "EarlyStopping counter: 10 out of 10\n",
      "Early stopping\n",
      "Fold No. 6\n"
     ]
    },
    {
     "name": "stdout",
     "output_type": "stream",
     "text": [
      "Epoch: 1 Training, loss: 0.67773, correct/total: 401 / 692, accuracy:57.948 \n"
     ]
    },
    {
     "name": "stdout",
     "output_type": "stream",
     "text": [
      "Epoch: 1 Validation, loss: 0.66258, correct/total: 60 / 99, accuracy:60.606 \n"
     ]
    },
    {
     "name": "stdout",
     "output_type": "stream",
     "text": [
      "Epoch: 2 Training, loss: 0.68075, correct/total: 404 / 692, accuracy:58.382 \n"
     ]
    },
    {
     "name": "stdout",
     "output_type": "stream",
     "text": [
      "Epoch: 2 Validation, loss: 0.66380, correct/total: 60 / 99, accuracy:60.606 \n",
      "EarlyStopping counter: 1 out of 10\n"
     ]
    },
    {
     "name": "stdout",
     "output_type": "stream",
     "text": [
      "Epoch: 3 Training, loss: 0.66945, correct/total: 404 / 692, accuracy:58.382 \n"
     ]
    },
    {
     "name": "stdout",
     "output_type": "stream",
     "text": [
      "Epoch: 3 Validation, loss: 0.67239, correct/total: 60 / 99, accuracy:60.606 \n",
      "EarlyStopping counter: 2 out of 10\n"
     ]
    },
    {
     "name": "stdout",
     "output_type": "stream",
     "text": [
      "Epoch: 4 Training, loss: 0.68830, correct/total: 407 / 692, accuracy:58.815 \n"
     ]
    },
    {
     "name": "stdout",
     "output_type": "stream",
     "text": [
      "Epoch: 4 Validation, loss: 0.65931, correct/total: 60 / 99, accuracy:60.606 \n"
     ]
    },
    {
     "name": "stdout",
     "output_type": "stream",
     "text": [
      "Epoch: 5 Training, loss: 0.67277, correct/total: 404 / 692, accuracy:58.382 \n"
     ]
    },
    {
     "name": "stdout",
     "output_type": "stream",
     "text": [
      "Epoch: 5 Validation, loss: 0.61857, correct/total: 60 / 99, accuracy:60.606 \n"
     ]
    },
    {
     "name": "stdout",
     "output_type": "stream",
     "text": [
      "Epoch: 6 Training, loss: 0.66020, correct/total: 415 / 692, accuracy:59.971 \n"
     ]
    },
    {
     "name": "stdout",
     "output_type": "stream",
     "text": [
      "Epoch: 6 Validation, loss: 0.67689, correct/total: 67 / 99, accuracy:67.677 \n",
      "EarlyStopping counter: 1 out of 10\n"
     ]
    },
    {
     "name": "stdout",
     "output_type": "stream",
     "text": [
      "Epoch: 7 Training, loss: 0.67101, correct/total: 409 / 692, accuracy:59.104 \n"
     ]
    },
    {
     "name": "stdout",
     "output_type": "stream",
     "text": [
      "Epoch: 7 Validation, loss: 0.66718, correct/total: 61 / 99, accuracy:61.616 \n",
      "EarlyStopping counter: 2 out of 10\n"
     ]
    },
    {
     "name": "stdout",
     "output_type": "stream",
     "text": [
      "Epoch: 8 Training, loss: 0.64915, correct/total: 455 / 692, accuracy:65.751 \n"
     ]
    },
    {
     "name": "stdout",
     "output_type": "stream",
     "text": [
      "Epoch: 8 Validation, loss: 0.59513, correct/total: 65 / 99, accuracy:65.657 \n"
     ]
    },
    {
     "name": "stdout",
     "output_type": "stream",
     "text": [
      "Epoch: 9 Training, loss: 0.62462, correct/total: 470 / 692, accuracy:67.919 \n"
     ]
    },
    {
     "name": "stdout",
     "output_type": "stream",
     "text": [
      "Epoch: 9 Validation, loss: 0.53385, correct/total: 76 / 99, accuracy:76.768 \n"
     ]
    },
    {
     "name": "stdout",
     "output_type": "stream",
     "text": [
      "Epoch: 10 Training, loss: 0.63946, correct/total: 434 / 692, accuracy:62.717 \n"
     ]
    },
    {
     "name": "stdout",
     "output_type": "stream",
     "text": [
      "Epoch: 10 Validation, loss: 0.60958, correct/total: 62 / 99, accuracy:62.626 \n",
      "EarlyStopping counter: 1 out of 10\n"
     ]
    },
    {
     "name": "stdout",
     "output_type": "stream",
     "text": [
      "Epoch: 11 Training, loss: 0.61257, correct/total: 448 / 692, accuracy:64.740 \n"
     ]
    },
    {
     "name": "stdout",
     "output_type": "stream",
     "text": [
      "Epoch: 11 Validation, loss: 0.56050, correct/total: 69 / 99, accuracy:69.697 \n",
      "EarlyStopping counter: 2 out of 10\n"
     ]
    },
    {
     "name": "stdout",
     "output_type": "stream",
     "text": [
      "Epoch: 12 Training, loss: 0.58182, correct/total: 502 / 692, accuracy:72.543 \n"
     ]
    },
    {
     "name": "stdout",
     "output_type": "stream",
     "text": [
      "Epoch: 12 Validation, loss: 0.52755, correct/total: 70 / 99, accuracy:70.707 \n"
     ]
    },
    {
     "name": "stdout",
     "output_type": "stream",
     "text": [
      "Epoch: 13 Training, loss: 0.59228, correct/total: 481 / 692, accuracy:69.509 \n"
     ]
    },
    {
     "name": "stdout",
     "output_type": "stream",
     "text": [
      "Epoch: 13 Validation, loss: 0.57737, correct/total: 66 / 99, accuracy:66.667 \n",
      "EarlyStopping counter: 1 out of 10\n"
     ]
    },
    {
     "name": "stdout",
     "output_type": "stream",
     "text": [
      "Epoch: 14 Training, loss: 0.58521, correct/total: 492 / 692, accuracy:71.098 \n"
     ]
    },
    {
     "name": "stdout",
     "output_type": "stream",
     "text": [
      "Epoch: 14 Validation, loss: 0.47483, correct/total: 72 / 99, accuracy:72.727 \n"
     ]
    },
    {
     "name": "stdout",
     "output_type": "stream",
     "text": [
      "Epoch: 15 Training, loss: 0.56181, correct/total: 505 / 692, accuracy:72.977 \n"
     ]
    },
    {
     "name": "stdout",
     "output_type": "stream",
     "text": [
      "Epoch: 15 Validation, loss: 0.44795, correct/total: 77 / 99, accuracy:77.778 \n"
     ]
    },
    {
     "name": "stdout",
     "output_type": "stream",
     "text": [
      "Epoch: 16 Training, loss: 0.55173, correct/total: 515 / 692, accuracy:74.422 \n"
     ]
    },
    {
     "name": "stdout",
     "output_type": "stream",
     "text": [
      "Epoch: 16 Validation, loss: 0.60133, correct/total: 76 / 99, accuracy:76.768 \n",
      "EarlyStopping counter: 1 out of 10\n"
     ]
    },
    {
     "name": "stdout",
     "output_type": "stream",
     "text": [
      "Epoch: 17 Training, loss: 0.54552, correct/total: 516 / 692, accuracy:74.566 \n"
     ]
    },
    {
     "name": "stdout",
     "output_type": "stream",
     "text": [
      "Epoch: 17 Validation, loss: 0.53946, correct/total: 73 / 99, accuracy:73.737 \n",
      "EarlyStopping counter: 2 out of 10\n"
     ]
    },
    {
     "name": "stdout",
     "output_type": "stream",
     "text": [
      "Epoch: 18 Training, loss: 0.53353, correct/total: 527 / 692, accuracy:76.156 \n"
     ]
    },
    {
     "name": "stdout",
     "output_type": "stream",
     "text": [
      "Epoch: 18 Validation, loss: 0.48526, correct/total: 73 / 99, accuracy:73.737 \n",
      "EarlyStopping counter: 3 out of 10\n"
     ]
    },
    {
     "name": "stdout",
     "output_type": "stream",
     "text": [
      "Epoch: 19 Training, loss: 0.53980, correct/total: 516 / 692, accuracy:74.566 \n"
     ]
    },
    {
     "name": "stdout",
     "output_type": "stream",
     "text": [
      "Epoch: 19 Validation, loss: 0.61627, correct/total: 62 / 99, accuracy:62.626 \n",
      "EarlyStopping counter: 4 out of 10\n"
     ]
    },
    {
     "name": "stdout",
     "output_type": "stream",
     "text": [
      "Epoch: 20 Training, loss: 0.52611, correct/total: 531 / 692, accuracy:76.734 \n"
     ]
    },
    {
     "name": "stdout",
     "output_type": "stream",
     "text": [
      "Epoch: 20 Validation, loss: 0.52064, correct/total: 68 / 99, accuracy:68.687 \n",
      "EarlyStopping counter: 5 out of 10\n"
     ]
    },
    {
     "name": "stdout",
     "output_type": "stream",
     "text": [
      "Epoch: 21 Training, loss: 0.51970, correct/total: 535 / 692, accuracy:77.312 \n"
     ]
    },
    {
     "name": "stdout",
     "output_type": "stream",
     "text": [
      "Epoch: 21 Validation, loss: 0.66933, correct/total: 70 / 99, accuracy:70.707 \n",
      "EarlyStopping counter: 6 out of 10\n"
     ]
    },
    {
     "name": "stdout",
     "output_type": "stream",
     "text": [
      "Epoch: 22 Training, loss: 0.52994, correct/total: 529 / 692, accuracy:76.445 \n"
     ]
    },
    {
     "name": "stdout",
     "output_type": "stream",
     "text": [
      "Epoch: 22 Validation, loss: 0.52848, correct/total: 69 / 99, accuracy:69.697 \n",
      "EarlyStopping counter: 7 out of 10\n"
     ]
    },
    {
     "name": "stdout",
     "output_type": "stream",
     "text": [
      "Epoch: 23 Training, loss: 0.50837, correct/total: 535 / 692, accuracy:77.312 \n"
     ]
    },
    {
     "name": "stdout",
     "output_type": "stream",
     "text": [
      "Epoch: 23 Validation, loss: 0.59087, correct/total: 72 / 99, accuracy:72.727 \n",
      "EarlyStopping counter: 8 out of 10\n"
     ]
    },
    {
     "name": "stdout",
     "output_type": "stream",
     "text": [
      "Epoch: 24 Training, loss: 0.48853, correct/total: 548 / 692, accuracy:79.191 \n"
     ]
    },
    {
     "name": "stdout",
     "output_type": "stream",
     "text": [
      "Epoch: 24 Validation, loss: 0.50926, correct/total: 73 / 99, accuracy:73.737 \n",
      "EarlyStopping counter: 9 out of 10\n"
     ]
    },
    {
     "name": "stdout",
     "output_type": "stream",
     "text": [
      "Epoch: 25 Training, loss: 0.49784, correct/total: 539 / 692, accuracy:77.890 \n"
     ]
    },
    {
     "name": "stdout",
     "output_type": "stream",
     "text": [
      "Epoch: 25 Validation, loss: 0.60859, correct/total: 73 / 99, accuracy:73.737 \n",
      "EarlyStopping counter: 10 out of 10\n",
      "Early stopping\n",
      "Fold No. 7\n"
     ]
    },
    {
     "name": "stdout",
     "output_type": "stream",
     "text": [
      "Epoch: 1 Training, loss: 0.67622, correct/total: 406 / 692, accuracy:58.671 \n"
     ]
    },
    {
     "name": "stdout",
     "output_type": "stream",
     "text": [
      "Epoch: 1 Validation, loss: 0.62749, correct/total: 66 / 99, accuracy:66.667 \n"
     ]
    },
    {
     "name": "stdout",
     "output_type": "stream",
     "text": [
      "Epoch: 2 Training, loss: 0.68559, correct/total: 399 / 692, accuracy:57.659 \n"
     ]
    },
    {
     "name": "stdout",
     "output_type": "stream",
     "text": [
      "Epoch: 2 Validation, loss: 0.66644, correct/total: 61 / 99, accuracy:61.616 \n",
      "EarlyStopping counter: 1 out of 10\n"
     ]
    },
    {
     "name": "stdout",
     "output_type": "stream",
     "text": [
      "Epoch: 3 Training, loss: 0.67838, correct/total: 403 / 692, accuracy:58.237 \n"
     ]
    },
    {
     "name": "stdout",
     "output_type": "stream",
     "text": [
      "Epoch: 3 Validation, loss: 0.62595, correct/total: 61 / 99, accuracy:61.616 \n"
     ]
    },
    {
     "name": "stdout",
     "output_type": "stream",
     "text": [
      "Epoch: 4 Training, loss: 0.67829, correct/total: 403 / 692, accuracy:58.237 \n"
     ]
    },
    {
     "name": "stdout",
     "output_type": "stream",
     "text": [
      "Epoch: 4 Validation, loss: 0.68381, correct/total: 61 / 99, accuracy:61.616 \n",
      "EarlyStopping counter: 1 out of 10\n"
     ]
    },
    {
     "name": "stdout",
     "output_type": "stream",
     "text": [
      "Epoch: 5 Training, loss: 0.66327, correct/total: 412 / 692, accuracy:59.538 \n"
     ]
    },
    {
     "name": "stdout",
     "output_type": "stream",
     "text": [
      "Epoch: 5 Validation, loss: 0.74141, correct/total: 39 / 99, accuracy:39.394 \n",
      "EarlyStopping counter: 2 out of 10\n"
     ]
    },
    {
     "name": "stdout",
     "output_type": "stream",
     "text": [
      "Epoch: 6 Training, loss: 0.68625, correct/total: 390 / 692, accuracy:56.358 \n"
     ]
    },
    {
     "name": "stdout",
     "output_type": "stream",
     "text": [
      "Epoch: 6 Validation, loss: 0.66313, correct/total: 61 / 99, accuracy:61.616 \n",
      "EarlyStopping counter: 3 out of 10\n"
     ]
    },
    {
     "name": "stdout",
     "output_type": "stream",
     "text": [
      "Epoch: 7 Training, loss: 0.68127, correct/total: 403 / 692, accuracy:58.237 \n"
     ]
    },
    {
     "name": "stdout",
     "output_type": "stream",
     "text": [
      "Epoch: 7 Validation, loss: 0.66759, correct/total: 61 / 99, accuracy:61.616 \n",
      "EarlyStopping counter: 4 out of 10\n"
     ]
    },
    {
     "name": "stdout",
     "output_type": "stream",
     "text": [
      "Epoch: 8 Training, loss: 0.67993, correct/total: 403 / 692, accuracy:58.237 \n"
     ]
    },
    {
     "name": "stdout",
     "output_type": "stream",
     "text": [
      "Epoch: 8 Validation, loss: 0.66085, correct/total: 61 / 99, accuracy:61.616 \n",
      "EarlyStopping counter: 5 out of 10\n"
     ]
    },
    {
     "name": "stdout",
     "output_type": "stream",
     "text": [
      "Epoch: 9 Training, loss: 0.67109, correct/total: 403 / 692, accuracy:58.237 \n"
     ]
    },
    {
     "name": "stdout",
     "output_type": "stream",
     "text": [
      "Epoch: 9 Validation, loss: 0.66364, correct/total: 61 / 99, accuracy:61.616 \n",
      "EarlyStopping counter: 6 out of 10\n"
     ]
    },
    {
     "name": "stdout",
     "output_type": "stream",
     "text": [
      "Epoch: 10 Training, loss: 0.68135, correct/total: 403 / 692, accuracy:58.237 \n"
     ]
    },
    {
     "name": "stdout",
     "output_type": "stream",
     "text": [
      "Epoch: 10 Validation, loss: 0.68753, correct/total: 61 / 99, accuracy:61.616 \n",
      "EarlyStopping counter: 7 out of 10\n"
     ]
    },
    {
     "name": "stdout",
     "output_type": "stream",
     "text": [
      "Epoch: 11 Training, loss: 0.67561, correct/total: 403 / 692, accuracy:58.237 \n"
     ]
    },
    {
     "name": "stdout",
     "output_type": "stream",
     "text": [
      "Epoch: 11 Validation, loss: 0.59680, correct/total: 61 / 99, accuracy:61.616 \n"
     ]
    },
    {
     "name": "stdout",
     "output_type": "stream",
     "text": [
      "Epoch: 12 Training, loss: 0.68142, correct/total: 403 / 692, accuracy:58.237 \n"
     ]
    },
    {
     "name": "stdout",
     "output_type": "stream",
     "text": [
      "Epoch: 12 Validation, loss: 0.65844, correct/total: 61 / 99, accuracy:61.616 \n",
      "EarlyStopping counter: 1 out of 10\n"
     ]
    },
    {
     "name": "stdout",
     "output_type": "stream",
     "text": [
      "Epoch: 13 Training, loss: 0.67108, correct/total: 403 / 692, accuracy:58.237 \n"
     ]
    },
    {
     "name": "stdout",
     "output_type": "stream",
     "text": [
      "Epoch: 13 Validation, loss: 0.67348, correct/total: 61 / 99, accuracy:61.616 \n",
      "EarlyStopping counter: 2 out of 10\n"
     ]
    },
    {
     "name": "stdout",
     "output_type": "stream",
     "text": [
      "Epoch: 14 Training, loss: 0.64905, correct/total: 404 / 692, accuracy:58.382 \n"
     ]
    },
    {
     "name": "stdout",
     "output_type": "stream",
     "text": [
      "Epoch: 14 Validation, loss: 0.68548, correct/total: 67 / 99, accuracy:67.677 \n",
      "EarlyStopping counter: 3 out of 10\n"
     ]
    },
    {
     "name": "stdout",
     "output_type": "stream",
     "text": [
      "Epoch: 15 Training, loss: 0.61582, correct/total: 476 / 692, accuracy:68.786 \n"
     ]
    },
    {
     "name": "stdout",
     "output_type": "stream",
     "text": [
      "Epoch: 15 Validation, loss: 0.58341, correct/total: 69 / 99, accuracy:69.697 \n"
     ]
    },
    {
     "name": "stdout",
     "output_type": "stream",
     "text": [
      "Epoch: 16 Training, loss: 0.59331, correct/total: 493 / 692, accuracy:71.243 \n"
     ]
    },
    {
     "name": "stdout",
     "output_type": "stream",
     "text": [
      "Epoch: 16 Validation, loss: 0.78772, correct/total: 62 / 99, accuracy:62.626 \n",
      "EarlyStopping counter: 1 out of 10\n"
     ]
    },
    {
     "name": "stdout",
     "output_type": "stream",
     "text": [
      "Epoch: 17 Training, loss: 0.61281, correct/total: 465 / 692, accuracy:67.197 \n"
     ]
    },
    {
     "name": "stdout",
     "output_type": "stream",
     "text": [
      "Epoch: 17 Validation, loss: 0.67570, correct/total: 52 / 99, accuracy:52.525 \n",
      "EarlyStopping counter: 2 out of 10\n"
     ]
    },
    {
     "name": "stdout",
     "output_type": "stream",
     "text": [
      "Epoch: 18 Training, loss: 0.57921, correct/total: 486 / 692, accuracy:70.231 \n"
     ]
    },
    {
     "name": "stdout",
     "output_type": "stream",
     "text": [
      "Epoch: 18 Validation, loss: 0.68905, correct/total: 60 / 99, accuracy:60.606 \n",
      "EarlyStopping counter: 3 out of 10\n"
     ]
    },
    {
     "name": "stdout",
     "output_type": "stream",
     "text": [
      "Epoch: 19 Training, loss: 0.56679, correct/total: 506 / 692, accuracy:73.121 \n"
     ]
    },
    {
     "name": "stdout",
     "output_type": "stream",
     "text": [
      "Epoch: 19 Validation, loss: 0.54002, correct/total: 71 / 99, accuracy:71.717 \n"
     ]
    },
    {
     "name": "stdout",
     "output_type": "stream",
     "text": [
      "Epoch: 20 Training, loss: 0.54886, correct/total: 512 / 692, accuracy:73.988 \n"
     ]
    },
    {
     "name": "stdout",
     "output_type": "stream",
     "text": [
      "Epoch: 20 Validation, loss: 0.53008, correct/total: 69 / 99, accuracy:69.697 \n"
     ]
    },
    {
     "name": "stdout",
     "output_type": "stream",
     "text": [
      "Epoch: 21 Training, loss: 0.55002, correct/total: 507 / 692, accuracy:73.266 \n"
     ]
    },
    {
     "name": "stdout",
     "output_type": "stream",
     "text": [
      "Epoch: 21 Validation, loss: 0.52610, correct/total: 68 / 99, accuracy:68.687 \n"
     ]
    },
    {
     "name": "stdout",
     "output_type": "stream",
     "text": [
      "Epoch: 22 Training, loss: 0.56342, correct/total: 495 / 692, accuracy:71.532 \n"
     ]
    },
    {
     "name": "stdout",
     "output_type": "stream",
     "text": [
      "Epoch: 22 Validation, loss: 0.67804, correct/total: 69 / 99, accuracy:69.697 \n",
      "EarlyStopping counter: 1 out of 10\n"
     ]
    },
    {
     "name": "stdout",
     "output_type": "stream",
     "text": [
      "Epoch: 23 Training, loss: 0.53812, correct/total: 514 / 692, accuracy:74.277 \n"
     ]
    },
    {
     "name": "stdout",
     "output_type": "stream",
     "text": [
      "Epoch: 23 Validation, loss: 0.58328, correct/total: 70 / 99, accuracy:70.707 \n",
      "EarlyStopping counter: 2 out of 10\n"
     ]
    },
    {
     "name": "stdout",
     "output_type": "stream",
     "text": [
      "Epoch: 24 Training, loss: 0.52770, correct/total: 524 / 692, accuracy:75.723 \n"
     ]
    },
    {
     "name": "stdout",
     "output_type": "stream",
     "text": [
      "Epoch: 24 Validation, loss: 0.60167, correct/total: 68 / 99, accuracy:68.687 \n",
      "EarlyStopping counter: 3 out of 10\n"
     ]
    },
    {
     "name": "stdout",
     "output_type": "stream",
     "text": [
      "Epoch: 25 Training, loss: 0.53429, correct/total: 517 / 692, accuracy:74.711 \n"
     ]
    },
    {
     "name": "stdout",
     "output_type": "stream",
     "text": [
      "Epoch: 25 Validation, loss: 0.65589, correct/total: 61 / 99, accuracy:61.616 \n",
      "EarlyStopping counter: 4 out of 10\n"
     ]
    },
    {
     "name": "stdout",
     "output_type": "stream",
     "text": [
      "Epoch: 26 Training, loss: 0.51568, correct/total: 519 / 692, accuracy:75.000 \n"
     ]
    },
    {
     "name": "stdout",
     "output_type": "stream",
     "text": [
      "Epoch: 26 Validation, loss: 0.53285, correct/total: 70 / 99, accuracy:70.707 \n",
      "EarlyStopping counter: 5 out of 10\n"
     ]
    },
    {
     "name": "stdout",
     "output_type": "stream",
     "text": [
      "Epoch: 27 Training, loss: 0.52316, correct/total: 517 / 692, accuracy:74.711 \n"
     ]
    },
    {
     "name": "stdout",
     "output_type": "stream",
     "text": [
      "Epoch: 27 Validation, loss: 0.70405, correct/total: 68 / 99, accuracy:68.687 \n",
      "EarlyStopping counter: 6 out of 10\n"
     ]
    },
    {
     "name": "stdout",
     "output_type": "stream",
     "text": [
      "Epoch: 28 Training, loss: 0.51051, correct/total: 524 / 692, accuracy:75.723 \n"
     ]
    },
    {
     "name": "stdout",
     "output_type": "stream",
     "text": [
      "Epoch: 28 Validation, loss: 0.52924, correct/total: 65 / 99, accuracy:65.657 \n",
      "EarlyStopping counter: 7 out of 10\n"
     ]
    },
    {
     "name": "stdout",
     "output_type": "stream",
     "text": [
      "Epoch: 29 Training, loss: 0.50550, correct/total: 538 / 692, accuracy:77.746 \n"
     ]
    },
    {
     "name": "stdout",
     "output_type": "stream",
     "text": [
      "Epoch: 29 Validation, loss: 0.72728, correct/total: 65 / 99, accuracy:65.657 \n",
      "EarlyStopping counter: 8 out of 10\n",
      "Fold No. 8\n"
     ]
    },
    {
     "name": "stdout",
     "output_type": "stream",
     "text": [
      "Epoch: 1 Training, loss: 0.67732, correct/total: 413 / 693, accuracy:59.596 \n"
     ]
    },
    {
     "name": "stdout",
     "output_type": "stream",
     "text": [
      "Epoch: 1 Validation, loss: 0.62581, correct/total: 62 / 98, accuracy:63.265 \n"
     ]
    },
    {
     "name": "stdout",
     "output_type": "stream",
     "text": [
      "Epoch: 2 Training, loss: 0.66423, correct/total: 405 / 693, accuracy:58.442 \n"
     ]
    },
    {
     "name": "stdout",
     "output_type": "stream",
     "text": [
      "Epoch: 2 Validation, loss: 0.69059, correct/total: 54 / 98, accuracy:55.102 \n",
      "EarlyStopping counter: 1 out of 10\n"
     ]
    },
    {
     "name": "stdout",
     "output_type": "stream",
     "text": [
      "Epoch: 3 Training, loss: 0.64586, correct/total: 413 / 693, accuracy:59.596 \n"
     ]
    },
    {
     "name": "stdout",
     "output_type": "stream",
     "text": [
      "Epoch: 3 Validation, loss: 0.69781, correct/total: 63 / 98, accuracy:64.286 \n",
      "EarlyStopping counter: 2 out of 10\n"
     ]
    },
    {
     "name": "stdout",
     "output_type": "stream",
     "text": [
      "Epoch: 4 Training, loss: 0.69201, correct/total: 399 / 693, accuracy:57.576 \n"
     ]
    },
    {
     "name": "stdout",
     "output_type": "stream",
     "text": [
      "Epoch: 4 Validation, loss: 0.66521, correct/total: 54 / 98, accuracy:55.102 \n",
      "EarlyStopping counter: 3 out of 10\n"
     ]
    },
    {
     "name": "stdout",
     "output_type": "stream",
     "text": [
      "Epoch: 5 Training, loss: 0.65167, correct/total: 428 / 693, accuracy:61.760 \n"
     ]
    },
    {
     "name": "stdout",
     "output_type": "stream",
     "text": [
      "Epoch: 5 Validation, loss: 0.68232, correct/total: 68 / 98, accuracy:69.388 \n",
      "EarlyStopping counter: 4 out of 10\n"
     ]
    },
    {
     "name": "stdout",
     "output_type": "stream",
     "text": [
      "Epoch: 6 Training, loss: 0.65881, correct/total: 437 / 693, accuracy:63.059 \n"
     ]
    },
    {
     "name": "stdout",
     "output_type": "stream",
     "text": [
      "Epoch: 6 Validation, loss: 0.60712, correct/total: 62 / 98, accuracy:63.265 \n"
     ]
    },
    {
     "name": "stdout",
     "output_type": "stream",
     "text": [
      "Epoch: 7 Training, loss: 0.67415, correct/total: 379 / 693, accuracy:54.690 \n"
     ]
    },
    {
     "name": "stdout",
     "output_type": "stream",
     "text": [
      "Epoch: 7 Validation, loss: 0.69033, correct/total: 54 / 98, accuracy:55.102 \n",
      "EarlyStopping counter: 1 out of 10\n"
     ]
    },
    {
     "name": "stdout",
     "output_type": "stream",
     "text": [
      "Epoch: 8 Training, loss: 0.68029, correct/total: 410 / 693, accuracy:59.163 \n"
     ]
    },
    {
     "name": "stdout",
     "output_type": "stream",
     "text": [
      "Epoch: 8 Validation, loss: 0.72500, correct/total: 54 / 98, accuracy:55.102 \n",
      "EarlyStopping counter: 2 out of 10\n"
     ]
    },
    {
     "name": "stdout",
     "output_type": "stream",
     "text": [
      "Epoch: 9 Training, loss: 0.67556, correct/total: 410 / 693, accuracy:59.163 \n"
     ]
    },
    {
     "name": "stdout",
     "output_type": "stream",
     "text": [
      "Epoch: 9 Validation, loss: 0.69690, correct/total: 54 / 98, accuracy:55.102 \n",
      "EarlyStopping counter: 3 out of 10\n"
     ]
    },
    {
     "name": "stdout",
     "output_type": "stream",
     "text": [
      "Epoch: 10 Training, loss: 0.67562, correct/total: 410 / 693, accuracy:59.163 \n"
     ]
    },
    {
     "name": "stdout",
     "output_type": "stream",
     "text": [
      "Epoch: 10 Validation, loss: 0.73174, correct/total: 54 / 98, accuracy:55.102 \n",
      "EarlyStopping counter: 4 out of 10\n"
     ]
    },
    {
     "name": "stdout",
     "output_type": "stream",
     "text": [
      "Epoch: 11 Training, loss: 0.67683, correct/total: 410 / 693, accuracy:59.163 \n"
     ]
    },
    {
     "name": "stdout",
     "output_type": "stream",
     "text": [
      "Epoch: 11 Validation, loss: 0.72386, correct/total: 54 / 98, accuracy:55.102 \n",
      "EarlyStopping counter: 5 out of 10\n"
     ]
    },
    {
     "name": "stdout",
     "output_type": "stream",
     "text": [
      "Epoch: 12 Training, loss: 0.67567, correct/total: 410 / 693, accuracy:59.163 \n"
     ]
    },
    {
     "name": "stdout",
     "output_type": "stream",
     "text": [
      "Epoch: 12 Validation, loss: 0.66955, correct/total: 54 / 98, accuracy:55.102 \n",
      "EarlyStopping counter: 6 out of 10\n"
     ]
    },
    {
     "name": "stdout",
     "output_type": "stream",
     "text": [
      "Epoch: 13 Training, loss: 0.66528, correct/total: 410 / 693, accuracy:59.163 \n"
     ]
    },
    {
     "name": "stdout",
     "output_type": "stream",
     "text": [
      "Epoch: 13 Validation, loss: 0.68944, correct/total: 54 / 98, accuracy:55.102 \n",
      "EarlyStopping counter: 7 out of 10\n"
     ]
    },
    {
     "name": "stdout",
     "output_type": "stream",
     "text": [
      "Epoch: 14 Training, loss: 0.67875, correct/total: 410 / 693, accuracy:59.163 \n"
     ]
    },
    {
     "name": "stdout",
     "output_type": "stream",
     "text": [
      "Epoch: 14 Validation, loss: 0.68585, correct/total: 54 / 98, accuracy:55.102 \n",
      "EarlyStopping counter: 8 out of 10\n"
     ]
    },
    {
     "name": "stdout",
     "output_type": "stream",
     "text": [
      "Epoch: 15 Training, loss: 0.65795, correct/total: 410 / 693, accuracy:59.163 \n"
     ]
    },
    {
     "name": "stdout",
     "output_type": "stream",
     "text": [
      "Epoch: 15 Validation, loss: 0.65945, correct/total: 54 / 98, accuracy:55.102 \n",
      "EarlyStopping counter: 9 out of 10\n"
     ]
    },
    {
     "name": "stdout",
     "output_type": "stream",
     "text": [
      "Epoch: 16 Training, loss: 0.69727, correct/total: 410 / 693, accuracy:59.163 \n"
     ]
    },
    {
     "name": "stderr",
     "output_type": "stream",
     "text": [
      "\u001b[32m[I 2022-05-27 22:24:11,791]\u001b[0m Trial 0 finished with value: 0.5460459715686738 and parameters: {'num_layer': 3, 'hidden_size': 40, 'learning_rate': 0.006677736850848905}. Best is trial 0 with value: 0.5460459715686738.\u001b[0m\n"
     ]
    },
    {
     "name": "stdout",
     "output_type": "stream",
     "text": [
      "Epoch: 16 Validation, loss: 0.68927, correct/total: 54 / 98, accuracy:55.102 \n",
      "EarlyStopping counter: 10 out of 10\n",
      "Early stopping\n",
      "Fold No. 1\n"
     ]
    },
    {
     "name": "stdout",
     "output_type": "stream",
     "text": [
      "Epoch: 1 Training, loss: 0.68451, correct/total: 401 / 692, accuracy:57.948 \n"
     ]
    },
    {
     "name": "stdout",
     "output_type": "stream",
     "text": [
      "Epoch: 1 Validation, loss: 0.63481, correct/total: 61 / 99, accuracy:61.616 \n"
     ]
    },
    {
     "name": "stdout",
     "output_type": "stream",
     "text": [
      "Epoch: 2 Training, loss: 0.65564, correct/total: 413 / 692, accuracy:59.682 \n"
     ]
    },
    {
     "name": "stdout",
     "output_type": "stream",
     "text": [
      "Epoch: 2 Validation, loss: 0.71940, correct/total: 64 / 99, accuracy:64.646 \n",
      "EarlyStopping counter: 1 out of 10\n"
     ]
    },
    {
     "name": "stdout",
     "output_type": "stream",
     "text": [
      "Epoch: 3 Training, loss: 0.63745, correct/total: 448 / 692, accuracy:64.740 \n"
     ]
    },
    {
     "name": "stdout",
     "output_type": "stream",
     "text": [
      "Epoch: 3 Validation, loss: 0.61961, correct/total: 68 / 99, accuracy:68.687 \n"
     ]
    },
    {
     "name": "stdout",
     "output_type": "stream",
     "text": [
      "Epoch: 4 Training, loss: 0.61195, correct/total: 481 / 692, accuracy:69.509 \n"
     ]
    },
    {
     "name": "stdout",
     "output_type": "stream",
     "text": [
      "Epoch: 4 Validation, loss: 0.53704, correct/total: 68 / 99, accuracy:68.687 \n"
     ]
    },
    {
     "name": "stdout",
     "output_type": "stream",
     "text": [
      "Epoch: 5 Training, loss: 0.60019, correct/total: 474 / 692, accuracy:68.497 \n"
     ]
    },
    {
     "name": "stdout",
     "output_type": "stream",
     "text": [
      "Epoch: 5 Validation, loss: 0.54980, correct/total: 69 / 99, accuracy:69.697 \n",
      "EarlyStopping counter: 1 out of 10\n"
     ]
    },
    {
     "name": "stdout",
     "output_type": "stream",
     "text": [
      "Epoch: 6 Training, loss: 0.56188, correct/total: 490 / 692, accuracy:70.809 \n"
     ]
    },
    {
     "name": "stdout",
     "output_type": "stream",
     "text": [
      "Epoch: 6 Validation, loss: 0.55334, correct/total: 69 / 99, accuracy:69.697 \n",
      "EarlyStopping counter: 2 out of 10\n"
     ]
    },
    {
     "name": "stdout",
     "output_type": "stream",
     "text": [
      "Epoch: 7 Training, loss: 0.54218, correct/total: 507 / 692, accuracy:73.266 \n"
     ]
    },
    {
     "name": "stdout",
     "output_type": "stream",
     "text": [
      "Epoch: 7 Validation, loss: 0.43885, correct/total: 75 / 99, accuracy:75.758 \n"
     ]
    },
    {
     "name": "stdout",
     "output_type": "stream",
     "text": [
      "Epoch: 8 Training, loss: 0.54181, correct/total: 503 / 692, accuracy:72.688 \n"
     ]
    },
    {
     "name": "stdout",
     "output_type": "stream",
     "text": [
      "Epoch: 8 Validation, loss: 0.46509, correct/total: 71 / 99, accuracy:71.717 \n",
      "EarlyStopping counter: 1 out of 10\n"
     ]
    },
    {
     "name": "stdout",
     "output_type": "stream",
     "text": [
      "Epoch: 9 Training, loss: 0.56480, correct/total: 497 / 692, accuracy:71.821 \n"
     ]
    },
    {
     "name": "stdout",
     "output_type": "stream",
     "text": [
      "Epoch: 9 Validation, loss: 0.59897, correct/total: 72 / 99, accuracy:72.727 \n",
      "EarlyStopping counter: 2 out of 10\n"
     ]
    },
    {
     "name": "stdout",
     "output_type": "stream",
     "text": [
      "Epoch: 10 Training, loss: 0.57457, correct/total: 504 / 692, accuracy:72.832 \n"
     ]
    },
    {
     "name": "stdout",
     "output_type": "stream",
     "text": [
      "Epoch: 10 Validation, loss: 0.46283, correct/total: 73 / 99, accuracy:73.737 \n",
      "EarlyStopping counter: 3 out of 10\n"
     ]
    },
    {
     "name": "stdout",
     "output_type": "stream",
     "text": [
      "Epoch: 11 Training, loss: 0.53355, correct/total: 517 / 692, accuracy:74.711 \n"
     ]
    },
    {
     "name": "stdout",
     "output_type": "stream",
     "text": [
      "Epoch: 11 Validation, loss: 0.72751, correct/total: 71 / 99, accuracy:71.717 \n",
      "EarlyStopping counter: 4 out of 10\n"
     ]
    },
    {
     "name": "stdout",
     "output_type": "stream",
     "text": [
      "Epoch: 12 Training, loss: 0.53668, correct/total: 521 / 692, accuracy:75.289 \n"
     ]
    },
    {
     "name": "stdout",
     "output_type": "stream",
     "text": [
      "Epoch: 12 Validation, loss: 0.44666, correct/total: 75 / 99, accuracy:75.758 \n",
      "EarlyStopping counter: 5 out of 10\n"
     ]
    },
    {
     "name": "stdout",
     "output_type": "stream",
     "text": [
      "Epoch: 13 Training, loss: 0.54754, correct/total: 504 / 692, accuracy:72.832 \n"
     ]
    },
    {
     "name": "stdout",
     "output_type": "stream",
     "text": [
      "Epoch: 13 Validation, loss: 0.50629, correct/total: 73 / 99, accuracy:73.737 \n",
      "EarlyStopping counter: 6 out of 10\n"
     ]
    },
    {
     "name": "stdout",
     "output_type": "stream",
     "text": [
      "Epoch: 14 Training, loss: 0.52544, correct/total: 511 / 692, accuracy:73.844 \n"
     ]
    },
    {
     "name": "stdout",
     "output_type": "stream",
     "text": [
      "Epoch: 14 Validation, loss: 0.62113, correct/total: 78 / 99, accuracy:78.788 \n",
      "EarlyStopping counter: 7 out of 10\n"
     ]
    },
    {
     "name": "stdout",
     "output_type": "stream",
     "text": [
      "Epoch: 15 Training, loss: 0.54098, correct/total: 503 / 692, accuracy:72.688 \n"
     ]
    },
    {
     "name": "stdout",
     "output_type": "stream",
     "text": [
      "Epoch: 15 Validation, loss: 0.66704, correct/total: 57 / 99, accuracy:57.576 \n",
      "EarlyStopping counter: 8 out of 10\n"
     ]
    },
    {
     "name": "stdout",
     "output_type": "stream",
     "text": [
      "Epoch: 16 Training, loss: 0.53162, correct/total: 504 / 692, accuracy:72.832 \n"
     ]
    },
    {
     "name": "stdout",
     "output_type": "stream",
     "text": [
      "Epoch: 16 Validation, loss: 0.40809, correct/total: 77 / 99, accuracy:77.778 \n"
     ]
    },
    {
     "name": "stdout",
     "output_type": "stream",
     "text": [
      "Epoch: 17 Training, loss: 0.55823, correct/total: 505 / 692, accuracy:72.977 \n"
     ]
    },
    {
     "name": "stdout",
     "output_type": "stream",
     "text": [
      "Epoch: 17 Validation, loss: 0.53524, correct/total: 73 / 99, accuracy:73.737 \n",
      "EarlyStopping counter: 1 out of 10\n"
     ]
    },
    {
     "name": "stdout",
     "output_type": "stream",
     "text": [
      "Epoch: 18 Training, loss: 0.53252, correct/total: 522 / 692, accuracy:75.434 \n"
     ]
    },
    {
     "name": "stdout",
     "output_type": "stream",
     "text": [
      "Epoch: 18 Validation, loss: 0.55262, correct/total: 67 / 99, accuracy:67.677 \n",
      "EarlyStopping counter: 2 out of 10\n"
     ]
    },
    {
     "name": "stdout",
     "output_type": "stream",
     "text": [
      "Epoch: 19 Training, loss: 0.54812, correct/total: 511 / 692, accuracy:73.844 \n"
     ]
    },
    {
     "name": "stdout",
     "output_type": "stream",
     "text": [
      "Epoch: 19 Validation, loss: 0.60931, correct/total: 65 / 99, accuracy:65.657 \n",
      "EarlyStopping counter: 3 out of 10\n"
     ]
    },
    {
     "name": "stdout",
     "output_type": "stream",
     "text": [
      "Epoch: 20 Training, loss: 0.56249, correct/total: 508 / 692, accuracy:73.410 \n"
     ]
    },
    {
     "name": "stdout",
     "output_type": "stream",
     "text": [
      "Epoch: 20 Validation, loss: 0.53294, correct/total: 73 / 99, accuracy:73.737 \n",
      "EarlyStopping counter: 4 out of 10\n"
     ]
    },
    {
     "name": "stdout",
     "output_type": "stream",
     "text": [
      "Epoch: 21 Training, loss: 0.50981, correct/total: 519 / 692, accuracy:75.000 \n"
     ]
    },
    {
     "name": "stdout",
     "output_type": "stream",
     "text": [
      "Epoch: 21 Validation, loss: 0.45697, correct/total: 71 / 99, accuracy:71.717 \n",
      "EarlyStopping counter: 5 out of 10\n"
     ]
    },
    {
     "name": "stdout",
     "output_type": "stream",
     "text": [
      "Epoch: 22 Training, loss: 0.51193, correct/total: 510 / 692, accuracy:73.699 \n"
     ]
    },
    {
     "name": "stdout",
     "output_type": "stream",
     "text": [
      "Epoch: 22 Validation, loss: 0.45453, correct/total: 76 / 99, accuracy:76.768 \n",
      "EarlyStopping counter: 6 out of 10\n"
     ]
    },
    {
     "name": "stdout",
     "output_type": "stream",
     "text": [
      "Epoch: 23 Training, loss: 0.49805, correct/total: 534 / 692, accuracy:77.168 \n"
     ]
    },
    {
     "name": "stdout",
     "output_type": "stream",
     "text": [
      "Epoch: 23 Validation, loss: 0.48162, correct/total: 80 / 99, accuracy:80.808 \n",
      "EarlyStopping counter: 7 out of 10\n"
     ]
    },
    {
     "name": "stdout",
     "output_type": "stream",
     "text": [
      "Epoch: 24 Training, loss: 0.48647, correct/total: 532 / 692, accuracy:76.879 \n"
     ]
    },
    {
     "name": "stdout",
     "output_type": "stream",
     "text": [
      "Epoch: 24 Validation, loss: 0.45922, correct/total: 77 / 99, accuracy:77.778 \n",
      "EarlyStopping counter: 8 out of 10\n"
     ]
    },
    {
     "name": "stdout",
     "output_type": "stream",
     "text": [
      "Epoch: 25 Training, loss: 0.49641, correct/total: 531 / 692, accuracy:76.734 \n"
     ]
    },
    {
     "name": "stdout",
     "output_type": "stream",
     "text": [
      "Epoch: 25 Validation, loss: 0.53823, correct/total: 76 / 99, accuracy:76.768 \n",
      "EarlyStopping counter: 9 out of 10\n"
     ]
    },
    {
     "name": "stdout",
     "output_type": "stream",
     "text": [
      "Epoch: 26 Training, loss: 0.48483, correct/total: 531 / 692, accuracy:76.734 \n"
     ]
    },
    {
     "name": "stdout",
     "output_type": "stream",
     "text": [
      "Epoch: 26 Validation, loss: 0.55867, correct/total: 76 / 99, accuracy:76.768 \n",
      "EarlyStopping counter: 10 out of 10\n",
      "Early stopping\n",
      "Fold No. 2\n"
     ]
    },
    {
     "name": "stdout",
     "output_type": "stream",
     "text": [
      "Epoch: 1 Training, loss: 0.69087, correct/total: 376 / 692, accuracy:54.335 \n"
     ]
    },
    {
     "name": "stdout",
     "output_type": "stream",
     "text": [
      "Epoch: 1 Validation, loss: 0.64204, correct/total: 62 / 99, accuracy:62.626 \n"
     ]
    },
    {
     "name": "stdout",
     "output_type": "stream",
     "text": [
      "Epoch: 2 Training, loss: 0.67682, correct/total: 402 / 692, accuracy:58.092 \n"
     ]
    },
    {
     "name": "stdout",
     "output_type": "stream",
     "text": [
      "Epoch: 2 Validation, loss: 0.61680, correct/total: 62 / 99, accuracy:62.626 \n"
     ]
    },
    {
     "name": "stdout",
     "output_type": "stream",
     "text": [
      "Epoch: 3 Training, loss: 0.64996, correct/total: 410 / 692, accuracy:59.249 \n"
     ]
    },
    {
     "name": "stdout",
     "output_type": "stream",
     "text": [
      "Epoch: 3 Validation, loss: 0.65452, correct/total: 57 / 99, accuracy:57.576 \n",
      "EarlyStopping counter: 1 out of 10\n"
     ]
    },
    {
     "name": "stdout",
     "output_type": "stream",
     "text": [
      "Epoch: 4 Training, loss: 0.60461, correct/total: 464 / 692, accuracy:67.052 \n"
     ]
    },
    {
     "name": "stdout",
     "output_type": "stream",
     "text": [
      "Epoch: 4 Validation, loss: 0.49671, correct/total: 69 / 99, accuracy:69.697 \n"
     ]
    },
    {
     "name": "stdout",
     "output_type": "stream",
     "text": [
      "Epoch: 5 Training, loss: 0.58198, correct/total: 487 / 692, accuracy:70.376 \n"
     ]
    },
    {
     "name": "stdout",
     "output_type": "stream",
     "text": [
      "Epoch: 5 Validation, loss: 0.50418, correct/total: 68 / 99, accuracy:68.687 \n",
      "EarlyStopping counter: 1 out of 10\n"
     ]
    },
    {
     "name": "stdout",
     "output_type": "stream",
     "text": [
      "Epoch: 6 Training, loss: 0.55769, correct/total: 504 / 692, accuracy:72.832 \n"
     ]
    },
    {
     "name": "stdout",
     "output_type": "stream",
     "text": [
      "Epoch: 6 Validation, loss: 0.75158, correct/total: 71 / 99, accuracy:71.717 \n",
      "EarlyStopping counter: 2 out of 10\n"
     ]
    },
    {
     "name": "stdout",
     "output_type": "stream",
     "text": [
      "Epoch: 7 Training, loss: 0.55855, correct/total: 511 / 692, accuracy:73.844 \n"
     ]
    },
    {
     "name": "stdout",
     "output_type": "stream",
     "text": [
      "Epoch: 7 Validation, loss: 0.81901, correct/total: 59 / 99, accuracy:59.596 \n",
      "EarlyStopping counter: 3 out of 10\n"
     ]
    },
    {
     "name": "stdout",
     "output_type": "stream",
     "text": [
      "Epoch: 8 Training, loss: 0.55970, correct/total: 505 / 692, accuracy:72.977 \n"
     ]
    },
    {
     "name": "stdout",
     "output_type": "stream",
     "text": [
      "Epoch: 8 Validation, loss: 0.50811, correct/total: 71 / 99, accuracy:71.717 \n",
      "EarlyStopping counter: 4 out of 10\n"
     ]
    },
    {
     "name": "stdout",
     "output_type": "stream",
     "text": [
      "Epoch: 9 Training, loss: 0.54637, correct/total: 512 / 692, accuracy:73.988 \n"
     ]
    },
    {
     "name": "stdout",
     "output_type": "stream",
     "text": [
      "Epoch: 9 Validation, loss: 0.65084, correct/total: 73 / 99, accuracy:73.737 \n",
      "EarlyStopping counter: 5 out of 10\n"
     ]
    },
    {
     "name": "stdout",
     "output_type": "stream",
     "text": [
      "Epoch: 10 Training, loss: 0.53995, correct/total: 509 / 692, accuracy:73.555 \n"
     ]
    },
    {
     "name": "stdout",
     "output_type": "stream",
     "text": [
      "Epoch: 10 Validation, loss: 0.57055, correct/total: 68 / 99, accuracy:68.687 \n",
      "EarlyStopping counter: 6 out of 10\n"
     ]
    },
    {
     "name": "stdout",
     "output_type": "stream",
     "text": [
      "Epoch: 11 Training, loss: 0.52601, correct/total: 523 / 692, accuracy:75.578 \n"
     ]
    },
    {
     "name": "stdout",
     "output_type": "stream",
     "text": [
      "Epoch: 11 Validation, loss: 0.56695, correct/total: 72 / 99, accuracy:72.727 \n",
      "EarlyStopping counter: 7 out of 10\n"
     ]
    },
    {
     "name": "stdout",
     "output_type": "stream",
     "text": [
      "Epoch: 12 Training, loss: 0.51449, correct/total: 514 / 692, accuracy:74.277 \n"
     ]
    },
    {
     "name": "stdout",
     "output_type": "stream",
     "text": [
      "Epoch: 12 Validation, loss: 0.55673, correct/total: 68 / 99, accuracy:68.687 \n",
      "EarlyStopping counter: 8 out of 10\n"
     ]
    },
    {
     "name": "stdout",
     "output_type": "stream",
     "text": [
      "Epoch: 13 Training, loss: 0.50995, correct/total: 531 / 692, accuracy:76.734 \n"
     ]
    },
    {
     "name": "stdout",
     "output_type": "stream",
     "text": [
      "Epoch: 13 Validation, loss: 0.56123, correct/total: 68 / 99, accuracy:68.687 \n",
      "EarlyStopping counter: 9 out of 10\n"
     ]
    },
    {
     "name": "stdout",
     "output_type": "stream",
     "text": [
      "Epoch: 14 Training, loss: 0.49867, correct/total: 537 / 692, accuracy:77.601 \n"
     ]
    },
    {
     "name": "stdout",
     "output_type": "stream",
     "text": [
      "Epoch: 14 Validation, loss: 0.60127, correct/total: 74 / 99, accuracy:74.747 \n",
      "EarlyStopping counter: 10 out of 10\n",
      "Early stopping\n",
      "Fold No. 3\n"
     ]
    },
    {
     "name": "stdout",
     "output_type": "stream",
     "text": [
      "Epoch: 1 Training, loss: 0.68735, correct/total: 398 / 692, accuracy:57.514 \n"
     ]
    },
    {
     "name": "stdout",
     "output_type": "stream",
     "text": [
      "Epoch: 1 Validation, loss: 0.67174, correct/total: 58 / 99, accuracy:58.586 \n"
     ]
    },
    {
     "name": "stdout",
     "output_type": "stream",
     "text": [
      "Epoch: 2 Training, loss: 0.66216, correct/total: 423 / 692, accuracy:61.127 \n"
     ]
    },
    {
     "name": "stdout",
     "output_type": "stream",
     "text": [
      "Epoch: 2 Validation, loss: 0.64580, correct/total: 62 / 99, accuracy:62.626 \n"
     ]
    },
    {
     "name": "stdout",
     "output_type": "stream",
     "text": [
      "Epoch: 3 Training, loss: 0.66254, correct/total: 446 / 692, accuracy:64.451 \n"
     ]
    },
    {
     "name": "stdout",
     "output_type": "stream",
     "text": [
      "Epoch: 3 Validation, loss: 0.68292, correct/total: 68 / 99, accuracy:68.687 \n",
      "EarlyStopping counter: 1 out of 10\n"
     ]
    },
    {
     "name": "stdout",
     "output_type": "stream",
     "text": [
      "Epoch: 4 Training, loss: 0.63651, correct/total: 452 / 692, accuracy:65.318 \n"
     ]
    },
    {
     "name": "stdout",
     "output_type": "stream",
     "text": [
      "Epoch: 4 Validation, loss: 0.65699, correct/total: 63 / 99, accuracy:63.636 \n",
      "EarlyStopping counter: 2 out of 10\n"
     ]
    },
    {
     "name": "stdout",
     "output_type": "stream",
     "text": [
      "Epoch: 5 Training, loss: 0.60872, correct/total: 476 / 692, accuracy:68.786 \n"
     ]
    },
    {
     "name": "stdout",
     "output_type": "stream",
     "text": [
      "Epoch: 5 Validation, loss: 0.56693, correct/total: 67 / 99, accuracy:67.677 \n"
     ]
    },
    {
     "name": "stdout",
     "output_type": "stream",
     "text": [
      "Epoch: 6 Training, loss: 0.59548, correct/total: 480 / 692, accuracy:69.364 \n"
     ]
    },
    {
     "name": "stdout",
     "output_type": "stream",
     "text": [
      "Epoch: 6 Validation, loss: 0.62647, correct/total: 70 / 99, accuracy:70.707 \n",
      "EarlyStopping counter: 1 out of 10\n"
     ]
    },
    {
     "name": "stdout",
     "output_type": "stream",
     "text": [
      "Epoch: 7 Training, loss: 0.57823, correct/total: 486 / 692, accuracy:70.231 \n"
     ]
    },
    {
     "name": "stdout",
     "output_type": "stream",
     "text": [
      "Epoch: 7 Validation, loss: 0.55825, correct/total: 65 / 99, accuracy:65.657 \n"
     ]
    },
    {
     "name": "stdout",
     "output_type": "stream",
     "text": [
      "Epoch: 8 Training, loss: 0.56180, correct/total: 501 / 692, accuracy:72.399 \n"
     ]
    },
    {
     "name": "stdout",
     "output_type": "stream",
     "text": [
      "Epoch: 8 Validation, loss: 0.54155, correct/total: 73 / 99, accuracy:73.737 \n"
     ]
    },
    {
     "name": "stdout",
     "output_type": "stream",
     "text": [
      "Epoch: 9 Training, loss: 0.57671, correct/total: 495 / 692, accuracy:71.532 \n"
     ]
    },
    {
     "name": "stdout",
     "output_type": "stream",
     "text": [
      "Epoch: 9 Validation, loss: 0.60093, correct/total: 69 / 99, accuracy:69.697 \n",
      "EarlyStopping counter: 1 out of 10\n"
     ]
    },
    {
     "name": "stdout",
     "output_type": "stream",
     "text": [
      "Epoch: 10 Training, loss: 0.55604, correct/total: 500 / 692, accuracy:72.254 \n"
     ]
    },
    {
     "name": "stdout",
     "output_type": "stream",
     "text": [
      "Epoch: 10 Validation, loss: 0.60168, correct/total: 67 / 99, accuracy:67.677 \n",
      "EarlyStopping counter: 2 out of 10\n"
     ]
    },
    {
     "name": "stdout",
     "output_type": "stream",
     "text": [
      "Epoch: 11 Training, loss: 0.55366, correct/total: 507 / 692, accuracy:73.266 \n"
     ]
    },
    {
     "name": "stdout",
     "output_type": "stream",
     "text": [
      "Epoch: 11 Validation, loss: 0.62594, correct/total: 71 / 99, accuracy:71.717 \n",
      "EarlyStopping counter: 3 out of 10\n"
     ]
    },
    {
     "name": "stdout",
     "output_type": "stream",
     "text": [
      "Epoch: 12 Training, loss: 0.54393, correct/total: 500 / 692, accuracy:72.254 \n"
     ]
    },
    {
     "name": "stdout",
     "output_type": "stream",
     "text": [
      "Epoch: 12 Validation, loss: 0.46352, correct/total: 73 / 99, accuracy:73.737 \n"
     ]
    },
    {
     "name": "stdout",
     "output_type": "stream",
     "text": [
      "Epoch: 13 Training, loss: 0.54908, correct/total: 500 / 692, accuracy:72.254 \n"
     ]
    },
    {
     "name": "stdout",
     "output_type": "stream",
     "text": [
      "Epoch: 13 Validation, loss: 0.49068, correct/total: 75 / 99, accuracy:75.758 \n",
      "EarlyStopping counter: 1 out of 10\n"
     ]
    },
    {
     "name": "stdout",
     "output_type": "stream",
     "text": [
      "Epoch: 14 Training, loss: 0.53198, correct/total: 518 / 692, accuracy:74.855 \n"
     ]
    },
    {
     "name": "stdout",
     "output_type": "stream",
     "text": [
      "Epoch: 14 Validation, loss: 0.47362, correct/total: 76 / 99, accuracy:76.768 \n",
      "EarlyStopping counter: 2 out of 10\n"
     ]
    },
    {
     "name": "stdout",
     "output_type": "stream",
     "text": [
      "Epoch: 15 Training, loss: 0.52140, correct/total: 520 / 692, accuracy:75.145 \n"
     ]
    },
    {
     "name": "stdout",
     "output_type": "stream",
     "text": [
      "Epoch: 15 Validation, loss: 0.51268, correct/total: 72 / 99, accuracy:72.727 \n",
      "EarlyStopping counter: 3 out of 10\n"
     ]
    },
    {
     "name": "stdout",
     "output_type": "stream",
     "text": [
      "Epoch: 16 Training, loss: 0.50165, correct/total: 522 / 692, accuracy:75.434 \n"
     ]
    },
    {
     "name": "stdout",
     "output_type": "stream",
     "text": [
      "Epoch: 16 Validation, loss: 0.61712, correct/total: 74 / 99, accuracy:74.747 \n",
      "EarlyStopping counter: 4 out of 10\n"
     ]
    },
    {
     "name": "stdout",
     "output_type": "stream",
     "text": [
      "Epoch: 17 Training, loss: 0.52253, correct/total: 516 / 692, accuracy:74.566 \n"
     ]
    },
    {
     "name": "stdout",
     "output_type": "stream",
     "text": [
      "Epoch: 17 Validation, loss: 0.61937, correct/total: 75 / 99, accuracy:75.758 \n",
      "EarlyStopping counter: 5 out of 10\n"
     ]
    },
    {
     "name": "stdout",
     "output_type": "stream",
     "text": [
      "Epoch: 18 Training, loss: 0.50793, correct/total: 533 / 692, accuracy:77.023 \n"
     ]
    },
    {
     "name": "stdout",
     "output_type": "stream",
     "text": [
      "Epoch: 18 Validation, loss: 0.55880, correct/total: 66 / 99, accuracy:66.667 \n",
      "EarlyStopping counter: 6 out of 10\n"
     ]
    },
    {
     "name": "stdout",
     "output_type": "stream",
     "text": [
      "Epoch: 19 Training, loss: 0.51168, correct/total: 531 / 692, accuracy:76.734 \n"
     ]
    },
    {
     "name": "stdout",
     "output_type": "stream",
     "text": [
      "Epoch: 19 Validation, loss: 0.58994, correct/total: 73 / 99, accuracy:73.737 \n",
      "EarlyStopping counter: 7 out of 10\n"
     ]
    },
    {
     "name": "stdout",
     "output_type": "stream",
     "text": [
      "Epoch: 20 Training, loss: 0.49446, correct/total: 521 / 692, accuracy:75.289 \n"
     ]
    },
    {
     "name": "stdout",
     "output_type": "stream",
     "text": [
      "Epoch: 20 Validation, loss: 0.54806, correct/total: 73 / 99, accuracy:73.737 \n",
      "EarlyStopping counter: 8 out of 10\n"
     ]
    },
    {
     "name": "stdout",
     "output_type": "stream",
     "text": [
      "Epoch: 21 Training, loss: 0.50244, correct/total: 523 / 692, accuracy:75.578 \n"
     ]
    },
    {
     "name": "stdout",
     "output_type": "stream",
     "text": [
      "Epoch: 21 Validation, loss: 0.54566, correct/total: 74 / 99, accuracy:74.747 \n",
      "EarlyStopping counter: 9 out of 10\n"
     ]
    },
    {
     "name": "stdout",
     "output_type": "stream",
     "text": [
      "Epoch: 22 Training, loss: 0.46614, correct/total: 532 / 692, accuracy:76.879 \n"
     ]
    },
    {
     "name": "stdout",
     "output_type": "stream",
     "text": [
      "Epoch: 22 Validation, loss: 0.74436, correct/total: 69 / 99, accuracy:69.697 \n",
      "EarlyStopping counter: 10 out of 10\n",
      "Early stopping\n",
      "Fold No. 4\n"
     ]
    },
    {
     "name": "stdout",
     "output_type": "stream",
     "text": [
      "Epoch: 1 Training, loss: 0.69215, correct/total: 390 / 692, accuracy:56.358 \n"
     ]
    },
    {
     "name": "stdout",
     "output_type": "stream",
     "text": [
      "Epoch: 1 Validation, loss: 0.69251, correct/total: 55 / 99, accuracy:55.556 \n"
     ]
    },
    {
     "name": "stdout",
     "output_type": "stream",
     "text": [
      "Epoch: 2 Training, loss: 0.66398, correct/total: 410 / 692, accuracy:59.249 \n"
     ]
    },
    {
     "name": "stdout",
     "output_type": "stream",
     "text": [
      "Epoch: 2 Validation, loss: 0.65629, correct/total: 61 / 99, accuracy:61.616 \n"
     ]
    },
    {
     "name": "stdout",
     "output_type": "stream",
     "text": [
      "Epoch: 3 Training, loss: 0.66162, correct/total: 396 / 692, accuracy:57.225 \n"
     ]
    },
    {
     "name": "stdout",
     "output_type": "stream",
     "text": [
      "Epoch: 3 Validation, loss: 0.64425, correct/total: 60 / 99, accuracy:60.606 \n"
     ]
    },
    {
     "name": "stdout",
     "output_type": "stream",
     "text": [
      "Epoch: 4 Training, loss: 0.65446, correct/total: 420 / 692, accuracy:60.694 \n"
     ]
    },
    {
     "name": "stdout",
     "output_type": "stream",
     "text": [
      "Epoch: 4 Validation, loss: 0.60225, correct/total: 64 / 99, accuracy:64.646 \n"
     ]
    },
    {
     "name": "stdout",
     "output_type": "stream",
     "text": [
      "Epoch: 5 Training, loss: 0.61688, correct/total: 475 / 692, accuracy:68.642 \n"
     ]
    },
    {
     "name": "stdout",
     "output_type": "stream",
     "text": [
      "Epoch: 5 Validation, loss: 0.65187, correct/total: 61 / 99, accuracy:61.616 \n",
      "EarlyStopping counter: 1 out of 10\n"
     ]
    },
    {
     "name": "stdout",
     "output_type": "stream",
     "text": [
      "Epoch: 6 Training, loss: 0.60729, correct/total: 478 / 692, accuracy:69.075 \n"
     ]
    },
    {
     "name": "stdout",
     "output_type": "stream",
     "text": [
      "Epoch: 6 Validation, loss: 0.73273, correct/total: 62 / 99, accuracy:62.626 \n",
      "EarlyStopping counter: 2 out of 10\n"
     ]
    },
    {
     "name": "stdout",
     "output_type": "stream",
     "text": [
      "Epoch: 7 Training, loss: 0.58614, correct/total: 495 / 692, accuracy:71.532 \n"
     ]
    },
    {
     "name": "stdout",
     "output_type": "stream",
     "text": [
      "Epoch: 7 Validation, loss: 0.55334, correct/total: 67 / 99, accuracy:67.677 \n"
     ]
    },
    {
     "name": "stdout",
     "output_type": "stream",
     "text": [
      "Epoch: 8 Training, loss: 0.57888, correct/total: 497 / 692, accuracy:71.821 \n"
     ]
    },
    {
     "name": "stdout",
     "output_type": "stream",
     "text": [
      "Epoch: 8 Validation, loss: 0.62280, correct/total: 63 / 99, accuracy:63.636 \n",
      "EarlyStopping counter: 1 out of 10\n"
     ]
    },
    {
     "name": "stdout",
     "output_type": "stream",
     "text": [
      "Epoch: 9 Training, loss: 0.55433, correct/total: 504 / 692, accuracy:72.832 \n"
     ]
    },
    {
     "name": "stdout",
     "output_type": "stream",
     "text": [
      "Epoch: 9 Validation, loss: 0.71233, correct/total: 65 / 99, accuracy:65.657 \n",
      "EarlyStopping counter: 2 out of 10\n"
     ]
    },
    {
     "name": "stdout",
     "output_type": "stream",
     "text": [
      "Epoch: 10 Training, loss: 0.54474, correct/total: 509 / 692, accuracy:73.555 \n"
     ]
    },
    {
     "name": "stdout",
     "output_type": "stream",
     "text": [
      "Epoch: 10 Validation, loss: 0.64886, correct/total: 66 / 99, accuracy:66.667 \n",
      "EarlyStopping counter: 3 out of 10\n"
     ]
    },
    {
     "name": "stdout",
     "output_type": "stream",
     "text": [
      "Epoch: 11 Training, loss: 0.54945, correct/total: 502 / 692, accuracy:72.543 \n"
     ]
    },
    {
     "name": "stdout",
     "output_type": "stream",
     "text": [
      "Epoch: 11 Validation, loss: 0.59060, correct/total: 62 / 99, accuracy:62.626 \n",
      "EarlyStopping counter: 4 out of 10\n"
     ]
    },
    {
     "name": "stdout",
     "output_type": "stream",
     "text": [
      "Epoch: 12 Training, loss: 0.58481, correct/total: 481 / 692, accuracy:69.509 \n"
     ]
    },
    {
     "name": "stdout",
     "output_type": "stream",
     "text": [
      "Epoch: 12 Validation, loss: 0.58503, correct/total: 64 / 99, accuracy:64.646 \n",
      "EarlyStopping counter: 5 out of 10\n"
     ]
    },
    {
     "name": "stdout",
     "output_type": "stream",
     "text": [
      "Epoch: 13 Training, loss: 0.52131, correct/total: 536 / 692, accuracy:77.457 \n"
     ]
    },
    {
     "name": "stdout",
     "output_type": "stream",
     "text": [
      "Epoch: 13 Validation, loss: 0.53631, correct/total: 64 / 99, accuracy:64.646 \n"
     ]
    },
    {
     "name": "stdout",
     "output_type": "stream",
     "text": [
      "Epoch: 14 Training, loss: 0.51288, correct/total: 527 / 692, accuracy:76.156 \n"
     ]
    },
    {
     "name": "stdout",
     "output_type": "stream",
     "text": [
      "Epoch: 14 Validation, loss: 0.66244, correct/total: 61 / 99, accuracy:61.616 \n",
      "EarlyStopping counter: 1 out of 10\n"
     ]
    },
    {
     "name": "stdout",
     "output_type": "stream",
     "text": [
      "Epoch: 15 Training, loss: 0.50453, correct/total: 534 / 692, accuracy:77.168 \n"
     ]
    },
    {
     "name": "stdout",
     "output_type": "stream",
     "text": [
      "Epoch: 15 Validation, loss: 0.80795, correct/total: 61 / 99, accuracy:61.616 \n",
      "EarlyStopping counter: 2 out of 10\n"
     ]
    },
    {
     "name": "stdout",
     "output_type": "stream",
     "text": [
      "Epoch: 16 Training, loss: 0.50157, correct/total: 538 / 692, accuracy:77.746 \n"
     ]
    },
    {
     "name": "stdout",
     "output_type": "stream",
     "text": [
      "Epoch: 16 Validation, loss: 0.73983, correct/total: 69 / 99, accuracy:69.697 \n",
      "EarlyStopping counter: 3 out of 10\n"
     ]
    },
    {
     "name": "stdout",
     "output_type": "stream",
     "text": [
      "Epoch: 17 Training, loss: 0.51903, correct/total: 524 / 692, accuracy:75.723 \n"
     ]
    },
    {
     "name": "stdout",
     "output_type": "stream",
     "text": [
      "Epoch: 17 Validation, loss: 0.59302, correct/total: 64 / 99, accuracy:64.646 \n",
      "EarlyStopping counter: 4 out of 10\n"
     ]
    },
    {
     "name": "stdout",
     "output_type": "stream",
     "text": [
      "Epoch: 18 Training, loss: 0.51424, correct/total: 532 / 692, accuracy:76.879 \n"
     ]
    },
    {
     "name": "stdout",
     "output_type": "stream",
     "text": [
      "Epoch: 18 Validation, loss: 0.69941, correct/total: 65 / 99, accuracy:65.657 \n",
      "EarlyStopping counter: 5 out of 10\n"
     ]
    },
    {
     "name": "stdout",
     "output_type": "stream",
     "text": [
      "Epoch: 19 Training, loss: 0.50218, correct/total: 533 / 692, accuracy:77.023 \n"
     ]
    },
    {
     "name": "stdout",
     "output_type": "stream",
     "text": [
      "Epoch: 19 Validation, loss: 0.66277, correct/total: 62 / 99, accuracy:62.626 \n",
      "EarlyStopping counter: 6 out of 10\n"
     ]
    },
    {
     "name": "stdout",
     "output_type": "stream",
     "text": [
      "Epoch: 20 Training, loss: 0.47778, correct/total: 543 / 692, accuracy:78.468 \n"
     ]
    },
    {
     "name": "stdout",
     "output_type": "stream",
     "text": [
      "Epoch: 20 Validation, loss: 0.56722, correct/total: 63 / 99, accuracy:63.636 \n",
      "EarlyStopping counter: 7 out of 10\n"
     ]
    },
    {
     "name": "stdout",
     "output_type": "stream",
     "text": [
      "Epoch: 21 Training, loss: 0.49078, correct/total: 530 / 692, accuracy:76.590 \n"
     ]
    },
    {
     "name": "stdout",
     "output_type": "stream",
     "text": [
      "Epoch: 21 Validation, loss: 0.56192, correct/total: 68 / 99, accuracy:68.687 \n",
      "EarlyStopping counter: 8 out of 10\n"
     ]
    },
    {
     "name": "stdout",
     "output_type": "stream",
     "text": [
      "Epoch: 22 Training, loss: 0.46867, correct/total: 546 / 692, accuracy:78.902 \n"
     ]
    },
    {
     "name": "stdout",
     "output_type": "stream",
     "text": [
      "Epoch: 22 Validation, loss: 0.74953, correct/total: 63 / 99, accuracy:63.636 \n",
      "EarlyStopping counter: 9 out of 10\n"
     ]
    },
    {
     "name": "stdout",
     "output_type": "stream",
     "text": [
      "Epoch: 23 Training, loss: 0.47295, correct/total: 539 / 692, accuracy:77.890 \n"
     ]
    },
    {
     "name": "stdout",
     "output_type": "stream",
     "text": [
      "Epoch: 23 Validation, loss: 0.55989, correct/total: 66 / 99, accuracy:66.667 \n",
      "EarlyStopping counter: 10 out of 10\n",
      "Early stopping\n",
      "Fold No. 5\n"
     ]
    },
    {
     "name": "stdout",
     "output_type": "stream",
     "text": [
      "Epoch: 1 Training, loss: 0.68911, correct/total: 392 / 692, accuracy:56.647 \n"
     ]
    },
    {
     "name": "stdout",
     "output_type": "stream",
     "text": [
      "Epoch: 1 Validation, loss: 0.68809, correct/total: 60 / 99, accuracy:60.606 \n"
     ]
    },
    {
     "name": "stdout",
     "output_type": "stream",
     "text": [
      "Epoch: 2 Training, loss: 0.67209, correct/total: 406 / 692, accuracy:58.671 \n"
     ]
    },
    {
     "name": "stdout",
     "output_type": "stream",
     "text": [
      "Epoch: 2 Validation, loss: 0.63987, correct/total: 60 / 99, accuracy:60.606 \n"
     ]
    },
    {
     "name": "stdout",
     "output_type": "stream",
     "text": [
      "Epoch: 3 Training, loss: 0.66317, correct/total: 426 / 692, accuracy:61.561 \n"
     ]
    },
    {
     "name": "stdout",
     "output_type": "stream",
     "text": [
      "Epoch: 3 Validation, loss: 0.65481, correct/total: 61 / 99, accuracy:61.616 \n",
      "EarlyStopping counter: 1 out of 10\n"
     ]
    },
    {
     "name": "stdout",
     "output_type": "stream",
     "text": [
      "Epoch: 4 Training, loss: 0.61924, correct/total: 468 / 692, accuracy:67.630 \n"
     ]
    },
    {
     "name": "stdout",
     "output_type": "stream",
     "text": [
      "Epoch: 4 Validation, loss: 0.54209, correct/total: 70 / 99, accuracy:70.707 \n"
     ]
    },
    {
     "name": "stdout",
     "output_type": "stream",
     "text": [
      "Epoch: 5 Training, loss: 0.61831, correct/total: 464 / 692, accuracy:67.052 \n"
     ]
    },
    {
     "name": "stdout",
     "output_type": "stream",
     "text": [
      "Epoch: 5 Validation, loss: 0.75839, correct/total: 61 / 99, accuracy:61.616 \n",
      "EarlyStopping counter: 1 out of 10\n"
     ]
    },
    {
     "name": "stdout",
     "output_type": "stream",
     "text": [
      "Epoch: 6 Training, loss: 0.66312, correct/total: 427 / 692, accuracy:61.705 \n"
     ]
    },
    {
     "name": "stdout",
     "output_type": "stream",
     "text": [
      "Epoch: 6 Validation, loss: 0.57429, correct/total: 66 / 99, accuracy:66.667 \n",
      "EarlyStopping counter: 2 out of 10\n"
     ]
    },
    {
     "name": "stdout",
     "output_type": "stream",
     "text": [
      "Epoch: 7 Training, loss: 0.68197, correct/total: 409 / 692, accuracy:59.104 \n"
     ]
    },
    {
     "name": "stdout",
     "output_type": "stream",
     "text": [
      "Epoch: 7 Validation, loss: 0.66346, correct/total: 60 / 99, accuracy:60.606 \n",
      "EarlyStopping counter: 3 out of 10\n"
     ]
    },
    {
     "name": "stdout",
     "output_type": "stream",
     "text": [
      "Epoch: 8 Training, loss: 0.67808, correct/total: 404 / 692, accuracy:58.382 \n"
     ]
    },
    {
     "name": "stdout",
     "output_type": "stream",
     "text": [
      "Epoch: 8 Validation, loss: 0.65888, correct/total: 60 / 99, accuracy:60.606 \n",
      "EarlyStopping counter: 4 out of 10\n"
     ]
    },
    {
     "name": "stdout",
     "output_type": "stream",
     "text": [
      "Epoch: 9 Training, loss: 0.66754, correct/total: 410 / 692, accuracy:59.249 \n"
     ]
    },
    {
     "name": "stdout",
     "output_type": "stream",
     "text": [
      "Epoch: 9 Validation, loss: 0.59913, correct/total: 71 / 99, accuracy:71.717 \n",
      "EarlyStopping counter: 5 out of 10\n"
     ]
    },
    {
     "name": "stdout",
     "output_type": "stream",
     "text": [
      "Epoch: 10 Training, loss: 0.62181, correct/total: 451 / 692, accuracy:65.173 \n"
     ]
    },
    {
     "name": "stdout",
     "output_type": "stream",
     "text": [
      "Epoch: 10 Validation, loss: 0.60552, correct/total: 67 / 99, accuracy:67.677 \n",
      "EarlyStopping counter: 6 out of 10\n"
     ]
    },
    {
     "name": "stdout",
     "output_type": "stream",
     "text": [
      "Epoch: 11 Training, loss: 0.58844, correct/total: 482 / 692, accuracy:69.653 \n"
     ]
    },
    {
     "name": "stdout",
     "output_type": "stream",
     "text": [
      "Epoch: 11 Validation, loss: 0.53158, correct/total: 70 / 99, accuracy:70.707 \n"
     ]
    },
    {
     "name": "stdout",
     "output_type": "stream",
     "text": [
      "Epoch: 12 Training, loss: 0.59409, correct/total: 496 / 692, accuracy:71.676 \n"
     ]
    },
    {
     "name": "stdout",
     "output_type": "stream",
     "text": [
      "Epoch: 12 Validation, loss: 0.54933, correct/total: 72 / 99, accuracy:72.727 \n",
      "EarlyStopping counter: 1 out of 10\n"
     ]
    },
    {
     "name": "stdout",
     "output_type": "stream",
     "text": [
      "Epoch: 13 Training, loss: 0.57156, correct/total: 496 / 692, accuracy:71.676 \n"
     ]
    },
    {
     "name": "stdout",
     "output_type": "stream",
     "text": [
      "Epoch: 13 Validation, loss: 0.49413, correct/total: 71 / 99, accuracy:71.717 \n"
     ]
    },
    {
     "name": "stdout",
     "output_type": "stream",
     "text": [
      "Epoch: 14 Training, loss: 0.56099, correct/total: 510 / 692, accuracy:73.699 \n"
     ]
    },
    {
     "name": "stdout",
     "output_type": "stream",
     "text": [
      "Epoch: 14 Validation, loss: 0.55367, correct/total: 68 / 99, accuracy:68.687 \n",
      "EarlyStopping counter: 1 out of 10\n"
     ]
    },
    {
     "name": "stdout",
     "output_type": "stream",
     "text": [
      "Epoch: 15 Training, loss: 0.57109, correct/total: 498 / 692, accuracy:71.965 \n"
     ]
    },
    {
     "name": "stdout",
     "output_type": "stream",
     "text": [
      "Epoch: 15 Validation, loss: 0.54999, correct/total: 68 / 99, accuracy:68.687 \n",
      "EarlyStopping counter: 2 out of 10\n"
     ]
    },
    {
     "name": "stdout",
     "output_type": "stream",
     "text": [
      "Epoch: 16 Training, loss: 0.55302, correct/total: 503 / 692, accuracy:72.688 \n"
     ]
    },
    {
     "name": "stdout",
     "output_type": "stream",
     "text": [
      "Epoch: 16 Validation, loss: 0.73594, correct/total: 68 / 99, accuracy:68.687 \n",
      "EarlyStopping counter: 3 out of 10\n"
     ]
    },
    {
     "name": "stdout",
     "output_type": "stream",
     "text": [
      "Epoch: 17 Training, loss: 0.54137, correct/total: 514 / 692, accuracy:74.277 \n"
     ]
    },
    {
     "name": "stdout",
     "output_type": "stream",
     "text": [
      "Epoch: 17 Validation, loss: 0.59219, correct/total: 69 / 99, accuracy:69.697 \n",
      "EarlyStopping counter: 4 out of 10\n"
     ]
    },
    {
     "name": "stdout",
     "output_type": "stream",
     "text": [
      "Epoch: 18 Training, loss: 0.53986, correct/total: 519 / 692, accuracy:75.000 \n"
     ]
    },
    {
     "name": "stdout",
     "output_type": "stream",
     "text": [
      "Epoch: 18 Validation, loss: 0.73062, correct/total: 69 / 99, accuracy:69.697 \n",
      "EarlyStopping counter: 5 out of 10\n"
     ]
    },
    {
     "name": "stdout",
     "output_type": "stream",
     "text": [
      "Epoch: 19 Training, loss: 0.53058, correct/total: 525 / 692, accuracy:75.867 \n"
     ]
    },
    {
     "name": "stdout",
     "output_type": "stream",
     "text": [
      "Epoch: 19 Validation, loss: 0.73769, correct/total: 69 / 99, accuracy:69.697 \n",
      "EarlyStopping counter: 6 out of 10\n"
     ]
    },
    {
     "name": "stdout",
     "output_type": "stream",
     "text": [
      "Epoch: 20 Training, loss: 0.52527, correct/total: 525 / 692, accuracy:75.867 \n"
     ]
    },
    {
     "name": "stdout",
     "output_type": "stream",
     "text": [
      "Epoch: 20 Validation, loss: 0.60921, correct/total: 69 / 99, accuracy:69.697 \n",
      "EarlyStopping counter: 7 out of 10\n"
     ]
    },
    {
     "name": "stdout",
     "output_type": "stream",
     "text": [
      "Epoch: 21 Training, loss: 0.52130, correct/total: 522 / 692, accuracy:75.434 \n"
     ]
    },
    {
     "name": "stdout",
     "output_type": "stream",
     "text": [
      "Epoch: 21 Validation, loss: 0.59501, correct/total: 71 / 99, accuracy:71.717 \n",
      "EarlyStopping counter: 8 out of 10\n"
     ]
    },
    {
     "name": "stdout",
     "output_type": "stream",
     "text": [
      "Epoch: 22 Training, loss: 0.53206, correct/total: 525 / 692, accuracy:75.867 \n"
     ]
    },
    {
     "name": "stdout",
     "output_type": "stream",
     "text": [
      "Epoch: 22 Validation, loss: 0.53373, correct/total: 67 / 99, accuracy:67.677 \n",
      "EarlyStopping counter: 9 out of 10\n"
     ]
    },
    {
     "name": "stdout",
     "output_type": "stream",
     "text": [
      "Epoch: 23 Training, loss: 0.51804, correct/total: 530 / 692, accuracy:76.590 \n"
     ]
    },
    {
     "name": "stdout",
     "output_type": "stream",
     "text": [
      "Epoch: 23 Validation, loss: 0.66122, correct/total: 70 / 99, accuracy:70.707 \n",
      "EarlyStopping counter: 10 out of 10\n",
      "Early stopping\n",
      "Fold No. 6\n"
     ]
    },
    {
     "name": "stdout",
     "output_type": "stream",
     "text": [
      "Epoch: 1 Training, loss: 0.68210, correct/total: 397 / 692, accuracy:57.370 \n"
     ]
    },
    {
     "name": "stdout",
     "output_type": "stream",
     "text": [
      "Epoch: 1 Validation, loss: 0.70846, correct/total: 47 / 99, accuracy:47.475 \n"
     ]
    },
    {
     "name": "stdout",
     "output_type": "stream",
     "text": [
      "Epoch: 2 Training, loss: 0.66950, correct/total: 417 / 692, accuracy:60.260 \n"
     ]
    },
    {
     "name": "stdout",
     "output_type": "stream",
     "text": [
      "Epoch: 2 Validation, loss: 0.67999, correct/total: 47 / 99, accuracy:47.475 \n"
     ]
    },
    {
     "name": "stdout",
     "output_type": "stream",
     "text": [
      "Epoch: 3 Training, loss: 0.66724, correct/total: 397 / 692, accuracy:57.370 \n"
     ]
    },
    {
     "name": "stdout",
     "output_type": "stream",
     "text": [
      "Epoch: 3 Validation, loss: 0.74800, correct/total: 47 / 99, accuracy:47.475 \n",
      "EarlyStopping counter: 1 out of 10\n"
     ]
    },
    {
     "name": "stdout",
     "output_type": "stream",
     "text": [
      "Epoch: 4 Training, loss: 0.63336, correct/total: 446 / 692, accuracy:64.451 \n"
     ]
    },
    {
     "name": "stdout",
     "output_type": "stream",
     "text": [
      "Epoch: 4 Validation, loss: 0.74409, correct/total: 53 / 99, accuracy:53.535 \n",
      "EarlyStopping counter: 2 out of 10\n"
     ]
    },
    {
     "name": "stdout",
     "output_type": "stream",
     "text": [
      "Epoch: 5 Training, loss: 0.59072, correct/total: 489 / 692, accuracy:70.665 \n"
     ]
    },
    {
     "name": "stdout",
     "output_type": "stream",
     "text": [
      "Epoch: 5 Validation, loss: 0.61509, correct/total: 63 / 99, accuracy:63.636 \n"
     ]
    },
    {
     "name": "stdout",
     "output_type": "stream",
     "text": [
      "Epoch: 6 Training, loss: 0.59593, correct/total: 491 / 692, accuracy:70.954 \n"
     ]
    },
    {
     "name": "stdout",
     "output_type": "stream",
     "text": [
      "Epoch: 6 Validation, loss: 0.66192, correct/total: 64 / 99, accuracy:64.646 \n",
      "EarlyStopping counter: 1 out of 10\n"
     ]
    },
    {
     "name": "stdout",
     "output_type": "stream",
     "text": [
      "Epoch: 7 Training, loss: 0.55765, correct/total: 502 / 692, accuracy:72.543 \n"
     ]
    },
    {
     "name": "stdout",
     "output_type": "stream",
     "text": [
      "Epoch: 7 Validation, loss: 0.57831, correct/total: 69 / 99, accuracy:69.697 \n"
     ]
    },
    {
     "name": "stdout",
     "output_type": "stream",
     "text": [
      "Epoch: 8 Training, loss: 0.54644, correct/total: 511 / 692, accuracy:73.844 \n"
     ]
    },
    {
     "name": "stdout",
     "output_type": "stream",
     "text": [
      "Epoch: 8 Validation, loss: 0.79908, correct/total: 65 / 99, accuracy:65.657 \n",
      "EarlyStopping counter: 1 out of 10\n"
     ]
    },
    {
     "name": "stdout",
     "output_type": "stream",
     "text": [
      "Epoch: 9 Training, loss: 0.54414, correct/total: 511 / 692, accuracy:73.844 \n"
     ]
    },
    {
     "name": "stdout",
     "output_type": "stream",
     "text": [
      "Epoch: 9 Validation, loss: 0.62533, correct/total: 66 / 99, accuracy:66.667 \n",
      "EarlyStopping counter: 2 out of 10\n"
     ]
    },
    {
     "name": "stdout",
     "output_type": "stream",
     "text": [
      "Epoch: 10 Training, loss: 0.52827, correct/total: 524 / 692, accuracy:75.723 \n"
     ]
    },
    {
     "name": "stdout",
     "output_type": "stream",
     "text": [
      "Epoch: 10 Validation, loss: 0.56787, correct/total: 70 / 99, accuracy:70.707 \n"
     ]
    },
    {
     "name": "stdout",
     "output_type": "stream",
     "text": [
      "Epoch: 11 Training, loss: 0.52758, correct/total: 508 / 692, accuracy:73.410 \n"
     ]
    },
    {
     "name": "stdout",
     "output_type": "stream",
     "text": [
      "Epoch: 11 Validation, loss: 0.93645, correct/total: 49 / 99, accuracy:49.495 \n",
      "EarlyStopping counter: 1 out of 10\n"
     ]
    },
    {
     "name": "stdout",
     "output_type": "stream",
     "text": [
      "Epoch: 12 Training, loss: 0.54484, correct/total: 502 / 692, accuracy:72.543 \n"
     ]
    },
    {
     "name": "stdout",
     "output_type": "stream",
     "text": [
      "Epoch: 12 Validation, loss: 0.61142, correct/total: 67 / 99, accuracy:67.677 \n",
      "EarlyStopping counter: 2 out of 10\n"
     ]
    },
    {
     "name": "stdout",
     "output_type": "stream",
     "text": [
      "Epoch: 13 Training, loss: 0.52659, correct/total: 518 / 692, accuracy:74.855 \n"
     ]
    },
    {
     "name": "stdout",
     "output_type": "stream",
     "text": [
      "Epoch: 13 Validation, loss: 0.53477, correct/total: 68 / 99, accuracy:68.687 \n"
     ]
    },
    {
     "name": "stdout",
     "output_type": "stream",
     "text": [
      "Epoch: 14 Training, loss: 0.51862, correct/total: 524 / 692, accuracy:75.723 \n"
     ]
    },
    {
     "name": "stdout",
     "output_type": "stream",
     "text": [
      "Epoch: 14 Validation, loss: 0.69707, correct/total: 67 / 99, accuracy:67.677 \n",
      "EarlyStopping counter: 1 out of 10\n"
     ]
    },
    {
     "name": "stdout",
     "output_type": "stream",
     "text": [
      "Epoch: 15 Training, loss: 0.49904, correct/total: 538 / 692, accuracy:77.746 \n"
     ]
    },
    {
     "name": "stdout",
     "output_type": "stream",
     "text": [
      "Epoch: 15 Validation, loss: 0.54182, correct/total: 70 / 99, accuracy:70.707 \n",
      "EarlyStopping counter: 2 out of 10\n"
     ]
    },
    {
     "name": "stdout",
     "output_type": "stream",
     "text": [
      "Epoch: 16 Training, loss: 0.50565, correct/total: 524 / 692, accuracy:75.723 \n"
     ]
    },
    {
     "name": "stdout",
     "output_type": "stream",
     "text": [
      "Epoch: 16 Validation, loss: 0.53997, correct/total: 71 / 99, accuracy:71.717 \n",
      "EarlyStopping counter: 3 out of 10\n"
     ]
    },
    {
     "name": "stdout",
     "output_type": "stream",
     "text": [
      "Epoch: 17 Training, loss: 0.48668, correct/total: 523 / 692, accuracy:75.578 \n"
     ]
    },
    {
     "name": "stdout",
     "output_type": "stream",
     "text": [
      "Epoch: 17 Validation, loss: 0.51534, correct/total: 70 / 99, accuracy:70.707 \n"
     ]
    },
    {
     "name": "stdout",
     "output_type": "stream",
     "text": [
      "Epoch: 18 Training, loss: 0.47657, correct/total: 542 / 692, accuracy:78.324 \n"
     ]
    },
    {
     "name": "stdout",
     "output_type": "stream",
     "text": [
      "Epoch: 18 Validation, loss: 0.63171, correct/total: 59 / 99, accuracy:59.596 \n",
      "EarlyStopping counter: 1 out of 10\n"
     ]
    },
    {
     "name": "stdout",
     "output_type": "stream",
     "text": [
      "Epoch: 19 Training, loss: 0.48061, correct/total: 537 / 692, accuracy:77.601 \n"
     ]
    },
    {
     "name": "stdout",
     "output_type": "stream",
     "text": [
      "Epoch: 19 Validation, loss: 0.66487, correct/total: 58 / 99, accuracy:58.586 \n",
      "EarlyStopping counter: 2 out of 10\n"
     ]
    },
    {
     "name": "stdout",
     "output_type": "stream",
     "text": [
      "Epoch: 20 Training, loss: 0.49960, correct/total: 516 / 692, accuracy:74.566 \n"
     ]
    },
    {
     "name": "stdout",
     "output_type": "stream",
     "text": [
      "Epoch: 20 Validation, loss: 0.80857, correct/total: 70 / 99, accuracy:70.707 \n",
      "EarlyStopping counter: 3 out of 10\n"
     ]
    },
    {
     "name": "stdout",
     "output_type": "stream",
     "text": [
      "Epoch: 21 Training, loss: 0.46257, correct/total: 538 / 692, accuracy:77.746 \n"
     ]
    },
    {
     "name": "stdout",
     "output_type": "stream",
     "text": [
      "Epoch: 21 Validation, loss: 0.47899, correct/total: 71 / 99, accuracy:71.717 \n"
     ]
    },
    {
     "name": "stdout",
     "output_type": "stream",
     "text": [
      "Epoch: 22 Training, loss: 0.47108, correct/total: 526 / 692, accuracy:76.012 \n"
     ]
    },
    {
     "name": "stdout",
     "output_type": "stream",
     "text": [
      "Epoch: 22 Validation, loss: 0.72923, correct/total: 64 / 99, accuracy:64.646 \n",
      "EarlyStopping counter: 1 out of 10\n"
     ]
    },
    {
     "name": "stdout",
     "output_type": "stream",
     "text": [
      "Epoch: 23 Training, loss: 0.44302, correct/total: 550 / 692, accuracy:79.480 \n"
     ]
    },
    {
     "name": "stdout",
     "output_type": "stream",
     "text": [
      "Epoch: 23 Validation, loss: 0.71457, correct/total: 58 / 99, accuracy:58.586 \n",
      "EarlyStopping counter: 2 out of 10\n"
     ]
    },
    {
     "name": "stdout",
     "output_type": "stream",
     "text": [
      "Epoch: 24 Training, loss: 0.44694, correct/total: 553 / 692, accuracy:79.913 \n"
     ]
    },
    {
     "name": "stdout",
     "output_type": "stream",
     "text": [
      "Epoch: 24 Validation, loss: 0.50056, correct/total: 72 / 99, accuracy:72.727 \n",
      "EarlyStopping counter: 3 out of 10\n"
     ]
    },
    {
     "name": "stdout",
     "output_type": "stream",
     "text": [
      "Epoch: 25 Training, loss: 0.42931, correct/total: 555 / 692, accuracy:80.202 \n"
     ]
    },
    {
     "name": "stdout",
     "output_type": "stream",
     "text": [
      "Epoch: 25 Validation, loss: 0.70014, correct/total: 71 / 99, accuracy:71.717 \n",
      "EarlyStopping counter: 4 out of 10\n"
     ]
    },
    {
     "name": "stdout",
     "output_type": "stream",
     "text": [
      "Epoch: 26 Training, loss: 0.40474, correct/total: 564 / 692, accuracy:81.503 \n"
     ]
    },
    {
     "name": "stdout",
     "output_type": "stream",
     "text": [
      "Epoch: 26 Validation, loss: 0.82054, correct/total: 66 / 99, accuracy:66.667 \n",
      "EarlyStopping counter: 5 out of 10\n"
     ]
    },
    {
     "name": "stdout",
     "output_type": "stream",
     "text": [
      "Epoch: 27 Training, loss: 0.46251, correct/total: 544 / 692, accuracy:78.613 \n"
     ]
    },
    {
     "name": "stdout",
     "output_type": "stream",
     "text": [
      "Epoch: 27 Validation, loss: 0.76063, correct/total: 60 / 99, accuracy:60.606 \n",
      "EarlyStopping counter: 6 out of 10\n"
     ]
    },
    {
     "name": "stdout",
     "output_type": "stream",
     "text": [
      "Epoch: 28 Training, loss: 0.41282, correct/total: 567 / 692, accuracy:81.936 \n"
     ]
    },
    {
     "name": "stdout",
     "output_type": "stream",
     "text": [
      "Epoch: 28 Validation, loss: 0.80866, correct/total: 70 / 99, accuracy:70.707 \n",
      "EarlyStopping counter: 7 out of 10\n"
     ]
    },
    {
     "name": "stdout",
     "output_type": "stream",
     "text": [
      "Epoch: 29 Training, loss: 0.38659, correct/total: 574 / 692, accuracy:82.948 \n"
     ]
    },
    {
     "name": "stdout",
     "output_type": "stream",
     "text": [
      "Epoch: 29 Validation, loss: 0.57283, correct/total: 64 / 99, accuracy:64.646 \n",
      "EarlyStopping counter: 8 out of 10\n",
      "Fold No. 7\n"
     ]
    },
    {
     "name": "stdout",
     "output_type": "stream",
     "text": [
      "Epoch: 1 Training, loss: 0.68397, correct/total: 396 / 692, accuracy:57.225 \n"
     ]
    },
    {
     "name": "stdout",
     "output_type": "stream",
     "text": [
      "Epoch: 1 Validation, loss: 0.65819, correct/total: 62 / 99, accuracy:62.626 \n"
     ]
    },
    {
     "name": "stdout",
     "output_type": "stream",
     "text": [
      "Epoch: 2 Training, loss: 0.64964, correct/total: 435 / 692, accuracy:62.861 \n"
     ]
    },
    {
     "name": "stdout",
     "output_type": "stream",
     "text": [
      "Epoch: 2 Validation, loss: 0.71399, correct/total: 48 / 99, accuracy:48.485 \n",
      "EarlyStopping counter: 1 out of 10\n"
     ]
    },
    {
     "name": "stdout",
     "output_type": "stream",
     "text": [
      "Epoch: 3 Training, loss: 0.66585, correct/total: 418 / 692, accuracy:60.405 \n"
     ]
    },
    {
     "name": "stdout",
     "output_type": "stream",
     "text": [
      "Epoch: 3 Validation, loss: 0.63943, correct/total: 62 / 99, accuracy:62.626 \n"
     ]
    },
    {
     "name": "stdout",
     "output_type": "stream",
     "text": [
      "Epoch: 4 Training, loss: 0.62670, correct/total: 480 / 692, accuracy:69.364 \n"
     ]
    },
    {
     "name": "stdout",
     "output_type": "stream",
     "text": [
      "Epoch: 4 Validation, loss: 0.68832, correct/total: 67 / 99, accuracy:67.677 \n",
      "EarlyStopping counter: 1 out of 10\n"
     ]
    },
    {
     "name": "stdout",
     "output_type": "stream",
     "text": [
      "Epoch: 5 Training, loss: 0.60807, correct/total: 472 / 692, accuracy:68.208 \n"
     ]
    },
    {
     "name": "stdout",
     "output_type": "stream",
     "text": [
      "Epoch: 5 Validation, loss: 0.65269, correct/total: 66 / 99, accuracy:66.667 \n",
      "EarlyStopping counter: 2 out of 10\n"
     ]
    },
    {
     "name": "stdout",
     "output_type": "stream",
     "text": [
      "Epoch: 6 Training, loss: 0.61204, correct/total: 477 / 692, accuracy:68.931 \n"
     ]
    },
    {
     "name": "stdout",
     "output_type": "stream",
     "text": [
      "Epoch: 6 Validation, loss: 0.59648, correct/total: 65 / 99, accuracy:65.657 \n"
     ]
    },
    {
     "name": "stdout",
     "output_type": "stream",
     "text": [
      "Epoch: 7 Training, loss: 0.56573, correct/total: 488 / 692, accuracy:70.520 \n"
     ]
    },
    {
     "name": "stdout",
     "output_type": "stream",
     "text": [
      "Epoch: 7 Validation, loss: 0.53004, correct/total: 69 / 99, accuracy:69.697 \n"
     ]
    },
    {
     "name": "stdout",
     "output_type": "stream",
     "text": [
      "Epoch: 8 Training, loss: 0.55662, correct/total: 493 / 692, accuracy:71.243 \n"
     ]
    },
    {
     "name": "stdout",
     "output_type": "stream",
     "text": [
      "Epoch: 8 Validation, loss: 0.55027, correct/total: 64 / 99, accuracy:64.646 \n",
      "EarlyStopping counter: 1 out of 10\n"
     ]
    },
    {
     "name": "stdout",
     "output_type": "stream",
     "text": [
      "Epoch: 9 Training, loss: 0.58289, correct/total: 489 / 692, accuracy:70.665 \n"
     ]
    },
    {
     "name": "stdout",
     "output_type": "stream",
     "text": [
      "Epoch: 9 Validation, loss: 0.66850, correct/total: 62 / 99, accuracy:62.626 \n",
      "EarlyStopping counter: 2 out of 10\n"
     ]
    },
    {
     "name": "stdout",
     "output_type": "stream",
     "text": [
      "Epoch: 10 Training, loss: 0.55802, correct/total: 502 / 692, accuracy:72.543 \n"
     ]
    },
    {
     "name": "stdout",
     "output_type": "stream",
     "text": [
      "Epoch: 10 Validation, loss: 0.56591, correct/total: 69 / 99, accuracy:69.697 \n",
      "EarlyStopping counter: 3 out of 10\n"
     ]
    },
    {
     "name": "stdout",
     "output_type": "stream",
     "text": [
      "Epoch: 11 Training, loss: 0.59159, correct/total: 477 / 692, accuracy:68.931 \n"
     ]
    },
    {
     "name": "stdout",
     "output_type": "stream",
     "text": [
      "Epoch: 11 Validation, loss: 0.63144, correct/total: 67 / 99, accuracy:67.677 \n",
      "EarlyStopping counter: 4 out of 10\n"
     ]
    },
    {
     "name": "stdout",
     "output_type": "stream",
     "text": [
      "Epoch: 12 Training, loss: 0.56581, correct/total: 500 / 692, accuracy:72.254 \n"
     ]
    },
    {
     "name": "stdout",
     "output_type": "stream",
     "text": [
      "Epoch: 12 Validation, loss: 0.57212, correct/total: 64 / 99, accuracy:64.646 \n",
      "EarlyStopping counter: 5 out of 10\n"
     ]
    },
    {
     "name": "stdout",
     "output_type": "stream",
     "text": [
      "Epoch: 13 Training, loss: 0.57343, correct/total: 483 / 692, accuracy:69.798 \n"
     ]
    },
    {
     "name": "stdout",
     "output_type": "stream",
     "text": [
      "Epoch: 13 Validation, loss: 0.58366, correct/total: 66 / 99, accuracy:66.667 \n",
      "EarlyStopping counter: 6 out of 10\n"
     ]
    },
    {
     "name": "stdout",
     "output_type": "stream",
     "text": [
      "Epoch: 14 Training, loss: 0.55545, correct/total: 504 / 692, accuracy:72.832 \n"
     ]
    },
    {
     "name": "stdout",
     "output_type": "stream",
     "text": [
      "Epoch: 14 Validation, loss: 0.69616, correct/total: 70 / 99, accuracy:70.707 \n",
      "EarlyStopping counter: 7 out of 10\n"
     ]
    },
    {
     "name": "stdout",
     "output_type": "stream",
     "text": [
      "Epoch: 15 Training, loss: 0.55187, correct/total: 503 / 692, accuracy:72.688 \n"
     ]
    },
    {
     "name": "stdout",
     "output_type": "stream",
     "text": [
      "Epoch: 15 Validation, loss: 0.51554, correct/total: 64 / 99, accuracy:64.646 \n"
     ]
    },
    {
     "name": "stdout",
     "output_type": "stream",
     "text": [
      "Epoch: 16 Training, loss: 0.55400, correct/total: 503 / 692, accuracy:72.688 \n"
     ]
    },
    {
     "name": "stdout",
     "output_type": "stream",
     "text": [
      "Epoch: 16 Validation, loss: 0.74503, correct/total: 53 / 99, accuracy:53.535 \n",
      "EarlyStopping counter: 1 out of 10\n"
     ]
    },
    {
     "name": "stdout",
     "output_type": "stream",
     "text": [
      "Epoch: 17 Training, loss: 0.58727, correct/total: 482 / 692, accuracy:69.653 \n"
     ]
    },
    {
     "name": "stdout",
     "output_type": "stream",
     "text": [
      "Epoch: 17 Validation, loss: 0.68869, correct/total: 48 / 99, accuracy:48.485 \n",
      "EarlyStopping counter: 2 out of 10\n"
     ]
    },
    {
     "name": "stdout",
     "output_type": "stream",
     "text": [
      "Epoch: 18 Training, loss: 0.61378, correct/total: 459 / 692, accuracy:66.329 \n"
     ]
    },
    {
     "name": "stdout",
     "output_type": "stream",
     "text": [
      "Epoch: 18 Validation, loss: 0.66284, correct/total: 65 / 99, accuracy:65.657 \n",
      "EarlyStopping counter: 3 out of 10\n"
     ]
    },
    {
     "name": "stdout",
     "output_type": "stream",
     "text": [
      "Epoch: 19 Training, loss: 0.54628, correct/total: 513 / 692, accuracy:74.133 \n"
     ]
    },
    {
     "name": "stdout",
     "output_type": "stream",
     "text": [
      "Epoch: 19 Validation, loss: 0.62555, correct/total: 67 / 99, accuracy:67.677 \n",
      "EarlyStopping counter: 4 out of 10\n"
     ]
    },
    {
     "name": "stdout",
     "output_type": "stream",
     "text": [
      "Epoch: 20 Training, loss: 0.52279, correct/total: 515 / 692, accuracy:74.422 \n"
     ]
    },
    {
     "name": "stdout",
     "output_type": "stream",
     "text": [
      "Epoch: 20 Validation, loss: 0.52062, correct/total: 69 / 99, accuracy:69.697 \n",
      "EarlyStopping counter: 5 out of 10\n"
     ]
    },
    {
     "name": "stdout",
     "output_type": "stream",
     "text": [
      "Epoch: 21 Training, loss: 0.51127, correct/total: 526 / 692, accuracy:76.012 \n"
     ]
    },
    {
     "name": "stdout",
     "output_type": "stream",
     "text": [
      "Epoch: 21 Validation, loss: 0.76124, correct/total: 70 / 99, accuracy:70.707 \n",
      "EarlyStopping counter: 6 out of 10\n"
     ]
    },
    {
     "name": "stdout",
     "output_type": "stream",
     "text": [
      "Epoch: 22 Training, loss: 0.51138, correct/total: 528 / 692, accuracy:76.301 \n"
     ]
    },
    {
     "name": "stdout",
     "output_type": "stream",
     "text": [
      "Epoch: 22 Validation, loss: 0.71945, correct/total: 73 / 99, accuracy:73.737 \n",
      "EarlyStopping counter: 7 out of 10\n"
     ]
    },
    {
     "name": "stdout",
     "output_type": "stream",
     "text": [
      "Epoch: 23 Training, loss: 0.49692, correct/total: 529 / 692, accuracy:76.445 \n"
     ]
    },
    {
     "name": "stdout",
     "output_type": "stream",
     "text": [
      "Epoch: 23 Validation, loss: 0.76706, correct/total: 61 / 99, accuracy:61.616 \n",
      "EarlyStopping counter: 8 out of 10\n"
     ]
    },
    {
     "name": "stdout",
     "output_type": "stream",
     "text": [
      "Epoch: 24 Training, loss: 0.50959, correct/total: 521 / 692, accuracy:75.289 \n"
     ]
    },
    {
     "name": "stdout",
     "output_type": "stream",
     "text": [
      "Epoch: 24 Validation, loss: 0.69533, correct/total: 67 / 99, accuracy:67.677 \n",
      "EarlyStopping counter: 9 out of 10\n"
     ]
    },
    {
     "name": "stdout",
     "output_type": "stream",
     "text": [
      "Epoch: 25 Training, loss: 0.48751, correct/total: 529 / 692, accuracy:76.445 \n"
     ]
    },
    {
     "name": "stdout",
     "output_type": "stream",
     "text": [
      "Epoch: 25 Validation, loss: 0.55951, correct/total: 69 / 99, accuracy:69.697 \n",
      "EarlyStopping counter: 10 out of 10\n",
      "Early stopping\n",
      "Fold No. 8\n"
     ]
    },
    {
     "name": "stdout",
     "output_type": "stream",
     "text": [
      "Epoch: 1 Training, loss: 0.69200, correct/total: 382 / 693, accuracy:55.123 \n"
     ]
    },
    {
     "name": "stdout",
     "output_type": "stream",
     "text": [
      "Epoch: 1 Validation, loss: 0.66343, correct/total: 57 / 98, accuracy:58.163 \n"
     ]
    },
    {
     "name": "stdout",
     "output_type": "stream",
     "text": [
      "Epoch: 2 Training, loss: 0.67700, correct/total: 407 / 693, accuracy:58.730 \n"
     ]
    },
    {
     "name": "stdout",
     "output_type": "stream",
     "text": [
      "Epoch: 2 Validation, loss: 0.67406, correct/total: 57 / 98, accuracy:58.163 \n",
      "EarlyStopping counter: 1 out of 10\n"
     ]
    },
    {
     "name": "stdout",
     "output_type": "stream",
     "text": [
      "Epoch: 3 Training, loss: 0.65134, correct/total: 421 / 693, accuracy:60.750 \n"
     ]
    },
    {
     "name": "stdout",
     "output_type": "stream",
     "text": [
      "Epoch: 3 Validation, loss: 0.57069, correct/total: 58 / 98, accuracy:59.184 \n"
     ]
    },
    {
     "name": "stdout",
     "output_type": "stream",
     "text": [
      "Epoch: 4 Training, loss: 0.61980, correct/total: 456 / 693, accuracy:65.801 \n"
     ]
    },
    {
     "name": "stdout",
     "output_type": "stream",
     "text": [
      "Epoch: 4 Validation, loss: 0.62144, correct/total: 63 / 98, accuracy:64.286 \n",
      "EarlyStopping counter: 1 out of 10\n"
     ]
    },
    {
     "name": "stdout",
     "output_type": "stream",
     "text": [
      "Epoch: 5 Training, loss: 0.60355, correct/total: 479 / 693, accuracy:69.120 \n"
     ]
    },
    {
     "name": "stdout",
     "output_type": "stream",
     "text": [
      "Epoch: 5 Validation, loss: 0.64534, correct/total: 73 / 98, accuracy:74.490 \n",
      "EarlyStopping counter: 2 out of 10\n"
     ]
    },
    {
     "name": "stdout",
     "output_type": "stream",
     "text": [
      "Epoch: 6 Training, loss: 0.61668, correct/total: 455 / 693, accuracy:65.657 \n"
     ]
    },
    {
     "name": "stdout",
     "output_type": "stream",
     "text": [
      "Epoch: 6 Validation, loss: 0.66193, correct/total: 65 / 98, accuracy:66.327 \n",
      "EarlyStopping counter: 3 out of 10\n"
     ]
    },
    {
     "name": "stdout",
     "output_type": "stream",
     "text": [
      "Epoch: 7 Training, loss: 0.60440, correct/total: 463 / 693, accuracy:66.811 \n"
     ]
    },
    {
     "name": "stdout",
     "output_type": "stream",
     "text": [
      "Epoch: 7 Validation, loss: 0.51869, correct/total: 70 / 98, accuracy:71.429 \n"
     ]
    },
    {
     "name": "stdout",
     "output_type": "stream",
     "text": [
      "Epoch: 8 Training, loss: 0.56916, correct/total: 490 / 693, accuracy:70.707 \n"
     ]
    },
    {
     "name": "stdout",
     "output_type": "stream",
     "text": [
      "Epoch: 8 Validation, loss: 0.63285, correct/total: 75 / 98, accuracy:76.531 \n",
      "EarlyStopping counter: 1 out of 10\n"
     ]
    },
    {
     "name": "stdout",
     "output_type": "stream",
     "text": [
      "Epoch: 9 Training, loss: 0.56430, correct/total: 496 / 693, accuracy:71.573 \n"
     ]
    },
    {
     "name": "stdout",
     "output_type": "stream",
     "text": [
      "Epoch: 9 Validation, loss: 0.47848, correct/total: 73 / 98, accuracy:74.490 \n"
     ]
    },
    {
     "name": "stdout",
     "output_type": "stream",
     "text": [
      "Epoch: 10 Training, loss: 0.55545, correct/total: 512 / 693, accuracy:73.882 \n"
     ]
    },
    {
     "name": "stdout",
     "output_type": "stream",
     "text": [
      "Epoch: 10 Validation, loss: 0.61060, correct/total: 68 / 98, accuracy:69.388 \n",
      "EarlyStopping counter: 1 out of 10\n"
     ]
    },
    {
     "name": "stdout",
     "output_type": "stream",
     "text": [
      "Epoch: 11 Training, loss: 0.54404, correct/total: 516 / 693, accuracy:74.459 \n"
     ]
    },
    {
     "name": "stdout",
     "output_type": "stream",
     "text": [
      "Epoch: 11 Validation, loss: 0.51726, correct/total: 73 / 98, accuracy:74.490 \n",
      "EarlyStopping counter: 2 out of 10\n"
     ]
    },
    {
     "name": "stdout",
     "output_type": "stream",
     "text": [
      "Epoch: 12 Training, loss: 0.52450, correct/total: 521 / 693, accuracy:75.180 \n"
     ]
    },
    {
     "name": "stdout",
     "output_type": "stream",
     "text": [
      "Epoch: 12 Validation, loss: 0.57267, correct/total: 63 / 98, accuracy:64.286 \n",
      "EarlyStopping counter: 3 out of 10\n"
     ]
    },
    {
     "name": "stdout",
     "output_type": "stream",
     "text": [
      "Epoch: 13 Training, loss: 0.53244, correct/total: 525 / 693, accuracy:75.758 \n"
     ]
    },
    {
     "name": "stdout",
     "output_type": "stream",
     "text": [
      "Epoch: 13 Validation, loss: 0.60535, correct/total: 71 / 98, accuracy:72.449 \n",
      "EarlyStopping counter: 4 out of 10\n"
     ]
    },
    {
     "name": "stdout",
     "output_type": "stream",
     "text": [
      "Epoch: 14 Training, loss: 0.50225, correct/total: 522 / 693, accuracy:75.325 \n"
     ]
    },
    {
     "name": "stdout",
     "output_type": "stream",
     "text": [
      "Epoch: 14 Validation, loss: 0.65117, correct/total: 71 / 98, accuracy:72.449 \n",
      "EarlyStopping counter: 5 out of 10\n"
     ]
    },
    {
     "name": "stdout",
     "output_type": "stream",
     "text": [
      "Epoch: 15 Training, loss: 0.50040, correct/total: 531 / 693, accuracy:76.623 \n"
     ]
    },
    {
     "name": "stdout",
     "output_type": "stream",
     "text": [
      "Epoch: 15 Validation, loss: 0.59967, correct/total: 71 / 98, accuracy:72.449 \n",
      "EarlyStopping counter: 6 out of 10\n"
     ]
    },
    {
     "name": "stdout",
     "output_type": "stream",
     "text": [
      "Epoch: 16 Training, loss: 0.49503, correct/total: 543 / 693, accuracy:78.355 \n"
     ]
    },
    {
     "name": "stdout",
     "output_type": "stream",
     "text": [
      "Epoch: 16 Validation, loss: 0.49998, correct/total: 71 / 98, accuracy:72.449 \n",
      "EarlyStopping counter: 7 out of 10\n"
     ]
    },
    {
     "name": "stdout",
     "output_type": "stream",
     "text": [
      "Epoch: 17 Training, loss: 0.49551, correct/total: 527 / 693, accuracy:76.046 \n"
     ]
    },
    {
     "name": "stdout",
     "output_type": "stream",
     "text": [
      "Epoch: 17 Validation, loss: 0.62231, correct/total: 68 / 98, accuracy:69.388 \n",
      "EarlyStopping counter: 8 out of 10\n"
     ]
    },
    {
     "name": "stdout",
     "output_type": "stream",
     "text": [
      "Epoch: 18 Training, loss: 0.44854, correct/total: 564 / 693, accuracy:81.385 \n"
     ]
    },
    {
     "name": "stdout",
     "output_type": "stream",
     "text": [
      "Epoch: 18 Validation, loss: 0.49287, correct/total: 74 / 98, accuracy:75.510 \n",
      "EarlyStopping counter: 9 out of 10\n"
     ]
    },
    {
     "name": "stdout",
     "output_type": "stream",
     "text": [
      "Epoch: 19 Training, loss: 0.46594, correct/total: 544 / 693, accuracy:78.499 \n"
     ]
    },
    {
     "name": "stderr",
     "output_type": "stream",
     "text": [
      "\u001b[32m[I 2022-05-28 03:26:57,641]\u001b[0m Trial 1 finished with value: 0.4839697969146073 and parameters: {'num_layer': 2, 'hidden_size': 98, 'learning_rate': 0.008632510594820961}. Best is trial 1 with value: 0.4839697969146073.\u001b[0m\n"
     ]
    },
    {
     "name": "stdout",
     "output_type": "stream",
     "text": [
      "Epoch: 19 Validation, loss: 0.48166, correct/total: 70 / 98, accuracy:71.429 \n",
      "EarlyStopping counter: 10 out of 10\n",
      "Early stopping\n"
     ]
    },
    {
     "name": "stdout",
     "output_type": "stream",
     "text": [
      "Fold No. 1\n"
     ]
    },
    {
     "name": "stdout",
     "output_type": "stream",
     "text": [
      "Epoch: 1 Training, loss: 0.66983, correct/total: 407 / 692, accuracy:58.815 \n"
     ]
    },
    {
     "name": "stdout",
     "output_type": "stream",
     "text": [
      "Epoch: 1 Validation, loss: 0.58536, correct/total: 59 / 99, accuracy:59.596 \n"
     ]
    },
    {
     "name": "stdout",
     "output_type": "stream",
     "text": [
      "Epoch: 2 Training, loss: 0.61660, correct/total: 475 / 692, accuracy:68.642 \n"
     ]
    },
    {
     "name": "stdout",
     "output_type": "stream",
     "text": [
      "Epoch: 2 Validation, loss: 0.55736, correct/total: 71 / 99, accuracy:71.717 \n"
     ]
    },
    {
     "name": "stdout",
     "output_type": "stream",
     "text": [
      "Epoch: 3 Training, loss: 0.60591, correct/total: 472 / 692, accuracy:68.208 \n"
     ]
    },
    {
     "name": "stdout",
     "output_type": "stream",
     "text": [
      "Epoch: 3 Validation, loss: 0.55624, correct/total: 68 / 99, accuracy:68.687 \n"
     ]
    },
    {
     "name": "stdout",
     "output_type": "stream",
     "text": [
      "Epoch: 4 Training, loss: 0.58594, correct/total: 487 / 692, accuracy:70.376 \n"
     ]
    },
    {
     "name": "stdout",
     "output_type": "stream",
     "text": [
      "Epoch: 4 Validation, loss: 0.52848, correct/total: 67 / 99, accuracy:67.677 \n"
     ]
    },
    {
     "name": "stdout",
     "output_type": "stream",
     "text": [
      "Epoch: 5 Training, loss: 0.57124, correct/total: 498 / 692, accuracy:71.965 \n"
     ]
    },
    {
     "name": "stdout",
     "output_type": "stream",
     "text": [
      "Epoch: 5 Validation, loss: 0.54824, correct/total: 67 / 99, accuracy:67.677 \n",
      "EarlyStopping counter: 1 out of 10\n"
     ]
    },
    {
     "name": "stdout",
     "output_type": "stream",
     "text": [
      "Epoch: 6 Training, loss: 0.55137, correct/total: 496 / 692, accuracy:71.676 \n"
     ]
    },
    {
     "name": "stdout",
     "output_type": "stream",
     "text": [
      "Epoch: 6 Validation, loss: 0.69078, correct/total: 69 / 99, accuracy:69.697 \n",
      "EarlyStopping counter: 2 out of 10\n"
     ]
    },
    {
     "name": "stdout",
     "output_type": "stream",
     "text": [
      "Epoch: 7 Training, loss: 0.55697, correct/total: 502 / 692, accuracy:72.543 \n"
     ]
    },
    {
     "name": "stdout",
     "output_type": "stream",
     "text": [
      "Epoch: 7 Validation, loss: 0.55543, correct/total: 69 / 99, accuracy:69.697 \n",
      "EarlyStopping counter: 3 out of 10\n"
     ]
    },
    {
     "name": "stdout",
     "output_type": "stream",
     "text": [
      "Epoch: 8 Training, loss: 0.53886, correct/total: 511 / 692, accuracy:73.844 \n"
     ]
    },
    {
     "name": "stdout",
     "output_type": "stream",
     "text": [
      "Epoch: 8 Validation, loss: 0.53769, correct/total: 64 / 99, accuracy:64.646 \n",
      "EarlyStopping counter: 4 out of 10\n"
     ]
    },
    {
     "name": "stdout",
     "output_type": "stream",
     "text": [
      "Epoch: 9 Training, loss: 0.53540, correct/total: 508 / 692, accuracy:73.410 \n"
     ]
    },
    {
     "name": "stdout",
     "output_type": "stream",
     "text": [
      "Epoch: 9 Validation, loss: 0.55737, correct/total: 70 / 99, accuracy:70.707 \n",
      "EarlyStopping counter: 5 out of 10\n"
     ]
    },
    {
     "name": "stdout",
     "output_type": "stream",
     "text": [
      "Epoch: 10 Training, loss: 0.49682, correct/total: 525 / 692, accuracy:75.867 \n"
     ]
    },
    {
     "name": "stdout",
     "output_type": "stream",
     "text": [
      "Epoch: 10 Validation, loss: 0.61041, correct/total: 68 / 99, accuracy:68.687 \n",
      "EarlyStopping counter: 6 out of 10\n"
     ]
    },
    {
     "name": "stdout",
     "output_type": "stream",
     "text": [
      "Epoch: 11 Training, loss: 0.51185, correct/total: 518 / 692, accuracy:74.855 \n"
     ]
    },
    {
     "name": "stdout",
     "output_type": "stream",
     "text": [
      "Epoch: 11 Validation, loss: 0.61162, correct/total: 64 / 99, accuracy:64.646 \n",
      "EarlyStopping counter: 7 out of 10\n"
     ]
    },
    {
     "name": "stdout",
     "output_type": "stream",
     "text": [
      "Epoch: 12 Training, loss: 0.49340, correct/total: 529 / 692, accuracy:76.445 \n"
     ]
    },
    {
     "name": "stdout",
     "output_type": "stream",
     "text": [
      "Epoch: 12 Validation, loss: 0.64626, correct/total: 67 / 99, accuracy:67.677 \n",
      "EarlyStopping counter: 8 out of 10\n"
     ]
    },
    {
     "name": "stdout",
     "output_type": "stream",
     "text": [
      "Epoch: 13 Training, loss: 0.46907, correct/total: 524 / 692, accuracy:75.723 \n"
     ]
    },
    {
     "name": "stdout",
     "output_type": "stream",
     "text": [
      "Epoch: 13 Validation, loss: 0.72167, correct/total: 67 / 99, accuracy:67.677 \n",
      "EarlyStopping counter: 9 out of 10\n"
     ]
    },
    {
     "name": "stdout",
     "output_type": "stream",
     "text": [
      "Epoch: 14 Training, loss: 0.46481, correct/total: 539 / 692, accuracy:77.890 \n"
     ]
    },
    {
     "name": "stdout",
     "output_type": "stream",
     "text": [
      "Epoch: 14 Validation, loss: 0.81541, correct/total: 70 / 99, accuracy:70.707 \n",
      "EarlyStopping counter: 10 out of 10\n",
      "Early stopping\n",
      "Fold No. 2\n"
     ]
    },
    {
     "name": "stdout",
     "output_type": "stream",
     "text": [
      "Epoch: 1 Training, loss: 0.68390, correct/total: 395 / 692, accuracy:57.081 \n"
     ]
    },
    {
     "name": "stdout",
     "output_type": "stream",
     "text": [
      "Epoch: 1 Validation, loss: 0.65272, correct/total: 69 / 99, accuracy:69.697 \n"
     ]
    },
    {
     "name": "stdout",
     "output_type": "stream",
     "text": [
      "Epoch: 2 Training, loss: 0.66609, correct/total: 440 / 692, accuracy:63.584 \n"
     ]
    },
    {
     "name": "stdout",
     "output_type": "stream",
     "text": [
      "Epoch: 2 Validation, loss: 0.59514, correct/total: 67 / 99, accuracy:67.677 \n"
     ]
    },
    {
     "name": "stdout",
     "output_type": "stream",
     "text": [
      "Epoch: 3 Training, loss: 0.63075, correct/total: 449 / 692, accuracy:64.884 \n"
     ]
    },
    {
     "name": "stdout",
     "output_type": "stream",
     "text": [
      "Epoch: 3 Validation, loss: 0.67927, correct/total: 65 / 99, accuracy:65.657 \n",
      "EarlyStopping counter: 1 out of 10\n"
     ]
    },
    {
     "name": "stdout",
     "output_type": "stream",
     "text": [
      "Epoch: 4 Training, loss: 0.66652, correct/total: 449 / 692, accuracy:64.884 \n"
     ]
    },
    {
     "name": "stdout",
     "output_type": "stream",
     "text": [
      "Epoch: 4 Validation, loss: 0.61503, correct/total: 75 / 99, accuracy:75.758 \n",
      "EarlyStopping counter: 2 out of 10\n"
     ]
    },
    {
     "name": "stdout",
     "output_type": "stream",
     "text": [
      "Epoch: 5 Training, loss: 0.62630, correct/total: 466 / 692, accuracy:67.341 \n"
     ]
    },
    {
     "name": "stdout",
     "output_type": "stream",
     "text": [
      "Epoch: 5 Validation, loss: 0.67927, correct/total: 50 / 99, accuracy:50.505 \n",
      "EarlyStopping counter: 3 out of 10\n"
     ]
    },
    {
     "name": "stdout",
     "output_type": "stream",
     "text": [
      "Epoch: 6 Training, loss: 0.60240, correct/total: 468 / 692, accuracy:67.630 \n"
     ]
    },
    {
     "name": "stdout",
     "output_type": "stream",
     "text": [
      "Epoch: 6 Validation, loss: 0.56980, correct/total: 64 / 99, accuracy:64.646 \n"
     ]
    },
    {
     "name": "stdout",
     "output_type": "stream",
     "text": [
      "Epoch: 7 Training, loss: 0.57462, correct/total: 497 / 692, accuracy:71.821 \n"
     ]
    },
    {
     "name": "stdout",
     "output_type": "stream",
     "text": [
      "Epoch: 7 Validation, loss: 0.45602, correct/total: 76 / 99, accuracy:76.768 \n"
     ]
    },
    {
     "name": "stdout",
     "output_type": "stream",
     "text": [
      "Epoch: 8 Training, loss: 0.59029, correct/total: 470 / 692, accuracy:67.919 \n"
     ]
    },
    {
     "name": "stdout",
     "output_type": "stream",
     "text": [
      "Epoch: 8 Validation, loss: 0.53336, correct/total: 73 / 99, accuracy:73.737 \n",
      "EarlyStopping counter: 1 out of 10\n"
     ]
    },
    {
     "name": "stdout",
     "output_type": "stream",
     "text": [
      "Epoch: 9 Training, loss: 0.55586, correct/total: 497 / 692, accuracy:71.821 \n"
     ]
    },
    {
     "name": "stdout",
     "output_type": "stream",
     "text": [
      "Epoch: 9 Validation, loss: 0.46884, correct/total: 74 / 99, accuracy:74.747 \n",
      "EarlyStopping counter: 2 out of 10\n"
     ]
    },
    {
     "name": "stdout",
     "output_type": "stream",
     "text": [
      "Epoch: 10 Training, loss: 0.56205, correct/total: 503 / 692, accuracy:72.688 \n"
     ]
    },
    {
     "name": "stdout",
     "output_type": "stream",
     "text": [
      "Epoch: 10 Validation, loss: 0.60331, correct/total: 64 / 99, accuracy:64.646 \n",
      "EarlyStopping counter: 3 out of 10\n"
     ]
    },
    {
     "name": "stdout",
     "output_type": "stream",
     "text": [
      "Epoch: 11 Training, loss: 0.55238, correct/total: 501 / 692, accuracy:72.399 \n"
     ]
    },
    {
     "name": "stdout",
     "output_type": "stream",
     "text": [
      "Epoch: 11 Validation, loss: 0.59058, correct/total: 67 / 99, accuracy:67.677 \n",
      "EarlyStopping counter: 4 out of 10\n"
     ]
    },
    {
     "name": "stdout",
     "output_type": "stream",
     "text": [
      "Epoch: 12 Training, loss: 0.55043, correct/total: 505 / 692, accuracy:72.977 \n"
     ]
    },
    {
     "name": "stdout",
     "output_type": "stream",
     "text": [
      "Epoch: 12 Validation, loss: 0.49480, correct/total: 70 / 99, accuracy:70.707 \n",
      "EarlyStopping counter: 5 out of 10\n"
     ]
    },
    {
     "name": "stdout",
     "output_type": "stream",
     "text": [
      "Epoch: 13 Training, loss: 0.53876, correct/total: 517 / 692, accuracy:74.711 \n"
     ]
    },
    {
     "name": "stdout",
     "output_type": "stream",
     "text": [
      "Epoch: 13 Validation, loss: 0.49593, correct/total: 70 / 99, accuracy:70.707 \n",
      "EarlyStopping counter: 6 out of 10\n"
     ]
    },
    {
     "name": "stdout",
     "output_type": "stream",
     "text": [
      "Epoch: 14 Training, loss: 0.53754, correct/total: 500 / 692, accuracy:72.254 \n"
     ]
    },
    {
     "name": "stdout",
     "output_type": "stream",
     "text": [
      "Epoch: 14 Validation, loss: 0.61268, correct/total: 72 / 99, accuracy:72.727 \n",
      "EarlyStopping counter: 7 out of 10\n"
     ]
    },
    {
     "name": "stdout",
     "output_type": "stream",
     "text": [
      "Epoch: 15 Training, loss: 0.51156, correct/total: 515 / 692, accuracy:74.422 \n"
     ]
    },
    {
     "name": "stdout",
     "output_type": "stream",
     "text": [
      "Epoch: 15 Validation, loss: 0.44292, correct/total: 72 / 99, accuracy:72.727 \n"
     ]
    },
    {
     "name": "stdout",
     "output_type": "stream",
     "text": [
      "Epoch: 16 Training, loss: 0.50212, correct/total: 523 / 692, accuracy:75.578 \n"
     ]
    },
    {
     "name": "stdout",
     "output_type": "stream",
     "text": [
      "Epoch: 16 Validation, loss: 0.40435, correct/total: 76 / 99, accuracy:76.768 \n"
     ]
    },
    {
     "name": "stdout",
     "output_type": "stream",
     "text": [
      "Epoch: 17 Training, loss: 0.49906, correct/total: 532 / 692, accuracy:76.879 \n"
     ]
    },
    {
     "name": "stdout",
     "output_type": "stream",
     "text": [
      "Epoch: 17 Validation, loss: 0.49370, correct/total: 72 / 99, accuracy:72.727 \n",
      "EarlyStopping counter: 1 out of 10\n"
     ]
    },
    {
     "name": "stdout",
     "output_type": "stream",
     "text": [
      "Epoch: 18 Training, loss: 0.49682, correct/total: 520 / 692, accuracy:75.145 \n"
     ]
    },
    {
     "name": "stdout",
     "output_type": "stream",
     "text": [
      "Epoch: 18 Validation, loss: 0.47316, correct/total: 67 / 99, accuracy:67.677 \n",
      "EarlyStopping counter: 2 out of 10\n"
     ]
    },
    {
     "name": "stdout",
     "output_type": "stream",
     "text": [
      "Epoch: 19 Training, loss: 0.46934, correct/total: 540 / 692, accuracy:78.035 \n"
     ]
    },
    {
     "name": "stdout",
     "output_type": "stream",
     "text": [
      "Epoch: 19 Validation, loss: 0.44029, correct/total: 73 / 99, accuracy:73.737 \n",
      "EarlyStopping counter: 3 out of 10\n"
     ]
    },
    {
     "name": "stdout",
     "output_type": "stream",
     "text": [
      "Epoch: 20 Training, loss: 0.45143, correct/total: 553 / 692, accuracy:79.913 \n"
     ]
    },
    {
     "name": "stdout",
     "output_type": "stream",
     "text": [
      "Epoch: 20 Validation, loss: 0.68818, correct/total: 76 / 99, accuracy:76.768 \n",
      "EarlyStopping counter: 4 out of 10\n"
     ]
    },
    {
     "name": "stdout",
     "output_type": "stream",
     "text": [
      "Epoch: 21 Training, loss: 0.46950, correct/total: 531 / 692, accuracy:76.734 \n"
     ]
    },
    {
     "name": "stdout",
     "output_type": "stream",
     "text": [
      "Epoch: 21 Validation, loss: 0.54595, correct/total: 68 / 99, accuracy:68.687 \n",
      "EarlyStopping counter: 5 out of 10\n"
     ]
    },
    {
     "name": "stdout",
     "output_type": "stream",
     "text": [
      "Epoch: 22 Training, loss: 0.46167, correct/total: 536 / 692, accuracy:77.457 \n"
     ]
    },
    {
     "name": "stdout",
     "output_type": "stream",
     "text": [
      "Epoch: 22 Validation, loss: 0.49317, correct/total: 72 / 99, accuracy:72.727 \n",
      "EarlyStopping counter: 6 out of 10\n"
     ]
    },
    {
     "name": "stdout",
     "output_type": "stream",
     "text": [
      "Epoch: 23 Training, loss: 0.46206, correct/total: 546 / 692, accuracy:78.902 \n"
     ]
    },
    {
     "name": "stdout",
     "output_type": "stream",
     "text": [
      "Epoch: 23 Validation, loss: 0.58191, correct/total: 72 / 99, accuracy:72.727 \n",
      "EarlyStopping counter: 7 out of 10\n"
     ]
    },
    {
     "name": "stdout",
     "output_type": "stream",
     "text": [
      "Epoch: 24 Training, loss: 0.43658, correct/total: 551 / 692, accuracy:79.624 \n"
     ]
    },
    {
     "name": "stdout",
     "output_type": "stream",
     "text": [
      "Epoch: 24 Validation, loss: 0.52434, correct/total: 69 / 99, accuracy:69.697 \n",
      "EarlyStopping counter: 8 out of 10\n"
     ]
    },
    {
     "name": "stdout",
     "output_type": "stream",
     "text": [
      "Epoch: 25 Training, loss: 0.45445, correct/total: 540 / 692, accuracy:78.035 \n"
     ]
    },
    {
     "name": "stdout",
     "output_type": "stream",
     "text": [
      "Epoch: 25 Validation, loss: 0.53867, correct/total: 67 / 99, accuracy:67.677 \n",
      "EarlyStopping counter: 9 out of 10\n"
     ]
    },
    {
     "name": "stdout",
     "output_type": "stream",
     "text": [
      "Epoch: 26 Training, loss: 0.45678, correct/total: 534 / 692, accuracy:77.168 \n"
     ]
    },
    {
     "name": "stdout",
     "output_type": "stream",
     "text": [
      "Epoch: 26 Validation, loss: 0.60771, correct/total: 67 / 99, accuracy:67.677 \n",
      "EarlyStopping counter: 10 out of 10\n",
      "Early stopping\n",
      "Fold No. 3\n"
     ]
    },
    {
     "name": "stdout",
     "output_type": "stream",
     "text": [
      "Epoch: 1 Training, loss: 0.67221, correct/total: 415 / 692, accuracy:59.971 \n"
     ]
    },
    {
     "name": "stdout",
     "output_type": "stream",
     "text": [
      "Epoch: 1 Validation, loss: 0.64510, correct/total: 52 / 99, accuracy:52.525 \n"
     ]
    },
    {
     "name": "stdout",
     "output_type": "stream",
     "text": [
      "Epoch: 2 Training, loss: 0.65936, correct/total: 441 / 692, accuracy:63.728 \n"
     ]
    },
    {
     "name": "stdout",
     "output_type": "stream",
     "text": [
      "Epoch: 2 Validation, loss: 0.66904, correct/total: 51 / 99, accuracy:51.515 \n",
      "EarlyStopping counter: 1 out of 10\n"
     ]
    },
    {
     "name": "stdout",
     "output_type": "stream",
     "text": [
      "Epoch: 3 Training, loss: 0.64016, correct/total: 433 / 692, accuracy:62.572 \n"
     ]
    },
    {
     "name": "stdout",
     "output_type": "stream",
     "text": [
      "Epoch: 3 Validation, loss: 0.65951, correct/total: 66 / 99, accuracy:66.667 \n",
      "EarlyStopping counter: 2 out of 10\n"
     ]
    },
    {
     "name": "stdout",
     "output_type": "stream",
     "text": [
      "Epoch: 4 Training, loss: 0.60036, correct/total: 467 / 692, accuracy:67.486 \n"
     ]
    },
    {
     "name": "stdout",
     "output_type": "stream",
     "text": [
      "Epoch: 4 Validation, loss: 0.65355, correct/total: 72 / 99, accuracy:72.727 \n",
      "EarlyStopping counter: 3 out of 10\n"
     ]
    },
    {
     "name": "stdout",
     "output_type": "stream",
     "text": [
      "Epoch: 5 Training, loss: 0.57987, correct/total: 474 / 692, accuracy:68.497 \n"
     ]
    },
    {
     "name": "stdout",
     "output_type": "stream",
     "text": [
      "Epoch: 5 Validation, loss: 0.86272, correct/total: 60 / 99, accuracy:60.606 \n",
      "EarlyStopping counter: 4 out of 10\n"
     ]
    },
    {
     "name": "stdout",
     "output_type": "stream",
     "text": [
      "Epoch: 6 Training, loss: 0.56742, correct/total: 502 / 692, accuracy:72.543 \n"
     ]
    },
    {
     "name": "stdout",
     "output_type": "stream",
     "text": [
      "Epoch: 6 Validation, loss: 0.56099, correct/total: 69 / 99, accuracy:69.697 \n"
     ]
    },
    {
     "name": "stdout",
     "output_type": "stream",
     "text": [
      "Epoch: 7 Training, loss: 0.56001, correct/total: 504 / 692, accuracy:72.832 \n"
     ]
    },
    {
     "name": "stdout",
     "output_type": "stream",
     "text": [
      "Epoch: 7 Validation, loss: 0.61937, correct/total: 64 / 99, accuracy:64.646 \n",
      "EarlyStopping counter: 1 out of 10\n"
     ]
    },
    {
     "name": "stdout",
     "output_type": "stream",
     "text": [
      "Epoch: 8 Training, loss: 0.56307, correct/total: 487 / 692, accuracy:70.376 \n"
     ]
    },
    {
     "name": "stdout",
     "output_type": "stream",
     "text": [
      "Epoch: 8 Validation, loss: 0.63529, correct/total: 64 / 99, accuracy:64.646 \n",
      "EarlyStopping counter: 2 out of 10\n"
     ]
    },
    {
     "name": "stdout",
     "output_type": "stream",
     "text": [
      "Epoch: 9 Training, loss: 0.53715, correct/total: 498 / 692, accuracy:71.965 \n"
     ]
    },
    {
     "name": "stdout",
     "output_type": "stream",
     "text": [
      "Epoch: 9 Validation, loss: 0.54769, correct/total: 69 / 99, accuracy:69.697 \n"
     ]
    },
    {
     "name": "stdout",
     "output_type": "stream",
     "text": [
      "Epoch: 10 Training, loss: 0.55071, correct/total: 505 / 692, accuracy:72.977 \n"
     ]
    },
    {
     "name": "stdout",
     "output_type": "stream",
     "text": [
      "Epoch: 10 Validation, loss: 0.76951, correct/total: 71 / 99, accuracy:71.717 \n",
      "EarlyStopping counter: 1 out of 10\n"
     ]
    },
    {
     "name": "stdout",
     "output_type": "stream",
     "text": [
      "Epoch: 11 Training, loss: 0.54407, correct/total: 505 / 692, accuracy:72.977 \n"
     ]
    },
    {
     "name": "stdout",
     "output_type": "stream",
     "text": [
      "Epoch: 11 Validation, loss: 0.77733, correct/total: 74 / 99, accuracy:74.747 \n",
      "EarlyStopping counter: 2 out of 10\n"
     ]
    },
    {
     "name": "stdout",
     "output_type": "stream",
     "text": [
      "Epoch: 12 Training, loss: 0.51859, correct/total: 513 / 692, accuracy:74.133 \n"
     ]
    },
    {
     "name": "stdout",
     "output_type": "stream",
     "text": [
      "Epoch: 12 Validation, loss: 0.56406, correct/total: 70 / 99, accuracy:70.707 \n",
      "EarlyStopping counter: 3 out of 10\n"
     ]
    },
    {
     "name": "stdout",
     "output_type": "stream",
     "text": [
      "Epoch: 13 Training, loss: 0.52433, correct/total: 522 / 692, accuracy:75.434 \n"
     ]
    }
   ],
   "source": [
    "study=optuna.create_study(direction=\"minimize\")\n",
    "study.optimize(hyptuning,n_trials=3)\n",
    "print(\"Mejor resultado\")\n",
    "versions=study.best_trial\n",
    "print(versions.values)\n",
    "print(versions.params)"
   ]
  }
 ],
 "metadata": {
  "kernelspec": {
   "display_name": "Python 3",
   "language": "python",
   "name": "python3"
  },
  "language_info": {
   "codemirror_mode": {
    "name": "ipython",
    "version": 3
   },
   "file_extension": ".py",
   "mimetype": "text/x-python",
   "name": "python",
   "nbconvert_exporter": "python",
   "pygments_lexer": "ipython3",
   "version": "3.6.4"
  },
  "papermill": {
   "default_parameters": {},
   "duration": null,
   "end_time": null,
   "environment_variables": {},
   "exception": null,
   "input_path": "__notebook__.ipynb",
   "output_path": "__notebook__.ipynb",
   "parameters": {},
   "start_time": "2022-05-27T16:59:36.191055",
   "version": "2.3.3"
  }
 },
 "nbformat": 4,
 "nbformat_minor": 5
}